{
  "nbformat": 4,
  "nbformat_minor": 0,
  "metadata": {
    "colab": {
      "name": "L3_S4_Time_Series_Mini_Project_Brief_Manmohan.ipynb",
      "provenance": []
    },
    "kernelspec": {
      "name": "python3",
      "display_name": "Python 3"
    },
    "language_info": {
      "name": "python"
    }
  },
  "cells": [
    {
      "cell_type": "code",
      "execution_count": null,
      "metadata": {
        "colab": {
          "base_uri": "https://localhost:8080/"
        },
        "id": "r496DmFD5bbj",
        "outputId": "11ff9c24-6f90-4891-a392-b84e92308a53"
      },
      "outputs": [
        {
          "output_type": "stream",
          "name": "stdout",
          "text": [
            "Mounted at /content/drive\n"
          ]
        }
      ],
      "source": [
        "from google.colab import drive\n",
        "drive.mount('/content/drive')"
      ]
    },
    {
      "cell_type": "code",
      "source": [
        "#Importing required libraries\n",
        "\n",
        "import pandas as pd\n",
        "import numpy as np\n",
        "\n",
        "import matplotlib.pyplot as plt\n",
        "\n",
        "from statsmodels.tsa.seasonal import seasonal_decompose\n",
        "from statsmodels.tsa.stattools import adfuller, pacf, acf\n",
        "\n",
        "#ARIMA model\n",
        "from statsmodels.tsa.arima_model import ARIMA\n",
        "\n",
        "#SARIMA MODEL\n",
        "from statsmodels.tsa.statespace.sarimax import SARIMAX\n",
        "\n",
        "#plotting acf and pacf \n",
        "from statsmodels.graphics.tsaplots import plot_acf, plot_pacf\n",
        "\n",
        "from sklearn.metrics import mean_squared_error\n",
        "\n",
        "import warnings\n",
        "warnings.filterwarnings('ignore')\n",
        "\n",
        "# dickey fuller test for stationarity check\n",
        "from statsmodels.tsa.stattools import adfuller,acf,pacf\n",
        "\n",
        "from statsmodels.tsa.seasonal import seasonal_decompose\n",
        "from statsmodels.tsa.api import SimpleExpSmoothing\n",
        "from statsmodels.tsa.api import ExponentialSmoothing\n",
        "\n",
        "\n",
        "# pip install pmdarima\n",
        "from pmdarima.arima import auto_arima\n",
        "from statsmodels.tsa.arima.model import ARIMA\n",
        "from statsmodels.graphics.tsaplots import plot_acf,plot_pacf\n",
        "\n",
        "from sklearn.metrics import mean_squared_error\n",
        "import statsmodels.api as sm\n",
        "\n",
        "from statsmodels.tsa.stattools import adfuller\n",
        "from statsmodels.tsa.seasonal import seasonal_decompose\n",
        "\n",
        "# ACF and PACF charts\n",
        "from statsmodels.graphics.tsaplots import plot_acf, plot_pacf\n",
        "\n",
        "# SARIMA/SARIMAX model\n",
        "from statsmodels.tsa.statespace.sarimax import SARIMAX\n",
        "\n",
        "# MSE/RMSE\n",
        "from sklearn.metrics import mean_squared_error"
      ],
      "metadata": {
        "id": "3dgNn2cI6cyk"
      },
      "execution_count": null,
      "outputs": []
    },
    {
      "cell_type": "markdown",
      "source": [
        "## Reading the data"
      ],
      "metadata": {
        "id": "C8lKkM8x-MWm"
      }
    },
    {
      "cell_type": "code",
      "source": [
        "#reading the file\n",
        "storesales=(\"/content/drive/MyDrive/Mini_Project/DS3_C6_S4_TimeSeries_Sales_Data_Project.xls\")\n",
        "storesales_data= pd.read_excel(storesales, parse_dates=True, index_col='Order Date')\n",
        "storesales_data.head()"
      ],
      "metadata": {
        "colab": {
          "base_uri": "https://localhost:8080/",
          "height": 649
        },
        "id": "Mbx2ebds7W47",
        "outputId": "4916a538-384e-4464-cc49-3d373942ca78"
      },
      "execution_count": null,
      "outputs": [
        {
          "output_type": "execute_result",
          "data": {
            "text/plain": [
              "            Row ID        Order ID  Ship Date       Ship Mode Customer ID  \\\n",
              "Order Date                                                                  \n",
              "2016-11-08       1  CA-2016-152156 2016-11-11    Second Class    CG-12520   \n",
              "2016-11-08       2  CA-2016-152156 2016-11-11    Second Class    CG-12520   \n",
              "2016-06-12       3  CA-2016-138688 2016-06-16    Second Class    DV-13045   \n",
              "2015-10-11       4  US-2015-108966 2015-10-18  Standard Class    SO-20335   \n",
              "2015-10-11       5  US-2015-108966 2015-10-18  Standard Class    SO-20335   \n",
              "\n",
              "              Customer Name    Segment        Country             City  \\\n",
              "Order Date                                                               \n",
              "2016-11-08      Claire Gute   Consumer  United States        Henderson   \n",
              "2016-11-08      Claire Gute   Consumer  United States        Henderson   \n",
              "2016-06-12  Darrin Van Huff  Corporate  United States      Los Angeles   \n",
              "2015-10-11   Sean O'Donnell   Consumer  United States  Fort Lauderdale   \n",
              "2015-10-11   Sean O'Donnell   Consumer  United States  Fort Lauderdale   \n",
              "\n",
              "                 State  Postal Code Region       Product ID         Category  \\\n",
              "Order Date                                                                     \n",
              "2016-11-08    Kentucky        42420  South  FUR-BO-10001798        Furniture   \n",
              "2016-11-08    Kentucky        42420  South  FUR-CH-10000454        Furniture   \n",
              "2016-06-12  California        90036   West  OFF-LA-10000240  Office Supplies   \n",
              "2015-10-11     Florida        33311  South  FUR-TA-10000577        Furniture   \n",
              "2015-10-11     Florida        33311  South  OFF-ST-10000760  Office Supplies   \n",
              "\n",
              "           Sub-Category                                       Product Name  \\\n",
              "Order Date                                                                   \n",
              "2016-11-08    Bookcases                  Bush Somerset Collection Bookcase   \n",
              "2016-11-08       Chairs  Hon Deluxe Fabric Upholstered Stacking Chairs,...   \n",
              "2016-06-12       Labels  Self-Adhesive Address Labels for Typewriters b...   \n",
              "2015-10-11       Tables      Bretford CR4500 Series Slim Rectangular Table   \n",
              "2015-10-11      Storage                     Eldon Fold 'N Roll Cart System   \n",
              "\n",
              "               Sales  Quantity  Discount    Profit  \n",
              "Order Date                                          \n",
              "2016-11-08  261.9600         2      0.00   41.9136  \n",
              "2016-11-08  731.9400         3      0.00  219.5820  \n",
              "2016-06-12   14.6200         2      0.00    6.8714  \n",
              "2015-10-11  957.5775         5      0.45 -383.0310  \n",
              "2015-10-11   22.3680         2      0.20    2.5164  "
            ],
            "text/html": [
              "\n",
              "  <div id=\"df-4e1eb309-ac85-4fd2-b220-079f6ad80ba3\">\n",
              "    <div class=\"colab-df-container\">\n",
              "      <div>\n",
              "<style scoped>\n",
              "    .dataframe tbody tr th:only-of-type {\n",
              "        vertical-align: middle;\n",
              "    }\n",
              "\n",
              "    .dataframe tbody tr th {\n",
              "        vertical-align: top;\n",
              "    }\n",
              "\n",
              "    .dataframe thead th {\n",
              "        text-align: right;\n",
              "    }\n",
              "</style>\n",
              "<table border=\"1\" class=\"dataframe\">\n",
              "  <thead>\n",
              "    <tr style=\"text-align: right;\">\n",
              "      <th></th>\n",
              "      <th>Row ID</th>\n",
              "      <th>Order ID</th>\n",
              "      <th>Ship Date</th>\n",
              "      <th>Ship Mode</th>\n",
              "      <th>Customer ID</th>\n",
              "      <th>Customer Name</th>\n",
              "      <th>Segment</th>\n",
              "      <th>Country</th>\n",
              "      <th>City</th>\n",
              "      <th>State</th>\n",
              "      <th>Postal Code</th>\n",
              "      <th>Region</th>\n",
              "      <th>Product ID</th>\n",
              "      <th>Category</th>\n",
              "      <th>Sub-Category</th>\n",
              "      <th>Product Name</th>\n",
              "      <th>Sales</th>\n",
              "      <th>Quantity</th>\n",
              "      <th>Discount</th>\n",
              "      <th>Profit</th>\n",
              "    </tr>\n",
              "    <tr>\n",
              "      <th>Order Date</th>\n",
              "      <th></th>\n",
              "      <th></th>\n",
              "      <th></th>\n",
              "      <th></th>\n",
              "      <th></th>\n",
              "      <th></th>\n",
              "      <th></th>\n",
              "      <th></th>\n",
              "      <th></th>\n",
              "      <th></th>\n",
              "      <th></th>\n",
              "      <th></th>\n",
              "      <th></th>\n",
              "      <th></th>\n",
              "      <th></th>\n",
              "      <th></th>\n",
              "      <th></th>\n",
              "      <th></th>\n",
              "      <th></th>\n",
              "      <th></th>\n",
              "    </tr>\n",
              "  </thead>\n",
              "  <tbody>\n",
              "    <tr>\n",
              "      <th>2016-11-08</th>\n",
              "      <td>1</td>\n",
              "      <td>CA-2016-152156</td>\n",
              "      <td>2016-11-11</td>\n",
              "      <td>Second Class</td>\n",
              "      <td>CG-12520</td>\n",
              "      <td>Claire Gute</td>\n",
              "      <td>Consumer</td>\n",
              "      <td>United States</td>\n",
              "      <td>Henderson</td>\n",
              "      <td>Kentucky</td>\n",
              "      <td>42420</td>\n",
              "      <td>South</td>\n",
              "      <td>FUR-BO-10001798</td>\n",
              "      <td>Furniture</td>\n",
              "      <td>Bookcases</td>\n",
              "      <td>Bush Somerset Collection Bookcase</td>\n",
              "      <td>261.9600</td>\n",
              "      <td>2</td>\n",
              "      <td>0.00</td>\n",
              "      <td>41.9136</td>\n",
              "    </tr>\n",
              "    <tr>\n",
              "      <th>2016-11-08</th>\n",
              "      <td>2</td>\n",
              "      <td>CA-2016-152156</td>\n",
              "      <td>2016-11-11</td>\n",
              "      <td>Second Class</td>\n",
              "      <td>CG-12520</td>\n",
              "      <td>Claire Gute</td>\n",
              "      <td>Consumer</td>\n",
              "      <td>United States</td>\n",
              "      <td>Henderson</td>\n",
              "      <td>Kentucky</td>\n",
              "      <td>42420</td>\n",
              "      <td>South</td>\n",
              "      <td>FUR-CH-10000454</td>\n",
              "      <td>Furniture</td>\n",
              "      <td>Chairs</td>\n",
              "      <td>Hon Deluxe Fabric Upholstered Stacking Chairs,...</td>\n",
              "      <td>731.9400</td>\n",
              "      <td>3</td>\n",
              "      <td>0.00</td>\n",
              "      <td>219.5820</td>\n",
              "    </tr>\n",
              "    <tr>\n",
              "      <th>2016-06-12</th>\n",
              "      <td>3</td>\n",
              "      <td>CA-2016-138688</td>\n",
              "      <td>2016-06-16</td>\n",
              "      <td>Second Class</td>\n",
              "      <td>DV-13045</td>\n",
              "      <td>Darrin Van Huff</td>\n",
              "      <td>Corporate</td>\n",
              "      <td>United States</td>\n",
              "      <td>Los Angeles</td>\n",
              "      <td>California</td>\n",
              "      <td>90036</td>\n",
              "      <td>West</td>\n",
              "      <td>OFF-LA-10000240</td>\n",
              "      <td>Office Supplies</td>\n",
              "      <td>Labels</td>\n",
              "      <td>Self-Adhesive Address Labels for Typewriters b...</td>\n",
              "      <td>14.6200</td>\n",
              "      <td>2</td>\n",
              "      <td>0.00</td>\n",
              "      <td>6.8714</td>\n",
              "    </tr>\n",
              "    <tr>\n",
              "      <th>2015-10-11</th>\n",
              "      <td>4</td>\n",
              "      <td>US-2015-108966</td>\n",
              "      <td>2015-10-18</td>\n",
              "      <td>Standard Class</td>\n",
              "      <td>SO-20335</td>\n",
              "      <td>Sean O'Donnell</td>\n",
              "      <td>Consumer</td>\n",
              "      <td>United States</td>\n",
              "      <td>Fort Lauderdale</td>\n",
              "      <td>Florida</td>\n",
              "      <td>33311</td>\n",
              "      <td>South</td>\n",
              "      <td>FUR-TA-10000577</td>\n",
              "      <td>Furniture</td>\n",
              "      <td>Tables</td>\n",
              "      <td>Bretford CR4500 Series Slim Rectangular Table</td>\n",
              "      <td>957.5775</td>\n",
              "      <td>5</td>\n",
              "      <td>0.45</td>\n",
              "      <td>-383.0310</td>\n",
              "    </tr>\n",
              "    <tr>\n",
              "      <th>2015-10-11</th>\n",
              "      <td>5</td>\n",
              "      <td>US-2015-108966</td>\n",
              "      <td>2015-10-18</td>\n",
              "      <td>Standard Class</td>\n",
              "      <td>SO-20335</td>\n",
              "      <td>Sean O'Donnell</td>\n",
              "      <td>Consumer</td>\n",
              "      <td>United States</td>\n",
              "      <td>Fort Lauderdale</td>\n",
              "      <td>Florida</td>\n",
              "      <td>33311</td>\n",
              "      <td>South</td>\n",
              "      <td>OFF-ST-10000760</td>\n",
              "      <td>Office Supplies</td>\n",
              "      <td>Storage</td>\n",
              "      <td>Eldon Fold 'N Roll Cart System</td>\n",
              "      <td>22.3680</td>\n",
              "      <td>2</td>\n",
              "      <td>0.20</td>\n",
              "      <td>2.5164</td>\n",
              "    </tr>\n",
              "  </tbody>\n",
              "</table>\n",
              "</div>\n",
              "      <button class=\"colab-df-convert\" onclick=\"convertToInteractive('df-4e1eb309-ac85-4fd2-b220-079f6ad80ba3')\"\n",
              "              title=\"Convert this dataframe to an interactive table.\"\n",
              "              style=\"display:none;\">\n",
              "        \n",
              "  <svg xmlns=\"http://www.w3.org/2000/svg\" height=\"24px\"viewBox=\"0 0 24 24\"\n",
              "       width=\"24px\">\n",
              "    <path d=\"M0 0h24v24H0V0z\" fill=\"none\"/>\n",
              "    <path d=\"M18.56 5.44l.94 2.06.94-2.06 2.06-.94-2.06-.94-.94-2.06-.94 2.06-2.06.94zm-11 1L8.5 8.5l.94-2.06 2.06-.94-2.06-.94L8.5 2.5l-.94 2.06-2.06.94zm10 10l.94 2.06.94-2.06 2.06-.94-2.06-.94-.94-2.06-.94 2.06-2.06.94z\"/><path d=\"M17.41 7.96l-1.37-1.37c-.4-.4-.92-.59-1.43-.59-.52 0-1.04.2-1.43.59L10.3 9.45l-7.72 7.72c-.78.78-.78 2.05 0 2.83L4 21.41c.39.39.9.59 1.41.59.51 0 1.02-.2 1.41-.59l7.78-7.78 2.81-2.81c.8-.78.8-2.07 0-2.86zM5.41 20L4 18.59l7.72-7.72 1.47 1.35L5.41 20z\"/>\n",
              "  </svg>\n",
              "      </button>\n",
              "      \n",
              "  <style>\n",
              "    .colab-df-container {\n",
              "      display:flex;\n",
              "      flex-wrap:wrap;\n",
              "      gap: 12px;\n",
              "    }\n",
              "\n",
              "    .colab-df-convert {\n",
              "      background-color: #E8F0FE;\n",
              "      border: none;\n",
              "      border-radius: 50%;\n",
              "      cursor: pointer;\n",
              "      display: none;\n",
              "      fill: #1967D2;\n",
              "      height: 32px;\n",
              "      padding: 0 0 0 0;\n",
              "      width: 32px;\n",
              "    }\n",
              "\n",
              "    .colab-df-convert:hover {\n",
              "      background-color: #E2EBFA;\n",
              "      box-shadow: 0px 1px 2px rgba(60, 64, 67, 0.3), 0px 1px 3px 1px rgba(60, 64, 67, 0.15);\n",
              "      fill: #174EA6;\n",
              "    }\n",
              "\n",
              "    [theme=dark] .colab-df-convert {\n",
              "      background-color: #3B4455;\n",
              "      fill: #D2E3FC;\n",
              "    }\n",
              "\n",
              "    [theme=dark] .colab-df-convert:hover {\n",
              "      background-color: #434B5C;\n",
              "      box-shadow: 0px 1px 3px 1px rgba(0, 0, 0, 0.15);\n",
              "      filter: drop-shadow(0px 1px 2px rgba(0, 0, 0, 0.3));\n",
              "      fill: #FFFFFF;\n",
              "    }\n",
              "  </style>\n",
              "\n",
              "      <script>\n",
              "        const buttonEl =\n",
              "          document.querySelector('#df-4e1eb309-ac85-4fd2-b220-079f6ad80ba3 button.colab-df-convert');\n",
              "        buttonEl.style.display =\n",
              "          google.colab.kernel.accessAllowed ? 'block' : 'none';\n",
              "\n",
              "        async function convertToInteractive(key) {\n",
              "          const element = document.querySelector('#df-4e1eb309-ac85-4fd2-b220-079f6ad80ba3');\n",
              "          const dataTable =\n",
              "            await google.colab.kernel.invokeFunction('convertToInteractive',\n",
              "                                                     [key], {});\n",
              "          if (!dataTable) return;\n",
              "\n",
              "          const docLinkHtml = 'Like what you see? Visit the ' +\n",
              "            '<a target=\"_blank\" href=https://colab.research.google.com/notebooks/data_table.ipynb>data table notebook</a>'\n",
              "            + ' to learn more about interactive tables.';\n",
              "          element.innerHTML = '';\n",
              "          dataTable['output_type'] = 'display_data';\n",
              "          await google.colab.output.renderOutput(dataTable, element);\n",
              "          const docLink = document.createElement('div');\n",
              "          docLink.innerHTML = docLinkHtml;\n",
              "          element.appendChild(docLink);\n",
              "        }\n",
              "      </script>\n",
              "    </div>\n",
              "  </div>\n",
              "  "
            ]
          },
          "metadata": {},
          "execution_count": 4
        }
      ]
    },
    {
      "cell_type": "code",
      "source": [
        "# size of data\n",
        "storesales_data.shape"
      ],
      "metadata": {
        "colab": {
          "base_uri": "https://localhost:8080/"
        },
        "id": "NCqv-4RgDqTv",
        "outputId": "f82081b2-b5cb-4e79-f324-575b53ee3519"
      },
      "execution_count": null,
      "outputs": [
        {
          "output_type": "execute_result",
          "data": {
            "text/plain": [
              "(9994, 20)"
            ]
          },
          "metadata": {},
          "execution_count": 11
        }
      ]
    },
    {
      "cell_type": "code",
      "source": [
        "# copy of data\n",
        "df = storesales_data.copy()"
      ],
      "metadata": {
        "id": "7Mpkphlj9mzT"
      },
      "execution_count": null,
      "outputs": []
    },
    {
      "cell_type": "code",
      "source": [
        "# checking for null values\n",
        "df.isnull().sum()"
      ],
      "metadata": {
        "colab": {
          "base_uri": "https://localhost:8080/"
        },
        "id": "dYOlzszTB1NX",
        "outputId": "c64bd82b-2043-4d91-d422-c802c84ebde2"
      },
      "execution_count": null,
      "outputs": [
        {
          "output_type": "execute_result",
          "data": {
            "text/plain": [
              "Row ID           0\n",
              "Order ID         0\n",
              "Ship Date        0\n",
              "Ship Mode        0\n",
              "Customer ID      0\n",
              "Customer Name    0\n",
              "Segment          0\n",
              "Country          0\n",
              "City             0\n",
              "State            0\n",
              "Postal Code      0\n",
              "Region           0\n",
              "Product ID       0\n",
              "Category         0\n",
              "Sub-Category     0\n",
              "Product Name     0\n",
              "Sales            0\n",
              "Quantity         0\n",
              "Discount         0\n",
              "Profit           0\n",
              "dtype: int64"
            ]
          },
          "metadata": {},
          "execution_count": 6
        }
      ]
    },
    {
      "cell_type": "markdown",
      "source": [
        "There is no missing value present in dataset so we can skip missing value treatment."
      ],
      "metadata": {
        "id": "HHWBVUguCE-T"
      }
    },
    {
      "cell_type": "code",
      "source": [
        "# selecting records which are having furniture category\n",
        "dff = df[df[\"Category\"]== 'Furniture']\n",
        "dff.head()"
      ],
      "metadata": {
        "colab": {
          "base_uri": "https://localhost:8080/",
          "height": 666
        },
        "id": "RDjmoCBfCC96",
        "outputId": "bfff203f-36da-40bf-ee04-77ca57f0a945"
      },
      "execution_count": null,
      "outputs": [
        {
          "output_type": "execute_result",
          "data": {
            "text/plain": [
              "            Row ID        Order ID  Ship Date       Ship Mode Customer ID  \\\n",
              "Order Date                                                                  \n",
              "2016-11-08       1  CA-2016-152156 2016-11-11    Second Class    CG-12520   \n",
              "2016-11-08       2  CA-2016-152156 2016-11-11    Second Class    CG-12520   \n",
              "2015-10-11       4  US-2015-108966 2015-10-18  Standard Class    SO-20335   \n",
              "2014-06-09       6  CA-2014-115812 2014-06-14  Standard Class    BH-11710   \n",
              "2014-06-09      11  CA-2014-115812 2014-06-14  Standard Class    BH-11710   \n",
              "\n",
              "              Customer Name   Segment        Country             City  \\\n",
              "Order Date                                                              \n",
              "2016-11-08      Claire Gute  Consumer  United States        Henderson   \n",
              "2016-11-08      Claire Gute  Consumer  United States        Henderson   \n",
              "2015-10-11   Sean O'Donnell  Consumer  United States  Fort Lauderdale   \n",
              "2014-06-09  Brosina Hoffman  Consumer  United States      Los Angeles   \n",
              "2014-06-09  Brosina Hoffman  Consumer  United States      Los Angeles   \n",
              "\n",
              "                 State  Postal Code Region       Product ID   Category  \\\n",
              "Order Date                                                               \n",
              "2016-11-08    Kentucky        42420  South  FUR-BO-10001798  Furniture   \n",
              "2016-11-08    Kentucky        42420  South  FUR-CH-10000454  Furniture   \n",
              "2015-10-11     Florida        33311  South  FUR-TA-10000577  Furniture   \n",
              "2014-06-09  California        90032   West  FUR-FU-10001487  Furniture   \n",
              "2014-06-09  California        90032   West  FUR-TA-10001539  Furniture   \n",
              "\n",
              "           Sub-Category                                       Product Name  \\\n",
              "Order Date                                                                   \n",
              "2016-11-08    Bookcases                  Bush Somerset Collection Bookcase   \n",
              "2016-11-08       Chairs  Hon Deluxe Fabric Upholstered Stacking Chairs,...   \n",
              "2015-10-11       Tables      Bretford CR4500 Series Slim Rectangular Table   \n",
              "2014-06-09  Furnishings  Eldon Expressions Wood and Plastic Desk Access...   \n",
              "2014-06-09       Tables           Chromcraft Rectangular Conference Tables   \n",
              "\n",
              "                Sales  Quantity  Discount    Profit  \n",
              "Order Date                                           \n",
              "2016-11-08   261.9600         2      0.00   41.9136  \n",
              "2016-11-08   731.9400         3      0.00  219.5820  \n",
              "2015-10-11   957.5775         5      0.45 -383.0310  \n",
              "2014-06-09    48.8600         7      0.00   14.1694  \n",
              "2014-06-09  1706.1840         9      0.20   85.3092  "
            ],
            "text/html": [
              "\n",
              "  <div id=\"df-6d26f282-ed7e-4d82-98e9-66196615a94b\">\n",
              "    <div class=\"colab-df-container\">\n",
              "      <div>\n",
              "<style scoped>\n",
              "    .dataframe tbody tr th:only-of-type {\n",
              "        vertical-align: middle;\n",
              "    }\n",
              "\n",
              "    .dataframe tbody tr th {\n",
              "        vertical-align: top;\n",
              "    }\n",
              "\n",
              "    .dataframe thead th {\n",
              "        text-align: right;\n",
              "    }\n",
              "</style>\n",
              "<table border=\"1\" class=\"dataframe\">\n",
              "  <thead>\n",
              "    <tr style=\"text-align: right;\">\n",
              "      <th></th>\n",
              "      <th>Row ID</th>\n",
              "      <th>Order ID</th>\n",
              "      <th>Ship Date</th>\n",
              "      <th>Ship Mode</th>\n",
              "      <th>Customer ID</th>\n",
              "      <th>Customer Name</th>\n",
              "      <th>Segment</th>\n",
              "      <th>Country</th>\n",
              "      <th>City</th>\n",
              "      <th>State</th>\n",
              "      <th>Postal Code</th>\n",
              "      <th>Region</th>\n",
              "      <th>Product ID</th>\n",
              "      <th>Category</th>\n",
              "      <th>Sub-Category</th>\n",
              "      <th>Product Name</th>\n",
              "      <th>Sales</th>\n",
              "      <th>Quantity</th>\n",
              "      <th>Discount</th>\n",
              "      <th>Profit</th>\n",
              "    </tr>\n",
              "    <tr>\n",
              "      <th>Order Date</th>\n",
              "      <th></th>\n",
              "      <th></th>\n",
              "      <th></th>\n",
              "      <th></th>\n",
              "      <th></th>\n",
              "      <th></th>\n",
              "      <th></th>\n",
              "      <th></th>\n",
              "      <th></th>\n",
              "      <th></th>\n",
              "      <th></th>\n",
              "      <th></th>\n",
              "      <th></th>\n",
              "      <th></th>\n",
              "      <th></th>\n",
              "      <th></th>\n",
              "      <th></th>\n",
              "      <th></th>\n",
              "      <th></th>\n",
              "      <th></th>\n",
              "    </tr>\n",
              "  </thead>\n",
              "  <tbody>\n",
              "    <tr>\n",
              "      <th>2016-11-08</th>\n",
              "      <td>1</td>\n",
              "      <td>CA-2016-152156</td>\n",
              "      <td>2016-11-11</td>\n",
              "      <td>Second Class</td>\n",
              "      <td>CG-12520</td>\n",
              "      <td>Claire Gute</td>\n",
              "      <td>Consumer</td>\n",
              "      <td>United States</td>\n",
              "      <td>Henderson</td>\n",
              "      <td>Kentucky</td>\n",
              "      <td>42420</td>\n",
              "      <td>South</td>\n",
              "      <td>FUR-BO-10001798</td>\n",
              "      <td>Furniture</td>\n",
              "      <td>Bookcases</td>\n",
              "      <td>Bush Somerset Collection Bookcase</td>\n",
              "      <td>261.9600</td>\n",
              "      <td>2</td>\n",
              "      <td>0.00</td>\n",
              "      <td>41.9136</td>\n",
              "    </tr>\n",
              "    <tr>\n",
              "      <th>2016-11-08</th>\n",
              "      <td>2</td>\n",
              "      <td>CA-2016-152156</td>\n",
              "      <td>2016-11-11</td>\n",
              "      <td>Second Class</td>\n",
              "      <td>CG-12520</td>\n",
              "      <td>Claire Gute</td>\n",
              "      <td>Consumer</td>\n",
              "      <td>United States</td>\n",
              "      <td>Henderson</td>\n",
              "      <td>Kentucky</td>\n",
              "      <td>42420</td>\n",
              "      <td>South</td>\n",
              "      <td>FUR-CH-10000454</td>\n",
              "      <td>Furniture</td>\n",
              "      <td>Chairs</td>\n",
              "      <td>Hon Deluxe Fabric Upholstered Stacking Chairs,...</td>\n",
              "      <td>731.9400</td>\n",
              "      <td>3</td>\n",
              "      <td>0.00</td>\n",
              "      <td>219.5820</td>\n",
              "    </tr>\n",
              "    <tr>\n",
              "      <th>2015-10-11</th>\n",
              "      <td>4</td>\n",
              "      <td>US-2015-108966</td>\n",
              "      <td>2015-10-18</td>\n",
              "      <td>Standard Class</td>\n",
              "      <td>SO-20335</td>\n",
              "      <td>Sean O'Donnell</td>\n",
              "      <td>Consumer</td>\n",
              "      <td>United States</td>\n",
              "      <td>Fort Lauderdale</td>\n",
              "      <td>Florida</td>\n",
              "      <td>33311</td>\n",
              "      <td>South</td>\n",
              "      <td>FUR-TA-10000577</td>\n",
              "      <td>Furniture</td>\n",
              "      <td>Tables</td>\n",
              "      <td>Bretford CR4500 Series Slim Rectangular Table</td>\n",
              "      <td>957.5775</td>\n",
              "      <td>5</td>\n",
              "      <td>0.45</td>\n",
              "      <td>-383.0310</td>\n",
              "    </tr>\n",
              "    <tr>\n",
              "      <th>2014-06-09</th>\n",
              "      <td>6</td>\n",
              "      <td>CA-2014-115812</td>\n",
              "      <td>2014-06-14</td>\n",
              "      <td>Standard Class</td>\n",
              "      <td>BH-11710</td>\n",
              "      <td>Brosina Hoffman</td>\n",
              "      <td>Consumer</td>\n",
              "      <td>United States</td>\n",
              "      <td>Los Angeles</td>\n",
              "      <td>California</td>\n",
              "      <td>90032</td>\n",
              "      <td>West</td>\n",
              "      <td>FUR-FU-10001487</td>\n",
              "      <td>Furniture</td>\n",
              "      <td>Furnishings</td>\n",
              "      <td>Eldon Expressions Wood and Plastic Desk Access...</td>\n",
              "      <td>48.8600</td>\n",
              "      <td>7</td>\n",
              "      <td>0.00</td>\n",
              "      <td>14.1694</td>\n",
              "    </tr>\n",
              "    <tr>\n",
              "      <th>2014-06-09</th>\n",
              "      <td>11</td>\n",
              "      <td>CA-2014-115812</td>\n",
              "      <td>2014-06-14</td>\n",
              "      <td>Standard Class</td>\n",
              "      <td>BH-11710</td>\n",
              "      <td>Brosina Hoffman</td>\n",
              "      <td>Consumer</td>\n",
              "      <td>United States</td>\n",
              "      <td>Los Angeles</td>\n",
              "      <td>California</td>\n",
              "      <td>90032</td>\n",
              "      <td>West</td>\n",
              "      <td>FUR-TA-10001539</td>\n",
              "      <td>Furniture</td>\n",
              "      <td>Tables</td>\n",
              "      <td>Chromcraft Rectangular Conference Tables</td>\n",
              "      <td>1706.1840</td>\n",
              "      <td>9</td>\n",
              "      <td>0.20</td>\n",
              "      <td>85.3092</td>\n",
              "    </tr>\n",
              "  </tbody>\n",
              "</table>\n",
              "</div>\n",
              "      <button class=\"colab-df-convert\" onclick=\"convertToInteractive('df-6d26f282-ed7e-4d82-98e9-66196615a94b')\"\n",
              "              title=\"Convert this dataframe to an interactive table.\"\n",
              "              style=\"display:none;\">\n",
              "        \n",
              "  <svg xmlns=\"http://www.w3.org/2000/svg\" height=\"24px\"viewBox=\"0 0 24 24\"\n",
              "       width=\"24px\">\n",
              "    <path d=\"M0 0h24v24H0V0z\" fill=\"none\"/>\n",
              "    <path d=\"M18.56 5.44l.94 2.06.94-2.06 2.06-.94-2.06-.94-.94-2.06-.94 2.06-2.06.94zm-11 1L8.5 8.5l.94-2.06 2.06-.94-2.06-.94L8.5 2.5l-.94 2.06-2.06.94zm10 10l.94 2.06.94-2.06 2.06-.94-2.06-.94-.94-2.06-.94 2.06-2.06.94z\"/><path d=\"M17.41 7.96l-1.37-1.37c-.4-.4-.92-.59-1.43-.59-.52 0-1.04.2-1.43.59L10.3 9.45l-7.72 7.72c-.78.78-.78 2.05 0 2.83L4 21.41c.39.39.9.59 1.41.59.51 0 1.02-.2 1.41-.59l7.78-7.78 2.81-2.81c.8-.78.8-2.07 0-2.86zM5.41 20L4 18.59l7.72-7.72 1.47 1.35L5.41 20z\"/>\n",
              "  </svg>\n",
              "      </button>\n",
              "      \n",
              "  <style>\n",
              "    .colab-df-container {\n",
              "      display:flex;\n",
              "      flex-wrap:wrap;\n",
              "      gap: 12px;\n",
              "    }\n",
              "\n",
              "    .colab-df-convert {\n",
              "      background-color: #E8F0FE;\n",
              "      border: none;\n",
              "      border-radius: 50%;\n",
              "      cursor: pointer;\n",
              "      display: none;\n",
              "      fill: #1967D2;\n",
              "      height: 32px;\n",
              "      padding: 0 0 0 0;\n",
              "      width: 32px;\n",
              "    }\n",
              "\n",
              "    .colab-df-convert:hover {\n",
              "      background-color: #E2EBFA;\n",
              "      box-shadow: 0px 1px 2px rgba(60, 64, 67, 0.3), 0px 1px 3px 1px rgba(60, 64, 67, 0.15);\n",
              "      fill: #174EA6;\n",
              "    }\n",
              "\n",
              "    [theme=dark] .colab-df-convert {\n",
              "      background-color: #3B4455;\n",
              "      fill: #D2E3FC;\n",
              "    }\n",
              "\n",
              "    [theme=dark] .colab-df-convert:hover {\n",
              "      background-color: #434B5C;\n",
              "      box-shadow: 0px 1px 3px 1px rgba(0, 0, 0, 0.15);\n",
              "      filter: drop-shadow(0px 1px 2px rgba(0, 0, 0, 0.3));\n",
              "      fill: #FFFFFF;\n",
              "    }\n",
              "  </style>\n",
              "\n",
              "      <script>\n",
              "        const buttonEl =\n",
              "          document.querySelector('#df-6d26f282-ed7e-4d82-98e9-66196615a94b button.colab-df-convert');\n",
              "        buttonEl.style.display =\n",
              "          google.colab.kernel.accessAllowed ? 'block' : 'none';\n",
              "\n",
              "        async function convertToInteractive(key) {\n",
              "          const element = document.querySelector('#df-6d26f282-ed7e-4d82-98e9-66196615a94b');\n",
              "          const dataTable =\n",
              "            await google.colab.kernel.invokeFunction('convertToInteractive',\n",
              "                                                     [key], {});\n",
              "          if (!dataTable) return;\n",
              "\n",
              "          const docLinkHtml = 'Like what you see? Visit the ' +\n",
              "            '<a target=\"_blank\" href=https://colab.research.google.com/notebooks/data_table.ipynb>data table notebook</a>'\n",
              "            + ' to learn more about interactive tables.';\n",
              "          element.innerHTML = '';\n",
              "          dataTable['output_type'] = 'display_data';\n",
              "          await google.colab.output.renderOutput(dataTable, element);\n",
              "          const docLink = document.createElement('div');\n",
              "          docLink.innerHTML = docLinkHtml;\n",
              "          element.appendChild(docLink);\n",
              "        }\n",
              "      </script>\n",
              "    </div>\n",
              "  </div>\n",
              "  "
            ]
          },
          "metadata": {},
          "execution_count": 10
        }
      ]
    },
    {
      "cell_type": "code",
      "source": [
        "dff.shape"
      ],
      "metadata": {
        "colab": {
          "base_uri": "https://localhost:8080/"
        },
        "id": "IpkGH-MID2IJ",
        "outputId": "90a18bfa-dc7f-4778-9090-57992cbb7489"
      },
      "execution_count": null,
      "outputs": [
        {
          "output_type": "execute_result",
          "data": {
            "text/plain": [
              "(2121, 20)"
            ]
          },
          "metadata": {},
          "execution_count": 12
        }
      ]
    },
    {
      "cell_type": "code",
      "source": [
        "# ordering the records by date in ascending order\n",
        "dff = dff.sort_values(by='Order Date', ascending = True)\n",
        "dff.head()"
      ],
      "metadata": {
        "colab": {
          "base_uri": "https://localhost:8080/",
          "height": 735
        },
        "id": "k1dxiPgYCxKY",
        "outputId": "cc7b30e3-bfd8-4426-a3c7-d166bb9fb7f1"
      },
      "execution_count": null,
      "outputs": [
        {
          "output_type": "execute_result",
          "data": {
            "text/plain": [
              "            Row ID        Order ID  Ship Date       Ship Mode Customer ID  \\\n",
              "Order Date                                                                  \n",
              "2014-01-06    7475  CA-2014-167199 2014-01-10  Standard Class    ME-17320   \n",
              "2014-01-07    7661  CA-2014-105417 2014-01-12  Standard Class    VS-21820   \n",
              "2014-01-10     867  CA-2014-149020 2014-01-15  Standard Class    AJ-10780   \n",
              "2014-01-11     717  CA-2014-130092 2014-01-14     First Class    SV-20365   \n",
              "2014-01-13    2979  CA-2014-109232 2014-01-16    Second Class    ND-18370   \n",
              "\n",
              "                Customer Name      Segment        Country            City  \\\n",
              "Order Date                                                                  \n",
              "2014-01-06      Maria Etezadi  Home Office  United States       Henderson   \n",
              "2014-01-07   Vivek Sundaresam     Consumer  United States      Huntsville   \n",
              "2014-01-10     Anthony Jacobs    Corporate  United States     Springfield   \n",
              "2014-01-11        Seth Vernon     Consumer  United States           Dover   \n",
              "2014-01-13  Natalie DeCherney     Consumer  United States  Mount Pleasant   \n",
              "\n",
              "                     State  Postal Code   Region       Product ID   Category  \\\n",
              "Order Date                                                                     \n",
              "2014-01-06        Kentucky        42420    South  FUR-CH-10004063  Furniture   \n",
              "2014-01-07           Texas        77340  Central  FUR-FU-10004864  Furniture   \n",
              "2014-01-10        Virginia        22153    South  FUR-FU-10000965  Furniture   \n",
              "2014-01-11        Delaware        19901     East  FUR-FU-10000010  Furniture   \n",
              "2014-01-13  South Carolina        29464    South  FUR-CH-10000422  Furniture   \n",
              "\n",
              "           Sub-Category                                       Product Name  \\\n",
              "Order Date                                                                   \n",
              "2014-01-06       Chairs            Global Deluxe High-Back Manager's Chair   \n",
              "2014-01-07  Furnishings  Howard Miller 14-1/2\" Diameter Chrome Round Wa...   \n",
              "2014-01-10  Furnishings  Howard Miller 11-1/2\" Diameter Ridgewood Wall ...   \n",
              "2014-01-11  Furnishings    DAX Value U-Channel Document Frames, Easel Back   \n",
              "2014-01-13       Chairs         Global Highback Leather Tilter in Burgundy   \n",
              "\n",
              "               Sales  Quantity  Discount    Profit  \n",
              "Order Date                                          \n",
              "2014-01-06  2573.820         9       0.0  746.4078  \n",
              "2014-01-07    76.728         3       0.6  -53.7096  \n",
              "2014-01-10    51.940         1       0.0   21.2954  \n",
              "2014-01-11     9.940         2       0.0    3.0814  \n",
              "2014-01-13   545.940         6       0.0   87.3504  "
            ],
            "text/html": [
              "\n",
              "  <div id=\"df-da2a8430-220b-4388-9840-6748dba9220f\">\n",
              "    <div class=\"colab-df-container\">\n",
              "      <div>\n",
              "<style scoped>\n",
              "    .dataframe tbody tr th:only-of-type {\n",
              "        vertical-align: middle;\n",
              "    }\n",
              "\n",
              "    .dataframe tbody tr th {\n",
              "        vertical-align: top;\n",
              "    }\n",
              "\n",
              "    .dataframe thead th {\n",
              "        text-align: right;\n",
              "    }\n",
              "</style>\n",
              "<table border=\"1\" class=\"dataframe\">\n",
              "  <thead>\n",
              "    <tr style=\"text-align: right;\">\n",
              "      <th></th>\n",
              "      <th>Row ID</th>\n",
              "      <th>Order ID</th>\n",
              "      <th>Ship Date</th>\n",
              "      <th>Ship Mode</th>\n",
              "      <th>Customer ID</th>\n",
              "      <th>Customer Name</th>\n",
              "      <th>Segment</th>\n",
              "      <th>Country</th>\n",
              "      <th>City</th>\n",
              "      <th>State</th>\n",
              "      <th>Postal Code</th>\n",
              "      <th>Region</th>\n",
              "      <th>Product ID</th>\n",
              "      <th>Category</th>\n",
              "      <th>Sub-Category</th>\n",
              "      <th>Product Name</th>\n",
              "      <th>Sales</th>\n",
              "      <th>Quantity</th>\n",
              "      <th>Discount</th>\n",
              "      <th>Profit</th>\n",
              "    </tr>\n",
              "    <tr>\n",
              "      <th>Order Date</th>\n",
              "      <th></th>\n",
              "      <th></th>\n",
              "      <th></th>\n",
              "      <th></th>\n",
              "      <th></th>\n",
              "      <th></th>\n",
              "      <th></th>\n",
              "      <th></th>\n",
              "      <th></th>\n",
              "      <th></th>\n",
              "      <th></th>\n",
              "      <th></th>\n",
              "      <th></th>\n",
              "      <th></th>\n",
              "      <th></th>\n",
              "      <th></th>\n",
              "      <th></th>\n",
              "      <th></th>\n",
              "      <th></th>\n",
              "      <th></th>\n",
              "    </tr>\n",
              "  </thead>\n",
              "  <tbody>\n",
              "    <tr>\n",
              "      <th>2014-01-06</th>\n",
              "      <td>7475</td>\n",
              "      <td>CA-2014-167199</td>\n",
              "      <td>2014-01-10</td>\n",
              "      <td>Standard Class</td>\n",
              "      <td>ME-17320</td>\n",
              "      <td>Maria Etezadi</td>\n",
              "      <td>Home Office</td>\n",
              "      <td>United States</td>\n",
              "      <td>Henderson</td>\n",
              "      <td>Kentucky</td>\n",
              "      <td>42420</td>\n",
              "      <td>South</td>\n",
              "      <td>FUR-CH-10004063</td>\n",
              "      <td>Furniture</td>\n",
              "      <td>Chairs</td>\n",
              "      <td>Global Deluxe High-Back Manager's Chair</td>\n",
              "      <td>2573.820</td>\n",
              "      <td>9</td>\n",
              "      <td>0.0</td>\n",
              "      <td>746.4078</td>\n",
              "    </tr>\n",
              "    <tr>\n",
              "      <th>2014-01-07</th>\n",
              "      <td>7661</td>\n",
              "      <td>CA-2014-105417</td>\n",
              "      <td>2014-01-12</td>\n",
              "      <td>Standard Class</td>\n",
              "      <td>VS-21820</td>\n",
              "      <td>Vivek Sundaresam</td>\n",
              "      <td>Consumer</td>\n",
              "      <td>United States</td>\n",
              "      <td>Huntsville</td>\n",
              "      <td>Texas</td>\n",
              "      <td>77340</td>\n",
              "      <td>Central</td>\n",
              "      <td>FUR-FU-10004864</td>\n",
              "      <td>Furniture</td>\n",
              "      <td>Furnishings</td>\n",
              "      <td>Howard Miller 14-1/2\" Diameter Chrome Round Wa...</td>\n",
              "      <td>76.728</td>\n",
              "      <td>3</td>\n",
              "      <td>0.6</td>\n",
              "      <td>-53.7096</td>\n",
              "    </tr>\n",
              "    <tr>\n",
              "      <th>2014-01-10</th>\n",
              "      <td>867</td>\n",
              "      <td>CA-2014-149020</td>\n",
              "      <td>2014-01-15</td>\n",
              "      <td>Standard Class</td>\n",
              "      <td>AJ-10780</td>\n",
              "      <td>Anthony Jacobs</td>\n",
              "      <td>Corporate</td>\n",
              "      <td>United States</td>\n",
              "      <td>Springfield</td>\n",
              "      <td>Virginia</td>\n",
              "      <td>22153</td>\n",
              "      <td>South</td>\n",
              "      <td>FUR-FU-10000965</td>\n",
              "      <td>Furniture</td>\n",
              "      <td>Furnishings</td>\n",
              "      <td>Howard Miller 11-1/2\" Diameter Ridgewood Wall ...</td>\n",
              "      <td>51.940</td>\n",
              "      <td>1</td>\n",
              "      <td>0.0</td>\n",
              "      <td>21.2954</td>\n",
              "    </tr>\n",
              "    <tr>\n",
              "      <th>2014-01-11</th>\n",
              "      <td>717</td>\n",
              "      <td>CA-2014-130092</td>\n",
              "      <td>2014-01-14</td>\n",
              "      <td>First Class</td>\n",
              "      <td>SV-20365</td>\n",
              "      <td>Seth Vernon</td>\n",
              "      <td>Consumer</td>\n",
              "      <td>United States</td>\n",
              "      <td>Dover</td>\n",
              "      <td>Delaware</td>\n",
              "      <td>19901</td>\n",
              "      <td>East</td>\n",
              "      <td>FUR-FU-10000010</td>\n",
              "      <td>Furniture</td>\n",
              "      <td>Furnishings</td>\n",
              "      <td>DAX Value U-Channel Document Frames, Easel Back</td>\n",
              "      <td>9.940</td>\n",
              "      <td>2</td>\n",
              "      <td>0.0</td>\n",
              "      <td>3.0814</td>\n",
              "    </tr>\n",
              "    <tr>\n",
              "      <th>2014-01-13</th>\n",
              "      <td>2979</td>\n",
              "      <td>CA-2014-109232</td>\n",
              "      <td>2014-01-16</td>\n",
              "      <td>Second Class</td>\n",
              "      <td>ND-18370</td>\n",
              "      <td>Natalie DeCherney</td>\n",
              "      <td>Consumer</td>\n",
              "      <td>United States</td>\n",
              "      <td>Mount Pleasant</td>\n",
              "      <td>South Carolina</td>\n",
              "      <td>29464</td>\n",
              "      <td>South</td>\n",
              "      <td>FUR-CH-10000422</td>\n",
              "      <td>Furniture</td>\n",
              "      <td>Chairs</td>\n",
              "      <td>Global Highback Leather Tilter in Burgundy</td>\n",
              "      <td>545.940</td>\n",
              "      <td>6</td>\n",
              "      <td>0.0</td>\n",
              "      <td>87.3504</td>\n",
              "    </tr>\n",
              "  </tbody>\n",
              "</table>\n",
              "</div>\n",
              "      <button class=\"colab-df-convert\" onclick=\"convertToInteractive('df-da2a8430-220b-4388-9840-6748dba9220f')\"\n",
              "              title=\"Convert this dataframe to an interactive table.\"\n",
              "              style=\"display:none;\">\n",
              "        \n",
              "  <svg xmlns=\"http://www.w3.org/2000/svg\" height=\"24px\"viewBox=\"0 0 24 24\"\n",
              "       width=\"24px\">\n",
              "    <path d=\"M0 0h24v24H0V0z\" fill=\"none\"/>\n",
              "    <path d=\"M18.56 5.44l.94 2.06.94-2.06 2.06-.94-2.06-.94-.94-2.06-.94 2.06-2.06.94zm-11 1L8.5 8.5l.94-2.06 2.06-.94-2.06-.94L8.5 2.5l-.94 2.06-2.06.94zm10 10l.94 2.06.94-2.06 2.06-.94-2.06-.94-.94-2.06-.94 2.06-2.06.94z\"/><path d=\"M17.41 7.96l-1.37-1.37c-.4-.4-.92-.59-1.43-.59-.52 0-1.04.2-1.43.59L10.3 9.45l-7.72 7.72c-.78.78-.78 2.05 0 2.83L4 21.41c.39.39.9.59 1.41.59.51 0 1.02-.2 1.41-.59l7.78-7.78 2.81-2.81c.8-.78.8-2.07 0-2.86zM5.41 20L4 18.59l7.72-7.72 1.47 1.35L5.41 20z\"/>\n",
              "  </svg>\n",
              "      </button>\n",
              "      \n",
              "  <style>\n",
              "    .colab-df-container {\n",
              "      display:flex;\n",
              "      flex-wrap:wrap;\n",
              "      gap: 12px;\n",
              "    }\n",
              "\n",
              "    .colab-df-convert {\n",
              "      background-color: #E8F0FE;\n",
              "      border: none;\n",
              "      border-radius: 50%;\n",
              "      cursor: pointer;\n",
              "      display: none;\n",
              "      fill: #1967D2;\n",
              "      height: 32px;\n",
              "      padding: 0 0 0 0;\n",
              "      width: 32px;\n",
              "    }\n",
              "\n",
              "    .colab-df-convert:hover {\n",
              "      background-color: #E2EBFA;\n",
              "      box-shadow: 0px 1px 2px rgba(60, 64, 67, 0.3), 0px 1px 3px 1px rgba(60, 64, 67, 0.15);\n",
              "      fill: #174EA6;\n",
              "    }\n",
              "\n",
              "    [theme=dark] .colab-df-convert {\n",
              "      background-color: #3B4455;\n",
              "      fill: #D2E3FC;\n",
              "    }\n",
              "\n",
              "    [theme=dark] .colab-df-convert:hover {\n",
              "      background-color: #434B5C;\n",
              "      box-shadow: 0px 1px 3px 1px rgba(0, 0, 0, 0.15);\n",
              "      filter: drop-shadow(0px 1px 2px rgba(0, 0, 0, 0.3));\n",
              "      fill: #FFFFFF;\n",
              "    }\n",
              "  </style>\n",
              "\n",
              "      <script>\n",
              "        const buttonEl =\n",
              "          document.querySelector('#df-da2a8430-220b-4388-9840-6748dba9220f button.colab-df-convert');\n",
              "        buttonEl.style.display =\n",
              "          google.colab.kernel.accessAllowed ? 'block' : 'none';\n",
              "\n",
              "        async function convertToInteractive(key) {\n",
              "          const element = document.querySelector('#df-da2a8430-220b-4388-9840-6748dba9220f');\n",
              "          const dataTable =\n",
              "            await google.colab.kernel.invokeFunction('convertToInteractive',\n",
              "                                                     [key], {});\n",
              "          if (!dataTable) return;\n",
              "\n",
              "          const docLinkHtml = 'Like what you see? Visit the ' +\n",
              "            '<a target=\"_blank\" href=https://colab.research.google.com/notebooks/data_table.ipynb>data table notebook</a>'\n",
              "            + ' to learn more about interactive tables.';\n",
              "          element.innerHTML = '';\n",
              "          dataTable['output_type'] = 'display_data';\n",
              "          await google.colab.output.renderOutput(dataTable, element);\n",
              "          const docLink = document.createElement('div');\n",
              "          docLink.innerHTML = docLinkHtml;\n",
              "          element.appendChild(docLink);\n",
              "        }\n",
              "      </script>\n",
              "    </div>\n",
              "  </div>\n",
              "  "
            ]
          },
          "metadata": {},
          "execution_count": 9
        }
      ]
    },
    {
      "cell_type": "code",
      "source": [
        "# Resampling the data with month-wise\n",
        "dffm = dff.resample('MS').sum()\n",
        "dffm.head()"
      ],
      "metadata": {
        "colab": {
          "base_uri": "https://localhost:8080/",
          "height": 237
        },
        "id": "36werht9DgvZ",
        "outputId": "676606ec-405d-4224-c237-81ae1116c2b5"
      },
      "execution_count": null,
      "outputs": [
        {
          "output_type": "execute_result",
          "data": {
            "text/plain": [
              "            Row ID  Postal Code      Sales  Quantity  Discount     Profit\n",
              "Order Date                                                               \n",
              "2014-01-01   88666      1060353   6242.525        70      2.70   805.4665\n",
              "2014-02-01   44473       464076   1839.658        23      0.80   120.6917\n",
              "2014-03-01  192586      1914913  14573.956       131      7.60 -1128.6550\n",
              "2014-04-01  125557      1702707   7944.837        81      3.45   554.3801\n",
              "2014-05-01  115362      1380475   6912.787        97      6.15  -349.8776"
            ],
            "text/html": [
              "\n",
              "  <div id=\"df-4ab76fc1-e4a4-426f-ac37-677efa37a842\">\n",
              "    <div class=\"colab-df-container\">\n",
              "      <div>\n",
              "<style scoped>\n",
              "    .dataframe tbody tr th:only-of-type {\n",
              "        vertical-align: middle;\n",
              "    }\n",
              "\n",
              "    .dataframe tbody tr th {\n",
              "        vertical-align: top;\n",
              "    }\n",
              "\n",
              "    .dataframe thead th {\n",
              "        text-align: right;\n",
              "    }\n",
              "</style>\n",
              "<table border=\"1\" class=\"dataframe\">\n",
              "  <thead>\n",
              "    <tr style=\"text-align: right;\">\n",
              "      <th></th>\n",
              "      <th>Row ID</th>\n",
              "      <th>Postal Code</th>\n",
              "      <th>Sales</th>\n",
              "      <th>Quantity</th>\n",
              "      <th>Discount</th>\n",
              "      <th>Profit</th>\n",
              "    </tr>\n",
              "    <tr>\n",
              "      <th>Order Date</th>\n",
              "      <th></th>\n",
              "      <th></th>\n",
              "      <th></th>\n",
              "      <th></th>\n",
              "      <th></th>\n",
              "      <th></th>\n",
              "    </tr>\n",
              "  </thead>\n",
              "  <tbody>\n",
              "    <tr>\n",
              "      <th>2014-01-01</th>\n",
              "      <td>88666</td>\n",
              "      <td>1060353</td>\n",
              "      <td>6242.525</td>\n",
              "      <td>70</td>\n",
              "      <td>2.70</td>\n",
              "      <td>805.4665</td>\n",
              "    </tr>\n",
              "    <tr>\n",
              "      <th>2014-02-01</th>\n",
              "      <td>44473</td>\n",
              "      <td>464076</td>\n",
              "      <td>1839.658</td>\n",
              "      <td>23</td>\n",
              "      <td>0.80</td>\n",
              "      <td>120.6917</td>\n",
              "    </tr>\n",
              "    <tr>\n",
              "      <th>2014-03-01</th>\n",
              "      <td>192586</td>\n",
              "      <td>1914913</td>\n",
              "      <td>14573.956</td>\n",
              "      <td>131</td>\n",
              "      <td>7.60</td>\n",
              "      <td>-1128.6550</td>\n",
              "    </tr>\n",
              "    <tr>\n",
              "      <th>2014-04-01</th>\n",
              "      <td>125557</td>\n",
              "      <td>1702707</td>\n",
              "      <td>7944.837</td>\n",
              "      <td>81</td>\n",
              "      <td>3.45</td>\n",
              "      <td>554.3801</td>\n",
              "    </tr>\n",
              "    <tr>\n",
              "      <th>2014-05-01</th>\n",
              "      <td>115362</td>\n",
              "      <td>1380475</td>\n",
              "      <td>6912.787</td>\n",
              "      <td>97</td>\n",
              "      <td>6.15</td>\n",
              "      <td>-349.8776</td>\n",
              "    </tr>\n",
              "  </tbody>\n",
              "</table>\n",
              "</div>\n",
              "      <button class=\"colab-df-convert\" onclick=\"convertToInteractive('df-4ab76fc1-e4a4-426f-ac37-677efa37a842')\"\n",
              "              title=\"Convert this dataframe to an interactive table.\"\n",
              "              style=\"display:none;\">\n",
              "        \n",
              "  <svg xmlns=\"http://www.w3.org/2000/svg\" height=\"24px\"viewBox=\"0 0 24 24\"\n",
              "       width=\"24px\">\n",
              "    <path d=\"M0 0h24v24H0V0z\" fill=\"none\"/>\n",
              "    <path d=\"M18.56 5.44l.94 2.06.94-2.06 2.06-.94-2.06-.94-.94-2.06-.94 2.06-2.06.94zm-11 1L8.5 8.5l.94-2.06 2.06-.94-2.06-.94L8.5 2.5l-.94 2.06-2.06.94zm10 10l.94 2.06.94-2.06 2.06-.94-2.06-.94-.94-2.06-.94 2.06-2.06.94z\"/><path d=\"M17.41 7.96l-1.37-1.37c-.4-.4-.92-.59-1.43-.59-.52 0-1.04.2-1.43.59L10.3 9.45l-7.72 7.72c-.78.78-.78 2.05 0 2.83L4 21.41c.39.39.9.59 1.41.59.51 0 1.02-.2 1.41-.59l7.78-7.78 2.81-2.81c.8-.78.8-2.07 0-2.86zM5.41 20L4 18.59l7.72-7.72 1.47 1.35L5.41 20z\"/>\n",
              "  </svg>\n",
              "      </button>\n",
              "      \n",
              "  <style>\n",
              "    .colab-df-container {\n",
              "      display:flex;\n",
              "      flex-wrap:wrap;\n",
              "      gap: 12px;\n",
              "    }\n",
              "\n",
              "    .colab-df-convert {\n",
              "      background-color: #E8F0FE;\n",
              "      border: none;\n",
              "      border-radius: 50%;\n",
              "      cursor: pointer;\n",
              "      display: none;\n",
              "      fill: #1967D2;\n",
              "      height: 32px;\n",
              "      padding: 0 0 0 0;\n",
              "      width: 32px;\n",
              "    }\n",
              "\n",
              "    .colab-df-convert:hover {\n",
              "      background-color: #E2EBFA;\n",
              "      box-shadow: 0px 1px 2px rgba(60, 64, 67, 0.3), 0px 1px 3px 1px rgba(60, 64, 67, 0.15);\n",
              "      fill: #174EA6;\n",
              "    }\n",
              "\n",
              "    [theme=dark] .colab-df-convert {\n",
              "      background-color: #3B4455;\n",
              "      fill: #D2E3FC;\n",
              "    }\n",
              "\n",
              "    [theme=dark] .colab-df-convert:hover {\n",
              "      background-color: #434B5C;\n",
              "      box-shadow: 0px 1px 3px 1px rgba(0, 0, 0, 0.15);\n",
              "      filter: drop-shadow(0px 1px 2px rgba(0, 0, 0, 0.3));\n",
              "      fill: #FFFFFF;\n",
              "    }\n",
              "  </style>\n",
              "\n",
              "      <script>\n",
              "        const buttonEl =\n",
              "          document.querySelector('#df-4ab76fc1-e4a4-426f-ac37-677efa37a842 button.colab-df-convert');\n",
              "        buttonEl.style.display =\n",
              "          google.colab.kernel.accessAllowed ? 'block' : 'none';\n",
              "\n",
              "        async function convertToInteractive(key) {\n",
              "          const element = document.querySelector('#df-4ab76fc1-e4a4-426f-ac37-677efa37a842');\n",
              "          const dataTable =\n",
              "            await google.colab.kernel.invokeFunction('convertToInteractive',\n",
              "                                                     [key], {});\n",
              "          if (!dataTable) return;\n",
              "\n",
              "          const docLinkHtml = 'Like what you see? Visit the ' +\n",
              "            '<a target=\"_blank\" href=https://colab.research.google.com/notebooks/data_table.ipynb>data table notebook</a>'\n",
              "            + ' to learn more about interactive tables.';\n",
              "          element.innerHTML = '';\n",
              "          dataTable['output_type'] = 'display_data';\n",
              "          await google.colab.output.renderOutput(dataTable, element);\n",
              "          const docLink = document.createElement('div');\n",
              "          docLink.innerHTML = docLinkHtml;\n",
              "          element.appendChild(docLink);\n",
              "        }\n",
              "      </script>\n",
              "    </div>\n",
              "  </div>\n",
              "  "
            ]
          },
          "metadata": {},
          "execution_count": 14
        }
      ]
    },
    {
      "cell_type": "code",
      "source": [
        "storesales = dffm.groupby('Order Date')['Sales'].sum().reset_index()\n",
        "data = storesales.set_index('Order Date')\n",
        "data.head()"
      ],
      "metadata": {
        "colab": {
          "base_uri": "https://localhost:8080/",
          "height": 237
        },
        "id": "1DhFmZpcJwdM",
        "outputId": "a0796bac-8fa5-4072-9999-32b1726a60f1"
      },
      "execution_count": null,
      "outputs": [
        {
          "output_type": "execute_result",
          "data": {
            "text/plain": [
              "                Sales\n",
              "Order Date           \n",
              "2014-01-01   6242.525\n",
              "2014-02-01   1839.658\n",
              "2014-03-01  14573.956\n",
              "2014-04-01   7944.837\n",
              "2014-05-01   6912.787"
            ],
            "text/html": [
              "\n",
              "  <div id=\"df-5415e8b1-52f6-4fe5-ae70-26539c3cfcc2\">\n",
              "    <div class=\"colab-df-container\">\n",
              "      <div>\n",
              "<style scoped>\n",
              "    .dataframe tbody tr th:only-of-type {\n",
              "        vertical-align: middle;\n",
              "    }\n",
              "\n",
              "    .dataframe tbody tr th {\n",
              "        vertical-align: top;\n",
              "    }\n",
              "\n",
              "    .dataframe thead th {\n",
              "        text-align: right;\n",
              "    }\n",
              "</style>\n",
              "<table border=\"1\" class=\"dataframe\">\n",
              "  <thead>\n",
              "    <tr style=\"text-align: right;\">\n",
              "      <th></th>\n",
              "      <th>Sales</th>\n",
              "    </tr>\n",
              "    <tr>\n",
              "      <th>Order Date</th>\n",
              "      <th></th>\n",
              "    </tr>\n",
              "  </thead>\n",
              "  <tbody>\n",
              "    <tr>\n",
              "      <th>2014-01-01</th>\n",
              "      <td>6242.525</td>\n",
              "    </tr>\n",
              "    <tr>\n",
              "      <th>2014-02-01</th>\n",
              "      <td>1839.658</td>\n",
              "    </tr>\n",
              "    <tr>\n",
              "      <th>2014-03-01</th>\n",
              "      <td>14573.956</td>\n",
              "    </tr>\n",
              "    <tr>\n",
              "      <th>2014-04-01</th>\n",
              "      <td>7944.837</td>\n",
              "    </tr>\n",
              "    <tr>\n",
              "      <th>2014-05-01</th>\n",
              "      <td>6912.787</td>\n",
              "    </tr>\n",
              "  </tbody>\n",
              "</table>\n",
              "</div>\n",
              "      <button class=\"colab-df-convert\" onclick=\"convertToInteractive('df-5415e8b1-52f6-4fe5-ae70-26539c3cfcc2')\"\n",
              "              title=\"Convert this dataframe to an interactive table.\"\n",
              "              style=\"display:none;\">\n",
              "        \n",
              "  <svg xmlns=\"http://www.w3.org/2000/svg\" height=\"24px\"viewBox=\"0 0 24 24\"\n",
              "       width=\"24px\">\n",
              "    <path d=\"M0 0h24v24H0V0z\" fill=\"none\"/>\n",
              "    <path d=\"M18.56 5.44l.94 2.06.94-2.06 2.06-.94-2.06-.94-.94-2.06-.94 2.06-2.06.94zm-11 1L8.5 8.5l.94-2.06 2.06-.94-2.06-.94L8.5 2.5l-.94 2.06-2.06.94zm10 10l.94 2.06.94-2.06 2.06-.94-2.06-.94-.94-2.06-.94 2.06-2.06.94z\"/><path d=\"M17.41 7.96l-1.37-1.37c-.4-.4-.92-.59-1.43-.59-.52 0-1.04.2-1.43.59L10.3 9.45l-7.72 7.72c-.78.78-.78 2.05 0 2.83L4 21.41c.39.39.9.59 1.41.59.51 0 1.02-.2 1.41-.59l7.78-7.78 2.81-2.81c.8-.78.8-2.07 0-2.86zM5.41 20L4 18.59l7.72-7.72 1.47 1.35L5.41 20z\"/>\n",
              "  </svg>\n",
              "      </button>\n",
              "      \n",
              "  <style>\n",
              "    .colab-df-container {\n",
              "      display:flex;\n",
              "      flex-wrap:wrap;\n",
              "      gap: 12px;\n",
              "    }\n",
              "\n",
              "    .colab-df-convert {\n",
              "      background-color: #E8F0FE;\n",
              "      border: none;\n",
              "      border-radius: 50%;\n",
              "      cursor: pointer;\n",
              "      display: none;\n",
              "      fill: #1967D2;\n",
              "      height: 32px;\n",
              "      padding: 0 0 0 0;\n",
              "      width: 32px;\n",
              "    }\n",
              "\n",
              "    .colab-df-convert:hover {\n",
              "      background-color: #E2EBFA;\n",
              "      box-shadow: 0px 1px 2px rgba(60, 64, 67, 0.3), 0px 1px 3px 1px rgba(60, 64, 67, 0.15);\n",
              "      fill: #174EA6;\n",
              "    }\n",
              "\n",
              "    [theme=dark] .colab-df-convert {\n",
              "      background-color: #3B4455;\n",
              "      fill: #D2E3FC;\n",
              "    }\n",
              "\n",
              "    [theme=dark] .colab-df-convert:hover {\n",
              "      background-color: #434B5C;\n",
              "      box-shadow: 0px 1px 3px 1px rgba(0, 0, 0, 0.15);\n",
              "      filter: drop-shadow(0px 1px 2px rgba(0, 0, 0, 0.3));\n",
              "      fill: #FFFFFF;\n",
              "    }\n",
              "  </style>\n",
              "\n",
              "      <script>\n",
              "        const buttonEl =\n",
              "          document.querySelector('#df-5415e8b1-52f6-4fe5-ae70-26539c3cfcc2 button.colab-df-convert');\n",
              "        buttonEl.style.display =\n",
              "          google.colab.kernel.accessAllowed ? 'block' : 'none';\n",
              "\n",
              "        async function convertToInteractive(key) {\n",
              "          const element = document.querySelector('#df-5415e8b1-52f6-4fe5-ae70-26539c3cfcc2');\n",
              "          const dataTable =\n",
              "            await google.colab.kernel.invokeFunction('convertToInteractive',\n",
              "                                                     [key], {});\n",
              "          if (!dataTable) return;\n",
              "\n",
              "          const docLinkHtml = 'Like what you see? Visit the ' +\n",
              "            '<a target=\"_blank\" href=https://colab.research.google.com/notebooks/data_table.ipynb>data table notebook</a>'\n",
              "            + ' to learn more about interactive tables.';\n",
              "          element.innerHTML = '';\n",
              "          dataTable['output_type'] = 'display_data';\n",
              "          await google.colab.output.renderOutput(dataTable, element);\n",
              "          const docLink = document.createElement('div');\n",
              "          docLink.innerHTML = docLinkHtml;\n",
              "          element.appendChild(docLink);\n",
              "        }\n",
              "      </script>\n",
              "    </div>\n",
              "  </div>\n",
              "  "
            ]
          },
          "metadata": {},
          "execution_count": 45
        }
      ]
    },
    {
      "cell_type": "code",
      "source": [
        "data = dffm['Sales']\n",
        "data.head()"
      ],
      "metadata": {
        "colab": {
          "base_uri": "https://localhost:8080/"
        },
        "id": "TCZz8hFlFH68",
        "outputId": "eb8f61fa-ddcb-4552-ab42-409c169eca53"
      },
      "execution_count": null,
      "outputs": [
        {
          "output_type": "execute_result",
          "data": {
            "text/plain": [
              "Order Date\n",
              "2014-01-01     6242.525\n",
              "2014-02-01     1839.658\n",
              "2014-03-01    14573.956\n",
              "2014-04-01     7944.837\n",
              "2014-05-01     6912.787\n",
              "Freq: MS, Name: Sales, dtype: float64"
            ]
          },
          "metadata": {},
          "execution_count": 16
        }
      ]
    },
    {
      "cell_type": "code",
      "source": [
        "# plotting the data\n",
        "plt.figure(figsize=(30,10))\n",
        "plt.plot(data)"
      ],
      "metadata": {
        "colab": {
          "base_uri": "https://localhost:8080/",
          "height": 420
        },
        "id": "H4fc73qmFc_B",
        "outputId": "0f41aa31-ff87-4e9a-a2e3-3913abcbd7bf"
      },
      "execution_count": null,
      "outputs": [
        {
          "output_type": "execute_result",
          "data": {
            "text/plain": [
              "[<matplotlib.lines.Line2D at 0x7f97f02e5f90>]"
            ]
          },
          "metadata": {},
          "execution_count": 18
        },
        {
          "output_type": "display_data",
          "data": {
            "text/plain": [
              "<Figure size 2160x720 with 1 Axes>"
            ],
            "image/png": "[encoded data removed]"
          },
          "metadata": {
            "needs_background": "light"
          }
        }
      ]
    },
    {
      "cell_type": "markdown",
      "source": [
        "## Characteristics of time series\n"
      ],
      "metadata": {
        "id": "MpSlYUfzGDon"
      }
    },
    {
      "cell_type": "code",
      "source": [
        "#Decomposing the data using seasonal decompose\n",
        "#data= storesales.Sales\n",
        "decompose= seasonal_decompose(data,period=12)\n",
        "\n",
        "d_trend= decompose.trend\n",
        "d_seasonal= decompose.seasonal\n",
        "d_random= decompose.resid\n",
        "\n",
        "#visualization\n",
        "fig,ax= plt.subplots(4,1, figsize=(30,10))\n",
        "plt.subplot(411)\n",
        "plt.plot(data, label='actual')\n",
        "plt.legend()\n",
        "\n",
        "plt.subplot(412)\n",
        "plt.plot(d_trend, label='trend')\n",
        "plt.legend()\n",
        "\n",
        "plt.subplot(413)\n",
        "plt.plot(d_seasonal, label='seasonal')\n",
        "plt.legend()\n",
        "\n",
        "\n",
        "plt.subplot(414)\n",
        "plt.plot(d_random, label='random')\n",
        "plt.legend()"
      ],
      "metadata": {
        "colab": {
          "base_uri": "https://localhost:8080/",
          "height": 629
        },
        "id": "2epUsm96FwOB",
        "outputId": "d3a44f18-9f18-44d1-a9ec-30541ca75567"
      },
      "execution_count": null,
      "outputs": [
        {
          "output_type": "execute_result",
          "data": {
            "text/plain": [
              "<matplotlib.legend.Legend at 0x7f97ee40b210>"
            ]
          },
          "metadata": {},
          "execution_count": 19
        },
        {
          "output_type": "display_data",
          "data": {
            "text/plain": [
              "<Figure size 2160x720 with 4 Axes>"
            ],
            "image/png": "[encoded data removed]"
          },
          "metadata": {
            "needs_background": "light"
          }
        }
      ]
    },
    {
      "cell_type": "markdown",
      "source": [
        "#### Trend is going upward\n",
        "#### Data is following the seasonality"
      ],
      "metadata": {
        "id": "X2Y2g5-7G4z4"
      }
    },
    {
      "cell_type": "code",
      "source": [
        "# Checking for Stationary\n",
        "def checkStationarity(data):\n",
        "    pvalue = adfuller(data)[1]\n",
        "    if pvalue < 0.05:\n",
        "        ret = \"Data is Stationary. Proceed to model building\"\n",
        "    else:\n",
        "        ret = \"Data is not Stationary. Make is stationary\"\n",
        "        \n",
        "    return(ret)"
      ],
      "metadata": {
        "id": "FZ5ZufG6GVeM"
      },
      "execution_count": null,
      "outputs": []
    },
    {
      "cell_type": "code",
      "source": [
        "checkStationarity(data)"
      ],
      "metadata": {
        "colab": {
          "base_uri": "https://localhost:8080/",
          "height": 35
        },
        "id": "zqAAVcIWHaoX",
        "outputId": "bf761fe7-3f2c-4e2b-c44c-3ccbcfa30d00"
      },
      "execution_count": null,
      "outputs": [
        {
          "output_type": "execute_result",
          "data": {
            "text/plain": [
              "'Data is Stationary. Proceed to model building'"
            ],
            "application/vnd.google.colaboratory.intrinsic+json": {
              "type": "string"
            }
          },
          "metadata": {},
          "execution_count": 21
        }
      ]
    },
    {
      "cell_type": "code",
      "source": [
        "d_acf = acf(data)  # nlags -> number of lags. default=40. can override this  # acf(fb, nlags=20)\n",
        "d_pacf = pacf(data)"
      ],
      "metadata": {
        "id": "_Ncpr0d4LDZc"
      },
      "execution_count": null,
      "outputs": []
    },
    {
      "cell_type": "code",
      "source": [
        "# plot the ACF / PACF\n",
        "\n",
        "fig,ax = plt.subplots(figsize=(8,6))\n",
        "\n",
        "plt.subplot(121)\n",
        "plt.plot(d_acf)\n",
        "plt.axhline(y=0, linestyle=\"--\",color=\"green\")\n",
        "plt.axhline(y=-1.96/np.sqrt(len(data)), linestyle=\"--\", color=\"gray\")\n",
        "plt.axhline(y=1.96/np.sqrt(len(data)), linestyle=\"--\", color=\"gray\")\n",
        "plt.title(\"Auto Correlation Function\")\n",
        "\n",
        "plt.subplot(122)\n",
        "plt.plot(d_pacf)\n",
        "plt.axhline(y=0, linestyle=\"--\",color=\"green\")\n",
        "plt.axhline(y=-1.96/np.sqrt(len(data)), linestyle=\"--\", color=\"gray\")\n",
        "plt.axhline(y=1.96/np.sqrt(len(data)), linestyle=\"--\", color=\"gray\")\n",
        "plt.title(\"Partial Auto Correlation Function\")"
      ],
      "metadata": {
        "colab": {
          "base_uri": "https://localhost:8080/",
          "height": 407
        },
        "id": "2sC3xeLiKx9Q",
        "outputId": "05dec4ec-5d16-4876-b27c-997299c58696"
      },
      "execution_count": null,
      "outputs": [
        {
          "output_type": "execute_result",
          "data": {
            "text/plain": [
              "Text(0.5, 1.0, 'Partial Auto Correlation Function')"
            ]
          },
          "metadata": {},
          "execution_count": 33
        },
        {
          "output_type": "display_data",
          "data": {
            "text/plain": [
              "<Figure size 576x432 with 2 Axes>"
            ],
            "image/png": "[encoded data removed]"
          },
          "metadata": {
            "needs_background": "light"
          }
        }
      ]
    },
    {
      "cell_type": "code",
      "source": [
        "p = 3\n",
        "q = 5"
      ],
      "metadata": {
        "id": "Ubr9u2ngMLRY"
      },
      "execution_count": null,
      "outputs": []
    },
    {
      "cell_type": "code",
      "source": [
        "#splitting the data\n",
        "ratio = 0.7\n",
        "rows = int(ratio * len(data))\n",
        "train = data[:rows]\n",
        "test = data[rows:]\n",
        "\n",
        "print(\"Total={}, Train={}, Test={}\".format(len(data), len(train), len(test)))"
      ],
      "metadata": {
        "colab": {
          "base_uri": "https://localhost:8080/"
        },
        "id": "8FvYxTrrPfJB",
        "outputId": "df2ea475-d812-4ffe-fb2b-b6e51b75913e"
      },
      "execution_count": null,
      "outputs": [
        {
          "output_type": "stream",
          "name": "stdout",
          "text": [
            "Total=48, Train=33, Test=15\n"
          ]
        }
      ]
    },
    {
      "cell_type": "markdown",
      "source": [
        "# ARMA Model"
      ],
      "metadata": {
        "id": "n6Wy7P78Khhn"
      }
    },
    {
      "cell_type": "code",
      "source": [
        "m1 = ARIMA(train,order=(p,0,q)).fit()"
      ],
      "metadata": {
        "id": "dRwyLw-pIPP_"
      },
      "execution_count": null,
      "outputs": []
    },
    {
      "cell_type": "code",
      "source": [
        "# summarise the model\n",
        "m1.summary()"
      ],
      "metadata": {
        "colab": {
          "base_uri": "https://localhost:8080/",
          "height": 597
        },
        "id": "YLQL65pVM1oR",
        "outputId": "d52ee634-283a-436f-864d-a6b9780b03b0"
      },
      "execution_count": null,
      "outputs": [
        {
          "output_type": "execute_result",
          "data": {
            "text/plain": [
              "<class 'statsmodels.iolib.summary.Summary'>\n",
              "\"\"\"\n",
              "                               SARIMAX Results                                \n",
              "==============================================================================\n",
              "Dep. Variable:                  Sales   No. Observations:                   33\n",
              "Model:                 ARIMA(3, 0, 5)   Log Likelihood                -336.334\n",
              "Date:                Tue, 09 Aug 2022   AIC                            692.668\n",
              "Time:                        06:03:58   BIC                            707.633\n",
              "Sample:                    01-01-2014   HQIC                           697.703\n",
              "                         - 09-01-2016                                         \n",
              "Covariance Type:                  opg                                         \n",
              "==============================================================================\n",
              "                 coef    std err          z      P>|z|      [0.025      0.975]\n",
              "------------------------------------------------------------------------------\n",
              "const       1.352e+04   1244.878     10.863      0.000    1.11e+04     1.6e+04\n",
              "ar.L1          0.7145      0.214      3.335      0.001       0.295       1.134\n",
              "ar.L2          0.7212      0.156      4.617      0.000       0.415       1.027\n",
              "ar.L3         -0.9878      0.125     -7.926      0.000      -1.232      -0.743\n",
              "ma.L1         -0.6415      1.034     -0.620      0.535      -2.669       1.386\n",
              "ma.L2         -1.1340      1.154     -0.982      0.326      -3.397       1.129\n",
              "ma.L3          1.1809      0.975      1.211      0.226      -0.730       3.092\n",
              "ma.L4          0.3195      0.567      0.563      0.573      -0.792       1.431\n",
              "ma.L5         -0.4108      0.507     -0.810      0.418      -1.405       0.583\n",
              "sigma2      4.915e+07      0.006   8.74e+09      0.000    4.92e+07    4.92e+07\n",
              "===================================================================================\n",
              "Ljung-Box (L1) (Q):                   0.00   Jarque-Bera (JB):                 1.81\n",
              "Prob(Q):                              0.99   Prob(JB):                         0.40\n",
              "Heteroskedasticity (H):               1.08   Skew:                             0.57\n",
              "Prob(H) (two-sided):                  0.90   Kurtosis:                         2.81\n",
              "===================================================================================\n",
              "\n",
              "Warnings:\n",
              "[1] Covariance matrix calculated using the outer product of gradients (complex-step).\n",
              "[2] Covariance matrix is singular or near-singular, with condition number 5.91e+26. Standard errors may be unstable.\n",
              "\"\"\""
            ],
            "text/html": [
              "<table class=\"simpletable\">\n",
              "<caption>SARIMAX Results</caption>\n",
              "<tr>\n",
              "  <th>Dep. Variable:</th>         <td>Sales</td>      <th>  No. Observations:  </th>    <td>33</td>   \n",
              "</tr>\n",
              "<tr>\n",
              "  <th>Model:</th>            <td>ARIMA(3, 0, 5)</td>  <th>  Log Likelihood     </th> <td>-336.334</td>\n",
              "</tr>\n",
              "<tr>\n",
              "  <th>Date:</th>            <td>Tue, 09 Aug 2022</td> <th>  AIC                </th>  <td>692.668</td>\n",
              "</tr>\n",
              "<tr>\n",
              "  <th>Time:</th>                <td>06:03:58</td>     <th>  BIC                </th>  <td>707.633</td>\n",
              "</tr>\n",
              "<tr>\n",
              "  <th>Sample:</th>             <td>01-01-2014</td>    <th>  HQIC               </th>  <td>697.703</td>\n",
              "</tr>\n",
              "<tr>\n",
              "  <th></th>                   <td>- 09-01-2016</td>   <th>                     </th>     <td> </td>   \n",
              "</tr>\n",
              "<tr>\n",
              "  <th>Covariance Type:</th>        <td>opg</td>       <th>                     </th>     <td> </td>   \n",
              "</tr>\n",
              "</table>\n",
              "<table class=\"simpletable\">\n",
              "<tr>\n",
              "     <td></td>       <th>coef</th>     <th>std err</th>      <th>z</th>      <th>P>|z|</th>  <th>[0.025</th>    <th>0.975]</th>  \n",
              "</tr>\n",
              "<tr>\n",
              "  <th>const</th>  <td> 1.352e+04</td> <td> 1244.878</td> <td>   10.863</td> <td> 0.000</td> <td> 1.11e+04</td> <td>  1.6e+04</td>\n",
              "</tr>\n",
              "<tr>\n",
              "  <th>ar.L1</th>  <td>    0.7145</td> <td>    0.214</td> <td>    3.335</td> <td> 0.001</td> <td>    0.295</td> <td>    1.134</td>\n",
              "</tr>\n",
              "<tr>\n",
              "  <th>ar.L2</th>  <td>    0.7212</td> <td>    0.156</td> <td>    4.617</td> <td> 0.000</td> <td>    0.415</td> <td>    1.027</td>\n",
              "</tr>\n",
              "<tr>\n",
              "  <th>ar.L3</th>  <td>   -0.9878</td> <td>    0.125</td> <td>   -7.926</td> <td> 0.000</td> <td>   -1.232</td> <td>   -0.743</td>\n",
              "</tr>\n",
              "<tr>\n",
              "  <th>ma.L1</th>  <td>   -0.6415</td> <td>    1.034</td> <td>   -0.620</td> <td> 0.535</td> <td>   -2.669</td> <td>    1.386</td>\n",
              "</tr>\n",
              "<tr>\n",
              "  <th>ma.L2</th>  <td>   -1.1340</td> <td>    1.154</td> <td>   -0.982</td> <td> 0.326</td> <td>   -3.397</td> <td>    1.129</td>\n",
              "</tr>\n",
              "<tr>\n",
              "  <th>ma.L3</th>  <td>    1.1809</td> <td>    0.975</td> <td>    1.211</td> <td> 0.226</td> <td>   -0.730</td> <td>    3.092</td>\n",
              "</tr>\n",
              "<tr>\n",
              "  <th>ma.L4</th>  <td>    0.3195</td> <td>    0.567</td> <td>    0.563</td> <td> 0.573</td> <td>   -0.792</td> <td>    1.431</td>\n",
              "</tr>\n",
              "<tr>\n",
              "  <th>ma.L5</th>  <td>   -0.4108</td> <td>    0.507</td> <td>   -0.810</td> <td> 0.418</td> <td>   -1.405</td> <td>    0.583</td>\n",
              "</tr>\n",
              "<tr>\n",
              "  <th>sigma2</th> <td> 4.915e+07</td> <td>    0.006</td> <td> 8.74e+09</td> <td> 0.000</td> <td> 4.92e+07</td> <td> 4.92e+07</td>\n",
              "</tr>\n",
              "</table>\n",
              "<table class=\"simpletable\">\n",
              "<tr>\n",
              "  <th>Ljung-Box (L1) (Q):</th>     <td>0.00</td> <th>  Jarque-Bera (JB):  </th> <td>1.81</td>\n",
              "</tr>\n",
              "<tr>\n",
              "  <th>Prob(Q):</th>                <td>0.99</td> <th>  Prob(JB):          </th> <td>0.40</td>\n",
              "</tr>\n",
              "<tr>\n",
              "  <th>Heteroskedasticity (H):</th> <td>1.08</td> <th>  Skew:              </th> <td>0.57</td>\n",
              "</tr>\n",
              "<tr>\n",
              "  <th>Prob(H) (two-sided):</th>    <td>0.90</td> <th>  Kurtosis:          </th> <td>2.81</td>\n",
              "</tr>\n",
              "</table><br/><br/>Warnings:<br/>[1] Covariance matrix calculated using the outer product of gradients (complex-step).<br/>[2] Covariance matrix is singular or near-singular, with condition number 5.91e+26. Standard errors may be unstable."
            ]
          },
          "metadata": {},
          "execution_count": 38
        }
      ]
    },
    {
      "cell_type": "code",
      "source": [
        "# get the AIC/BIC scores\n",
        "\n",
        "aic1,bic1 = np.round(m1.aic,2), np.round(m1.bic,2)\n",
        "print(\"Model 1: AIC={},BIC={}\".format(aic1,bic1))"
      ],
      "metadata": {
        "colab": {
          "base_uri": "https://localhost:8080/"
        },
        "id": "S83ITaz2M-Da",
        "outputId": "6f1c2351-bfc1-43cc-ae1b-193847ce6e6d"
      },
      "execution_count": null,
      "outputs": [
        {
          "output_type": "stream",
          "name": "stdout",
          "text": [
            "Model 1: AIC=692.67,BIC=707.63\n"
          ]
        }
      ]
    },
    {
      "cell_type": "code",
      "source": [
        "pvalue = sm.stats.acorr_ljungbox(m1.resid, lags=[1], return_df=True)['lb_pvalue'].values\n",
        "\n",
        "if pvalue < 0.05:\n",
        "    print(\"Not a good model\")\n",
        "else:\n",
        "    print(\"Good model\")"
      ],
      "metadata": {
        "colab": {
          "base_uri": "https://localhost:8080/"
        },
        "id": "VTLQyQM0OUSP",
        "outputId": "e1b71ec8-e9b0-4eeb-b4e6-b5bacce84770"
      },
      "execution_count": null,
      "outputs": [
        {
          "output_type": "stream",
          "name": "stdout",
          "text": [
            "Good model\n"
          ]
        }
      ]
    },
    {
      "cell_type": "code",
      "source": [
        "# forecast on the test data\n",
        "f1 = m1.predict(start=0,end=len(test)-1)\n",
        "print(f1.head())"
      ],
      "metadata": {
        "colab": {
          "base_uri": "https://localhost:8080/"
        },
        "id": "iBhOszkdOaI-",
        "outputId": "a34ebca8-120a-4c70-b1ab-410261871c6e"
      },
      "execution_count": null,
      "outputs": [
        {
          "output_type": "stream",
          "name": "stdout",
          "text": [
            "2014-01-01    13523.605725\n",
            "2014-02-01    12506.512550\n",
            "2014-03-01    12619.112374\n",
            "2014-04-01    15228.354964\n",
            "2014-05-01    12884.768054\n",
            "Freq: MS, Name: predicted_mean, dtype: float64\n"
          ]
        }
      ]
    },
    {
      "cell_type": "code",
      "source": [
        "# store actual and predicted data in dataframe\n",
        "actual=[]; pred=[]\n",
        "\n",
        "for i in range(len(f1)):\n",
        "    actual.append(test.Sales[i])\n",
        "    pred.append(f1[i])\n",
        "    \n",
        "df1 = pd.DataFrame({'actual':actual, 'forecast':pred})\n",
        "df1['error'] = df1.actual - df1.forecast\n",
        "print(df1)"
      ],
      "metadata": {
        "colab": {
          "base_uri": "https://localhost:8080/"
        },
        "id": "FOAHsddLOi4F",
        "outputId": "17c1dfb4-b796-42b4-c55b-99bef299cb8a"
      },
      "execution_count": null,
      "outputs": [
        {
          "output_type": "stream",
          "name": "stdout",
          "text": [
            "        actual      forecast         error\n",
            "0   11872.5770  13523.605725  -1651.028725\n",
            "1   31783.6288  12506.512550  19277.116250\n",
            "2   36678.7150  12619.112374  24059.602626\n",
            "3    5964.0320  15228.354964  -9264.322964\n",
            "4    6866.3374  12884.768054  -6018.430654\n",
            "5   10893.4448  15231.695028  -4338.250228\n",
            "6    9065.9581  17961.018071  -8895.059971\n",
            "7   16957.5582  16737.759064    219.799136\n",
            "8   19008.5867  19338.702248   -330.115548\n",
            "9   11813.0220  20077.628981  -8264.606981\n",
            "10  15441.8740  15760.450025   -318.576025\n",
            "11  29028.2060  16809.834129  12218.371871\n",
            "12  21884.0682  13832.060689   8052.007511\n",
            "13  37056.7150   6201.093959  30855.621041\n",
            "14  31407.4668  11404.438889  20003.027911\n"
          ]
        }
      ]
    },
    {
      "cell_type": "code",
      "source": [
        "# Calcualating the MSE\n",
        "mse1 = mean_squared_error(df1.actual, df1.forecast)\n",
        "print(\"ARMA Model 1. p={},q={} \\n\\tMSE = {} \\n\\tRMSE = {}\".format(p,q,mse1, np.sqrt(mse1))  )"
      ],
      "metadata": {
        "colab": {
          "base_uri": "https://localhost:8080/"
        },
        "id": "6577y4qiOyZn",
        "outputId": "a263e5ca-8535-4739-db79-87b1b38d400b"
      },
      "execution_count": null,
      "outputs": [
        {
          "output_type": "stream",
          "name": "stdout",
          "text": [
            "ARMA Model 1. p=3,q=5 \n",
            "\tMSE = 187204379.89819995 \n",
            "\tRMSE = 13682.265159621778\n"
          ]
        }
      ]
    },
    {
      "cell_type": "code",
      "source": [
        "# plot the actual and forecast data\n",
        "df1.actual.plot(figsize=(10,8))\n",
        "df1.forecast.plot(legend=True)\n",
        "plt.title(\"ARMA model 1\")"
      ],
      "metadata": {
        "colab": {
          "base_uri": "https://localhost:8080/",
          "height": 516
        },
        "id": "olqL65Y1P-bm",
        "outputId": "781a5601-6a18-4e24-a5f7-37e824b24c56"
      },
      "execution_count": null,
      "outputs": [
        {
          "output_type": "execute_result",
          "data": {
            "text/plain": [
              "Text(0.5, 1.0, 'ARMA model 1')"
            ]
          },
          "metadata": {},
          "execution_count": 54
        },
        {
          "output_type": "display_data",
          "data": {
            "text/plain": [
              "<Figure size 720x576 with 1 Axes>"
            ],
            "image/png": "[encoded data removed]"
          },
          "metadata": {
            "needs_background": "light"
          }
        }
      ]
    },
    {
      "cell_type": "markdown",
      "source": [
        "# ARIMA Model"
      ],
      "metadata": {
        "id": "P_hUS2AoQj3m"
      }
    },
    {
      "cell_type": "code",
      "source": [
        "# taking some initial values for p and q\n",
        "p=1; q=1; d=1"
      ],
      "metadata": {
        "id": "oJ2QsAGVR0sk"
      },
      "execution_count": null,
      "outputs": []
    },
    {
      "cell_type": "code",
      "source": [
        "m2 = ARIMA(train['Sales'],order=(p,d,q)).fit()"
      ],
      "metadata": {
        "id": "q_P_bYXjQDex"
      },
      "execution_count": null,
      "outputs": []
    },
    {
      "cell_type": "code",
      "source": [
        "# summarise the ARIMA model\n",
        "m2.summary()"
      ],
      "metadata": {
        "colab": {
          "base_uri": "https://localhost:8080/",
          "height": 447
        },
        "id": "RTEYCTYYSidu",
        "outputId": "fb830748-9836-47fd-ce36-32089552edc4"
      },
      "execution_count": null,
      "outputs": [
        {
          "output_type": "execute_result",
          "data": {
            "text/plain": [
              "<class 'statsmodels.iolib.summary.Summary'>\n",
              "\"\"\"\n",
              "                               SARIMAX Results                                \n",
              "==============================================================================\n",
              "Dep. Variable:                  Sales   No. Observations:                   33\n",
              "Model:                 ARIMA(1, 1, 1)   Log Likelihood                -333.210\n",
              "Date:                Tue, 09 Aug 2022   AIC                            672.420\n",
              "Time:                        06:28:43   BIC                            676.817\n",
              "Sample:                    01-01-2014   HQIC                           673.877\n",
              "                         - 09-01-2016                                         \n",
              "Covariance Type:                  opg                                         \n",
              "==============================================================================\n",
              "                 coef    std err          z      P>|z|      [0.025      0.975]\n",
              "------------------------------------------------------------------------------\n",
              "ar.L1          0.1948      0.335      0.581      0.561      -0.462       0.852\n",
              "ma.L1         -0.8895      0.160     -5.568      0.000      -1.203      -0.576\n",
              "sigma2      7.418e+07   3.65e-10   2.03e+17      0.000    7.42e+07    7.42e+07\n",
              "===================================================================================\n",
              "Ljung-Box (L1) (Q):                   0.14   Jarque-Bera (JB):                 2.29\n",
              "Prob(Q):                              0.70   Prob(JB):                         0.32\n",
              "Heteroskedasticity (H):               0.89   Skew:                             0.62\n",
              "Prob(H) (two-sided):                  0.84   Kurtosis:                         2.60\n",
              "===================================================================================\n",
              "\n",
              "Warnings:\n",
              "[1] Covariance matrix calculated using the outer product of gradients (complex-step).\n",
              "[2] Covariance matrix is singular or near-singular, with condition number 2.69e+33. Standard errors may be unstable.\n",
              "\"\"\""
            ],
            "text/html": [
              "<table class=\"simpletable\">\n",
              "<caption>SARIMAX Results</caption>\n",
              "<tr>\n",
              "  <th>Dep. Variable:</th>         <td>Sales</td>      <th>  No. Observations:  </th>    <td>33</td>   \n",
              "</tr>\n",
              "<tr>\n",
              "  <th>Model:</th>            <td>ARIMA(1, 1, 1)</td>  <th>  Log Likelihood     </th> <td>-333.210</td>\n",
              "</tr>\n",
              "<tr>\n",
              "  <th>Date:</th>            <td>Tue, 09 Aug 2022</td> <th>  AIC                </th>  <td>672.420</td>\n",
              "</tr>\n",
              "<tr>\n",
              "  <th>Time:</th>                <td>06:28:43</td>     <th>  BIC                </th>  <td>676.817</td>\n",
              "</tr>\n",
              "<tr>\n",
              "  <th>Sample:</th>             <td>01-01-2014</td>    <th>  HQIC               </th>  <td>673.877</td>\n",
              "</tr>\n",
              "<tr>\n",
              "  <th></th>                   <td>- 09-01-2016</td>   <th>                     </th>     <td> </td>   \n",
              "</tr>\n",
              "<tr>\n",
              "  <th>Covariance Type:</th>        <td>opg</td>       <th>                     </th>     <td> </td>   \n",
              "</tr>\n",
              "</table>\n",
              "<table class=\"simpletable\">\n",
              "<tr>\n",
              "     <td></td>       <th>coef</th>     <th>std err</th>      <th>z</th>      <th>P>|z|</th>  <th>[0.025</th>    <th>0.975]</th>  \n",
              "</tr>\n",
              "<tr>\n",
              "  <th>ar.L1</th>  <td>    0.1948</td> <td>    0.335</td> <td>    0.581</td> <td> 0.561</td> <td>   -0.462</td> <td>    0.852</td>\n",
              "</tr>\n",
              "<tr>\n",
              "  <th>ma.L1</th>  <td>   -0.8895</td> <td>    0.160</td> <td>   -5.568</td> <td> 0.000</td> <td>   -1.203</td> <td>   -0.576</td>\n",
              "</tr>\n",
              "<tr>\n",
              "  <th>sigma2</th> <td> 7.418e+07</td> <td> 3.65e-10</td> <td> 2.03e+17</td> <td> 0.000</td> <td> 7.42e+07</td> <td> 7.42e+07</td>\n",
              "</tr>\n",
              "</table>\n",
              "<table class=\"simpletable\">\n",
              "<tr>\n",
              "  <th>Ljung-Box (L1) (Q):</th>     <td>0.14</td> <th>  Jarque-Bera (JB):  </th> <td>2.29</td>\n",
              "</tr>\n",
              "<tr>\n",
              "  <th>Prob(Q):</th>                <td>0.70</td> <th>  Prob(JB):          </th> <td>0.32</td>\n",
              "</tr>\n",
              "<tr>\n",
              "  <th>Heteroskedasticity (H):</th> <td>0.89</td> <th>  Skew:              </th> <td>0.62</td>\n",
              "</tr>\n",
              "<tr>\n",
              "  <th>Prob(H) (two-sided):</th>    <td>0.84</td> <th>  Kurtosis:          </th> <td>2.60</td>\n",
              "</tr>\n",
              "</table><br/><br/>Warnings:<br/>[1] Covariance matrix calculated using the outer product of gradients (complex-step).<br/>[2] Covariance matrix is singular or near-singular, with condition number 2.69e+33. Standard errors may be unstable."
            ]
          },
          "metadata": {},
          "execution_count": 57
        }
      ]
    },
    {
      "cell_type": "code",
      "source": [
        "# get the AIC/BIC scores\n",
        "\n",
        "aic2,bic2 = np.round(m1.aic,2), np.round(m2.bic,2)\n",
        "print(\"Model 2: AIC={},BIC={}\".format(aic2,bic2))"
      ],
      "metadata": {
        "colab": {
          "base_uri": "https://localhost:8080/"
        },
        "id": "EnbZ4A_jSosf",
        "outputId": "09482eab-383d-462b-c2d6-a0f90121322a"
      },
      "execution_count": null,
      "outputs": [
        {
          "output_type": "stream",
          "name": "stdout",
          "text": [
            "Model 2: AIC=692.67,BIC=676.82\n"
          ]
        }
      ]
    },
    {
      "cell_type": "code",
      "source": [
        "pvalue = sm.stats.acorr_ljungbox(m2.resid, lags=[1], return_df=True)['lb_pvalue'].values\n",
        "\n",
        "if pvalue < 0.05:\n",
        "    print(\"Not a good model\")\n",
        "else:\n",
        "    print(\"Good model\")"
      ],
      "metadata": {
        "colab": {
          "base_uri": "https://localhost:8080/"
        },
        "id": "lZRcGDOoTD_p",
        "outputId": "89c89a40-2bb3-4e9b-cb1b-2f990d4da150"
      },
      "execution_count": null,
      "outputs": [
        {
          "output_type": "stream",
          "name": "stdout",
          "text": [
            "Good model\n"
          ]
        }
      ]
    },
    {
      "cell_type": "code",
      "source": [
        "# forecast\n",
        "start = len(train); end=len(train)+len(test)-1\n",
        "print(\"START={}, END={}\".format(start,end))"
      ],
      "metadata": {
        "colab": {
          "base_uri": "https://localhost:8080/"
        },
        "id": "c3G9UwurTRph",
        "outputId": "e5778da7-06b1-4248-db2b-91d5044ee303"
      },
      "execution_count": null,
      "outputs": [
        {
          "output_type": "stream",
          "name": "stdout",
          "text": [
            "START=33, END=47\n"
          ]
        }
      ]
    },
    {
      "cell_type": "code",
      "source": [
        "f2 = m2.predict(start,end,typ=\"levels\")\n",
        "print(f2.head())"
      ],
      "metadata": {
        "colab": {
          "base_uri": "https://localhost:8080/"
        },
        "id": "lF5WB__FTYjl",
        "outputId": "95457c99-e92f-455c-ec66-23bc894c1d7e"
      },
      "execution_count": null,
      "outputs": [
        {
          "output_type": "stream",
          "name": "stdout",
          "text": [
            "2016-10-01    17696.416427\n",
            "2016-11-01    15832.577684\n",
            "2016-12-01    15469.445110\n",
            "2017-01-01    15398.695821\n",
            "2017-02-01    15384.911704\n",
            "Freq: MS, Name: predicted_mean, dtype: float64\n"
          ]
        }
      ]
    },
    {
      "cell_type": "code",
      "source": [
        "# store actual and predicted data in dataframe\n",
        "actual=[]; pred=[]\n",
        "\n",
        "for i in range(len(f2)):\n",
        "    actual.append(test.Sales[i])\n",
        "    pred.append(f2[i])\n",
        "    \n",
        "df2 = pd.DataFrame({'actual':actual, 'forecast':pred})\n",
        "df2['error'] = df2.actual - df2.forecast\n",
        "print(df2)"
      ],
      "metadata": {
        "colab": {
          "base_uri": "https://localhost:8080/"
        },
        "id": "lWbGYqbSTj0Q",
        "outputId": "88066507-41ff-4a32-d8fc-51acbd4b9fa6"
      },
      "execution_count": null,
      "outputs": [
        {
          "output_type": "stream",
          "name": "stdout",
          "text": [
            "        actual      forecast         error\n",
            "0   11872.5770  17696.416427  -5823.839427\n",
            "1   31783.6288  15832.577684  15951.051116\n",
            "2   36678.7150  15469.445110  21209.269890\n",
            "3    5964.0320  15398.695821  -9434.663821\n",
            "4    6866.3374  15384.911704  -8518.574304\n",
            "5   10893.4448  15382.226138  -4488.781338\n",
            "6    9065.9581  15381.702908  -6315.744808\n",
            "7   16957.5582  15381.600967   1575.957233\n",
            "8   19008.5867  15381.581106   3627.005594\n",
            "9   11813.0220  15381.577236  -3568.555236\n",
            "10  15441.8740  15381.576482     60.297518\n",
            "11  29028.2060  15381.576335  13646.629665\n",
            "12  21884.0682  15381.576307   6502.491893\n",
            "13  37056.7150  15381.576301  21675.138699\n",
            "14  31407.4668  15381.576300  16025.890500\n"
          ]
        }
      ]
    },
    {
      "cell_type": "code",
      "source": [
        "# Calcualate the MSE\n",
        "mse2 = mean_squared_error(df2.actual, df2.forecast)\n",
        "print(\"ARIMA Model 1. p={},q={} \\n\\tMSE = {} \\n\\tRMSE = {}\".format(p,q,mse2, np.sqrt(mse2))  )"
      ],
      "metadata": {
        "colab": {
          "base_uri": "https://localhost:8080/"
        },
        "id": "urBtOhzjUAKB",
        "outputId": "359777a9-2201-4fad-c8a9-098deb68c437"
      },
      "execution_count": null,
      "outputs": [
        {
          "output_type": "stream",
          "name": "stdout",
          "text": [
            "ARIMA Model 1. p=1,q=1 \n",
            "\tMSE = 129555585.70851329 \n",
            "\tRMSE = 11382.248710536653\n"
          ]
        }
      ]
    },
    {
      "cell_type": "code",
      "source": [
        "# plot the actual and forecast data\n",
        "df1.actual.plot(figsize=(10,8))\n",
        "df1.forecast.plot(legend=True)\n",
        "plt.title(\"ARIMA model \")"
      ],
      "metadata": {
        "colab": {
          "base_uri": "https://localhost:8080/",
          "height": 516
        },
        "id": "oAusEVDZUWGt",
        "outputId": "662b703f-2a21-4227-a99f-90c19cd663bb"
      },
      "execution_count": null,
      "outputs": [
        {
          "output_type": "execute_result",
          "data": {
            "text/plain": [
              "Text(0.5, 1.0, 'ARIMA model ')"
            ]
          },
          "metadata": {},
          "execution_count": 67
        },
        {
          "output_type": "display_data",
          "data": {
            "text/plain": [
              "<Figure size 720x576 with 1 Axes>"
            ],
            "image/png": "[encoded data removed]"
          },
          "metadata": {
            "needs_background": "light"
          }
        }
      ]
    },
    {
      "cell_type": "markdown",
      "source": [
        "# SARIMAX Model"
      ],
      "metadata": {
        "id": "gReYfVP7Uo9U"
      }
    },
    {
      "cell_type": "code",
      "source": [
        "# build the SARIMA model with some initial values for p and q\n",
        "p=1; d=0; q=0"
      ],
      "metadata": {
        "id": "_Cw8c2yVUcdV"
      },
      "execution_count": null,
      "outputs": []
    },
    {
      "cell_type": "code",
      "source": [
        "# model 3\n",
        "sm1 = SARIMAX(train,order=(p,d,q),seasonal_order=(p,d,q,30)).fit()"
      ],
      "metadata": {
        "id": "fP-2tl2IWRY1"
      },
      "execution_count": null,
      "outputs": []
    },
    {
      "cell_type": "code",
      "source": [
        "sm1.summary()"
      ],
      "metadata": {
        "colab": {
          "base_uri": "https://localhost:8080/",
          "height": 447
        },
        "id": "yDApOnEcXTzb",
        "outputId": "cd057173-bd4b-4b41-fc43-d88725b1dd5e"
      },
      "execution_count": null,
      "outputs": [
        {
          "output_type": "execute_result",
          "data": {
            "text/plain": [
              "<class 'statsmodels.iolib.summary.Summary'>\n",
              "\"\"\"\n",
              "                                     SARIMAX Results                                      \n",
              "==========================================================================================\n",
              "Dep. Variable:                              Sales   No. Observations:                   33\n",
              "Model:             SARIMAX(1, 0, 0)x(1, 0, 0, 30)   Log Likelihood                -347.639\n",
              "Date:                            Tue, 09 Aug 2022   AIC                            701.278\n",
              "Time:                                    06:49:17   BIC                            705.767\n",
              "Sample:                                01-01-2014   HQIC                           702.788\n",
              "                                     - 09-01-2016                                         \n",
              "Covariance Type:                              opg                                         \n",
              "==============================================================================\n",
              "                 coef    std err          z      P>|z|      [0.025      0.975]\n",
              "------------------------------------------------------------------------------\n",
              "ar.L1          0.8104      0.135      6.015      0.000       0.546       1.074\n",
              "ar.S.L30       0.3474      0.348      0.998      0.318      -0.335       1.030\n",
              "sigma2      8.509e+07    3.6e-09   2.36e+16      0.000    8.51e+07    8.51e+07\n",
              "===================================================================================\n",
              "Ljung-Box (L1) (Q):                   5.65   Jarque-Bera (JB):                 0.77\n",
              "Prob(Q):                              0.02   Prob(JB):                         0.68\n",
              "Heteroskedasticity (H):               1.15   Skew:                             0.28\n",
              "Prob(H) (two-sided):                  0.82   Kurtosis:                         2.49\n",
              "===================================================================================\n",
              "\n",
              "Warnings:\n",
              "[1] Covariance matrix calculated using the outer product of gradients (complex-step).\n",
              "[2] Covariance matrix is singular or near-singular, with condition number 4.23e+31. Standard errors may be unstable.\n",
              "\"\"\""
            ],
            "text/html": [
              "<table class=\"simpletable\">\n",
              "<caption>SARIMAX Results</caption>\n",
              "<tr>\n",
              "  <th>Dep. Variable:</th>                <td>Sales</td>             <th>  No. Observations:  </th>    <td>33</td>   \n",
              "</tr>\n",
              "<tr>\n",
              "  <th>Model:</th>           <td>SARIMAX(1, 0, 0)x(1, 0, 0, 30)</td> <th>  Log Likelihood     </th> <td>-347.639</td>\n",
              "</tr>\n",
              "<tr>\n",
              "  <th>Date:</th>                   <td>Tue, 09 Aug 2022</td>        <th>  AIC                </th>  <td>701.278</td>\n",
              "</tr>\n",
              "<tr>\n",
              "  <th>Time:</th>                       <td>06:49:17</td>            <th>  BIC                </th>  <td>705.767</td>\n",
              "</tr>\n",
              "<tr>\n",
              "  <th>Sample:</th>                    <td>01-01-2014</td>           <th>  HQIC               </th>  <td>702.788</td>\n",
              "</tr>\n",
              "<tr>\n",
              "  <th></th>                          <td>- 09-01-2016</td>          <th>                     </th>     <td> </td>   \n",
              "</tr>\n",
              "<tr>\n",
              "  <th>Covariance Type:</th>               <td>opg</td>              <th>                     </th>     <td> </td>   \n",
              "</tr>\n",
              "</table>\n",
              "<table class=\"simpletable\">\n",
              "<tr>\n",
              "      <td></td>        <th>coef</th>     <th>std err</th>      <th>z</th>      <th>P>|z|</th>  <th>[0.025</th>    <th>0.975]</th>  \n",
              "</tr>\n",
              "<tr>\n",
              "  <th>ar.L1</th>    <td>    0.8104</td> <td>    0.135</td> <td>    6.015</td> <td> 0.000</td> <td>    0.546</td> <td>    1.074</td>\n",
              "</tr>\n",
              "<tr>\n",
              "  <th>ar.S.L30</th> <td>    0.3474</td> <td>    0.348</td> <td>    0.998</td> <td> 0.318</td> <td>   -0.335</td> <td>    1.030</td>\n",
              "</tr>\n",
              "<tr>\n",
              "  <th>sigma2</th>   <td> 8.509e+07</td> <td>  3.6e-09</td> <td> 2.36e+16</td> <td> 0.000</td> <td> 8.51e+07</td> <td> 8.51e+07</td>\n",
              "</tr>\n",
              "</table>\n",
              "<table class=\"simpletable\">\n",
              "<tr>\n",
              "  <th>Ljung-Box (L1) (Q):</th>     <td>5.65</td> <th>  Jarque-Bera (JB):  </th> <td>0.77</td>\n",
              "</tr>\n",
              "<tr>\n",
              "  <th>Prob(Q):</th>                <td>0.02</td> <th>  Prob(JB):          </th> <td>0.68</td>\n",
              "</tr>\n",
              "<tr>\n",
              "  <th>Heteroskedasticity (H):</th> <td>1.15</td> <th>  Skew:              </th> <td>0.28</td>\n",
              "</tr>\n",
              "<tr>\n",
              "  <th>Prob(H) (two-sided):</th>    <td>0.82</td> <th>  Kurtosis:          </th> <td>2.49</td>\n",
              "</tr>\n",
              "</table><br/><br/>Warnings:<br/>[1] Covariance matrix calculated using the outer product of gradients (complex-step).<br/>[2] Covariance matrix is singular or near-singular, with condition number 4.23e+31. Standard errors may be unstable."
            ]
          },
          "metadata": {},
          "execution_count": 77
        }
      ]
    },
    {
      "cell_type": "code",
      "source": [
        "# forecast\n",
        "f3 = sm1.forecast(len(test))"
      ],
      "metadata": {
        "id": "gym-ciEfWd51"
      },
      "execution_count": null,
      "outputs": []
    },
    {
      "cell_type": "code",
      "source": [
        "(len(f3), len(test))"
      ],
      "metadata": {
        "colab": {
          "base_uri": "https://localhost:8080/"
        },
        "id": "2HvoawlIWrGR",
        "outputId": "69da0b13-e390-4a32-d067-55035f5e662a"
      },
      "execution_count": null,
      "outputs": [
        {
          "output_type": "execute_result",
          "data": {
            "text/plain": [
              "(15, 15)"
            ]
          },
          "metadata": {},
          "execution_count": 74
        }
      ]
    },
    {
      "cell_type": "code",
      "source": [
        "# Calcualate the MSE and RMSE\n",
        "mse3 = mean_squared_error(test, f3)\n",
        "print(\"SARIMAX Model 1. p={},q={} \\n\\tMSE = {} \\n\\tRMSE = {}\".format(p,q,mse3, np.sqrt(mse3)))"
      ],
      "metadata": {
        "colab": {
          "base_uri": "https://localhost:8080/"
        },
        "id": "3OOsUOtOW696",
        "outputId": "3505ec57-61f8-49f8-ecd7-6c11d0975791"
      },
      "execution_count": null,
      "outputs": [
        {
          "output_type": "stream",
          "name": "stdout",
          "text": [
            "SARIMAX Model 1. p=1,q=0 \n",
            "\tMSE = 243921632.1297885 \n",
            "\tRMSE = 15617.99065596431\n"
          ]
        }
      ]
    },
    {
      "cell_type": "code",
      "source": [
        "# plot the actual and forecast data (SARIMA)\n",
        "plt.figure(figsize=(15,4))\n",
        "plt.plot(test,'g',label='Actual')\n",
        "plt.plot(f3,'b',label='Forecast')\n",
        "plt.legend()\n",
        "plt.title(\"SARIMA Model\")"
      ],
      "metadata": {
        "colab": {
          "base_uri": "https://localhost:8080/",
          "height": 298
        },
        "id": "DhJDlbX5WyKY",
        "outputId": "5948ef59-ee22-47c0-d4b5-40ab3f3c09bf"
      },
      "execution_count": null,
      "outputs": [
        {
          "output_type": "execute_result",
          "data": {
            "text/plain": [
              "Text(0.5, 1.0, 'SARIMA Model. Forecast Comparison of Energy Appliances')"
            ]
          },
          "metadata": {},
          "execution_count": 75
        },
        {
          "output_type": "display_data",
          "data": {
            "text/plain": [
              "<Figure size 1080x288 with 1 Axes>"
            ],
            "image/png": "[encoded data removed]"
          },
          "metadata": {
            "needs_background": "light"
          }
        }
      ]
    }
  ]
}