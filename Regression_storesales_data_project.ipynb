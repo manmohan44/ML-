{
  "nbformat": 4,
  "nbformat_minor": 0,
  "metadata": {
    "colab": {
      "name": "L3_S1_Regression_Mini_Project_Brief_Manmohan.ipynb",
      "provenance": [],
      "collapsed_sections": []
    },
    "kernelspec": {
      "name": "python3",
      "display_name": "Python 3"
    },
    "language_info": {
      "name": "python"
    }
  },
  "cells": [
    {
      "cell_type": "code",
      "execution_count": null,
      "metadata": {
        "colab": {
          "base_uri": "https://localhost:8080/"
        },
        "id": "tzxwDysIP_f_",
        "outputId": "27391078-088c-43ea-c51c-ccf07d590c46"
      },
      "outputs": [
        {
          "output_type": "stream",
          "name": "stdout",
          "text": [
            "Mounted at /content/drive\n"
          ]
        }
      ],
      "source": [
        "from google.colab import drive\n",
        "drive.mount('/content/drive')"
      ]
    },
    {
      "cell_type": "markdown",
      "source": [
        "## Importing required Libraries."
      ],
      "metadata": {
        "id": "BzyN7l-ZYT0v"
      }
    },
    {
      "cell_type": "code",
      "source": [
        "# general imports\n",
        "import pandas as pd\n",
        "import numpy as np\n",
        "import matplotlib.pyplot as plt\n",
        "from numpy import mean\n",
        "from sklearn import metrics\n",
        "from sklearn.preprocessing import MinMaxScaler, StandardScaler\n",
        "from sklearn.linear_model import LinearRegression\n",
        "from sklearn.metrics import mean_squared_error\n",
        "from sklearn.metrics import mean_absolute_error\n",
        "from sklearn.datasets import make_regression\n",
        "from sklearn.preprocessing import LabelEncoder\n",
        "from sklearn.model_selection import train_test_split\n",
        "from sklearn.metrics import precision_score, recall_score, accuracy_score\n",
        "from sklearn import preprocessing\n",
        "import seaborn as sns\n",
        "sns.set(style=\"white\") #white background style for seaborn plots\n",
        "\n",
        "from sklearn.tree import DecisionTreeRegressor # Import Decision Tree Regressor\n",
        "from sklearn.ensemble import RandomForestRegressor, AdaBoostRegressor, StackingRegressor\n",
        "\n",
        "from sklearn.model_selection import KFold                        # for cross validation \n",
        "from sklearn.model_selection import cross_val_score              # for evaluation of model\n",
        "from sklearn.model_selection import cross_val_predict        \n",
        "from sklearn.neighbors import KNeighborsRegressor                # for model building\n",
        "from sklearn.svm import SVR               \n",
        "\n",
        "import warnings\n",
        "warnings.filterwarnings(\"ignore\")"
      ],
      "metadata": {
        "id": "-jbu7uV8TpA6"
      },
      "execution_count": null,
      "outputs": []
    },
    {
      "cell_type": "markdown",
      "source": [
        "## Importing data "
      ],
      "metadata": {
        "id": "EwIs4K_tX_3c"
      }
    },
    {
      "cell_type": "code",
      "source": [
        "# importing data from data source\n",
        "store = pd.read_csv('/content/drive/MyDrive/Mini_Project/DS3_C6_S1_Regression_StoreSales_Data_Project.csv')\n",
        "store.head()     # showing first 5 rows of data"
      ],
      "metadata": {
        "colab": {
          "base_uri": "https://localhost:8080/",
          "height": 357
        },
        "id": "UR6BkjL8X3S5",
        "outputId": "d1f27ca0-1b0d-4f47-9f7b-4a6b318f5efb"
      },
      "execution_count": null,
      "outputs": [
        {
          "output_type": "execute_result",
          "data": {
            "text/plain": [
              "  Item_Identifier  Item_Weight Item_Fat_Content  Item_Visibility  \\\n",
              "0           FDA15         9.30          Low Fat         0.016047   \n",
              "1           DRC01         5.92          Regular         0.019278   \n",
              "2           FDN15        17.50          Low Fat         0.016760   \n",
              "3           FDX07        19.20          Regular         0.074402   \n",
              "4           NCD19         8.93          Low Fat         0.064299   \n",
              "\n",
              "               Item_Type  Item_MRP Outlet_Identifier  \\\n",
              "0                  Dairy  249.8092            OUT049   \n",
              "1            Soft Drinks   48.2692            OUT018   \n",
              "2                   Meat  141.6180            OUT049   \n",
              "3  Fruits and Vegetables  182.0950            OUT010   \n",
              "4              Household   53.8614            OUT013   \n",
              "\n",
              "   Outlet_Establishment_Year Outlet_Size Outlet_Location_Type  \\\n",
              "0                       1999      Medium               Tier 1   \n",
              "1                       2009      Medium               Tier 3   \n",
              "2                       1999      Medium               Tier 1   \n",
              "3                       1998      Medium               Tier 3   \n",
              "4                       1987        High               Tier 3   \n",
              "\n",
              "         Outlet_Type  Item_Outlet_Sales  \n",
              "0  Supermarket Type1          3735.1380  \n",
              "1  Supermarket Type2           443.4228  \n",
              "2  Supermarket Type1          2097.2700  \n",
              "3      Grocery Store           732.3800  \n",
              "4  Supermarket Type1           994.7052  "
            ],
            "text/html": [
              "\n",
              "  <div id=\"df-745dc585-e43b-4b96-a72b-529678d6febd\">\n",
              "    <div class=\"colab-df-container\">\n",
              "      <div>\n",
              "<style scoped>\n",
              "    .dataframe tbody tr th:only-of-type {\n",
              "        vertical-align: middle;\n",
              "    }\n",
              "\n",
              "    .dataframe tbody tr th {\n",
              "        vertical-align: top;\n",
              "    }\n",
              "\n",
              "    .dataframe thead th {\n",
              "        text-align: right;\n",
              "    }\n",
              "</style>\n",
              "<table border=\"1\" class=\"dataframe\">\n",
              "  <thead>\n",
              "    <tr style=\"text-align: right;\">\n",
              "      <th></th>\n",
              "      <th>Item_Identifier</th>\n",
              "      <th>Item_Weight</th>\n",
              "      <th>Item_Fat_Content</th>\n",
              "      <th>Item_Visibility</th>\n",
              "      <th>Item_Type</th>\n",
              "      <th>Item_MRP</th>\n",
              "      <th>Outlet_Identifier</th>\n",
              "      <th>Outlet_Establishment_Year</th>\n",
              "      <th>Outlet_Size</th>\n",
              "      <th>Outlet_Location_Type</th>\n",
              "      <th>Outlet_Type</th>\n",
              "      <th>Item_Outlet_Sales</th>\n",
              "    </tr>\n",
              "  </thead>\n",
              "  <tbody>\n",
              "    <tr>\n",
              "      <th>0</th>\n",
              "      <td>FDA15</td>\n",
              "      <td>9.30</td>\n",
              "      <td>Low Fat</td>\n",
              "      <td>0.016047</td>\n",
              "      <td>Dairy</td>\n",
              "      <td>249.8092</td>\n",
              "      <td>OUT049</td>\n",
              "      <td>1999</td>\n",
              "      <td>Medium</td>\n",
              "      <td>Tier 1</td>\n",
              "      <td>Supermarket Type1</td>\n",
              "      <td>3735.1380</td>\n",
              "    </tr>\n",
              "    <tr>\n",
              "      <th>1</th>\n",
              "      <td>DRC01</td>\n",
              "      <td>5.92</td>\n",
              "      <td>Regular</td>\n",
              "      <td>0.019278</td>\n",
              "      <td>Soft Drinks</td>\n",
              "      <td>48.2692</td>\n",
              "      <td>OUT018</td>\n",
              "      <td>2009</td>\n",
              "      <td>Medium</td>\n",
              "      <td>Tier 3</td>\n",
              "      <td>Supermarket Type2</td>\n",
              "      <td>443.4228</td>\n",
              "    </tr>\n",
              "    <tr>\n",
              "      <th>2</th>\n",
              "      <td>FDN15</td>\n",
              "      <td>17.50</td>\n",
              "      <td>Low Fat</td>\n",
              "      <td>0.016760</td>\n",
              "      <td>Meat</td>\n",
              "      <td>141.6180</td>\n",
              "      <td>OUT049</td>\n",
              "      <td>1999</td>\n",
              "      <td>Medium</td>\n",
              "      <td>Tier 1</td>\n",
              "      <td>Supermarket Type1</td>\n",
              "      <td>2097.2700</td>\n",
              "    </tr>\n",
              "    <tr>\n",
              "      <th>3</th>\n",
              "      <td>FDX07</td>\n",
              "      <td>19.20</td>\n",
              "      <td>Regular</td>\n",
              "      <td>0.074402</td>\n",
              "      <td>Fruits and Vegetables</td>\n",
              "      <td>182.0950</td>\n",
              "      <td>OUT010</td>\n",
              "      <td>1998</td>\n",
              "      <td>Medium</td>\n",
              "      <td>Tier 3</td>\n",
              "      <td>Grocery Store</td>\n",
              "      <td>732.3800</td>\n",
              "    </tr>\n",
              "    <tr>\n",
              "      <th>4</th>\n",
              "      <td>NCD19</td>\n",
              "      <td>8.93</td>\n",
              "      <td>Low Fat</td>\n",
              "      <td>0.064299</td>\n",
              "      <td>Household</td>\n",
              "      <td>53.8614</td>\n",
              "      <td>OUT013</td>\n",
              "      <td>1987</td>\n",
              "      <td>High</td>\n",
              "      <td>Tier 3</td>\n",
              "      <td>Supermarket Type1</td>\n",
              "      <td>994.7052</td>\n",
              "    </tr>\n",
              "  </tbody>\n",
              "</table>\n",
              "</div>\n",
              "      <button class=\"colab-df-convert\" onclick=\"convertToInteractive('df-745dc585-e43b-4b96-a72b-529678d6febd')\"\n",
              "              title=\"Convert this dataframe to an interactive table.\"\n",
              "              style=\"display:none;\">\n",
              "        \n",
              "  <svg xmlns=\"http://www.w3.org/2000/svg\" height=\"24px\"viewBox=\"0 0 24 24\"\n",
              "       width=\"24px\">\n",
              "    <path d=\"M0 0h24v24H0V0z\" fill=\"none\"/>\n",
              "    <path d=\"M18.56 5.44l.94 2.06.94-2.06 2.06-.94-2.06-.94-.94-2.06-.94 2.06-2.06.94zm-11 1L8.5 8.5l.94-2.06 2.06-.94-2.06-.94L8.5 2.5l-.94 2.06-2.06.94zm10 10l.94 2.06.94-2.06 2.06-.94-2.06-.94-.94-2.06-.94 2.06-2.06.94z\"/><path d=\"M17.41 7.96l-1.37-1.37c-.4-.4-.92-.59-1.43-.59-.52 0-1.04.2-1.43.59L10.3 9.45l-7.72 7.72c-.78.78-.78 2.05 0 2.83L4 21.41c.39.39.9.59 1.41.59.51 0 1.02-.2 1.41-.59l7.78-7.78 2.81-2.81c.8-.78.8-2.07 0-2.86zM5.41 20L4 18.59l7.72-7.72 1.47 1.35L5.41 20z\"/>\n",
              "  </svg>\n",
              "      </button>\n",
              "      \n",
              "  <style>\n",
              "    .colab-df-container {\n",
              "      display:flex;\n",
              "      flex-wrap:wrap;\n",
              "      gap: 12px;\n",
              "    }\n",
              "\n",
              "    .colab-df-convert {\n",
              "      background-color: #E8F0FE;\n",
              "      border: none;\n",
              "      border-radius: 50%;\n",
              "      cursor: pointer;\n",
              "      display: none;\n",
              "      fill: #1967D2;\n",
              "      height: 32px;\n",
              "      padding: 0 0 0 0;\n",
              "      width: 32px;\n",
              "    }\n",
              "\n",
              "    .colab-df-convert:hover {\n",
              "      background-color: #E2EBFA;\n",
              "      box-shadow: 0px 1px 2px rgba(60, 64, 67, 0.3), 0px 1px 3px 1px rgba(60, 64, 67, 0.15);\n",
              "      fill: #174EA6;\n",
              "    }\n",
              "\n",
              "    [theme=dark] .colab-df-convert {\n",
              "      background-color: #3B4455;\n",
              "      fill: #D2E3FC;\n",
              "    }\n",
              "\n",
              "    [theme=dark] .colab-df-convert:hover {\n",
              "      background-color: #434B5C;\n",
              "      box-shadow: 0px 1px 3px 1px rgba(0, 0, 0, 0.15);\n",
              "      filter: drop-shadow(0px 1px 2px rgba(0, 0, 0, 0.3));\n",
              "      fill: #FFFFFF;\n",
              "    }\n",
              "  </style>\n",
              "\n",
              "      <script>\n",
              "        const buttonEl =\n",
              "          document.querySelector('#df-745dc585-e43b-4b96-a72b-529678d6febd button.colab-df-convert');\n",
              "        buttonEl.style.display =\n",
              "          google.colab.kernel.accessAllowed ? 'block' : 'none';\n",
              "\n",
              "        async function convertToInteractive(key) {\n",
              "          const element = document.querySelector('#df-745dc585-e43b-4b96-a72b-529678d6febd');\n",
              "          const dataTable =\n",
              "            await google.colab.kernel.invokeFunction('convertToInteractive',\n",
              "                                                     [key], {});\n",
              "          if (!dataTable) return;\n",
              "\n",
              "          const docLinkHtml = 'Like what you see? Visit the ' +\n",
              "            '<a target=\"_blank\" href=https://colab.research.google.com/notebooks/data_table.ipynb>data table notebook</a>'\n",
              "            + ' to learn more about interactive tables.';\n",
              "          element.innerHTML = '';\n",
              "          dataTable['output_type'] = 'display_data';\n",
              "          await google.colab.output.renderOutput(dataTable, element);\n",
              "          const docLink = document.createElement('div');\n",
              "          docLink.innerHTML = docLinkHtml;\n",
              "          element.appendChild(docLink);\n",
              "        }\n",
              "      </script>\n",
              "    </div>\n",
              "  </div>\n",
              "  "
            ]
          },
          "metadata": {},
          "execution_count": 3
        }
      ]
    },
    {
      "cell_type": "markdown",
      "source": [
        "## Checking the structure of data"
      ],
      "metadata": {
        "id": "kQAVfV8Ib373"
      }
    },
    {
      "cell_type": "code",
      "source": [
        "store.shape"
      ],
      "metadata": {
        "colab": {
          "base_uri": "https://localhost:8080/"
        },
        "id": "OQJLc_H0YeVb",
        "outputId": "5e1fd877-f776-4e20-ded6-9235fe9baa51"
      },
      "execution_count": null,
      "outputs": [
        {
          "output_type": "execute_result",
          "data": {
            "text/plain": [
              "(14204, 12)"
            ]
          },
          "metadata": {},
          "execution_count": 4
        }
      ]
    },
    {
      "cell_type": "markdown",
      "source": [
        "## Summarising the data"
      ],
      "metadata": {
        "id": "4MCViL1Fgu0i"
      }
    },
    {
      "cell_type": "code",
      "source": [
        "store.describe()"
      ],
      "metadata": {
        "colab": {
          "base_uri": "https://localhost:8080/",
          "height": 300
        },
        "id": "mJJ_inancC8a",
        "outputId": "9a23d95a-b2c3-42e4-e434-1f590bad9e30"
      },
      "execution_count": null,
      "outputs": [
        {
          "output_type": "execute_result",
          "data": {
            "text/plain": [
              "        Item_Weight  Item_Visibility      Item_MRP  Outlet_Establishment_Year  \\\n",
              "count  14204.000000     14204.000000  14204.000000               14204.000000   \n",
              "mean      12.793380         0.070301    141.004977                1997.830681   \n",
              "std        4.651716         0.048621     62.086938                   8.371664   \n",
              "min        4.555000         0.003575     31.290000                1985.000000   \n",
              "25%        8.710000         0.033143     94.012000                1987.000000   \n",
              "50%       12.600000         0.062347    142.247000                1999.000000   \n",
              "75%       16.750000         0.094037    185.855600                2004.000000   \n",
              "max       21.350000         0.328391    266.888400                2009.000000   \n",
              "\n",
              "       Item_Outlet_Sales  \n",
              "count        8523.000000  \n",
              "mean         2181.288914  \n",
              "std          1706.499616  \n",
              "min            33.290000  \n",
              "25%           834.247400  \n",
              "50%          1794.331000  \n",
              "75%          3101.296400  \n",
              "max         13086.964800  "
            ],
            "text/html": [
              "\n",
              "  <div id=\"df-621ae1cd-20d4-423b-aa72-411d95614fc5\">\n",
              "    <div class=\"colab-df-container\">\n",
              "      <div>\n",
              "<style scoped>\n",
              "    .dataframe tbody tr th:only-of-type {\n",
              "        vertical-align: middle;\n",
              "    }\n",
              "\n",
              "    .dataframe tbody tr th {\n",
              "        vertical-align: top;\n",
              "    }\n",
              "\n",
              "    .dataframe thead th {\n",
              "        text-align: right;\n",
              "    }\n",
              "</style>\n",
              "<table border=\"1\" class=\"dataframe\">\n",
              "  <thead>\n",
              "    <tr style=\"text-align: right;\">\n",
              "      <th></th>\n",
              "      <th>Item_Weight</th>\n",
              "      <th>Item_Visibility</th>\n",
              "      <th>Item_MRP</th>\n",
              "      <th>Outlet_Establishment_Year</th>\n",
              "      <th>Item_Outlet_Sales</th>\n",
              "    </tr>\n",
              "  </thead>\n",
              "  <tbody>\n",
              "    <tr>\n",
              "      <th>count</th>\n",
              "      <td>14204.000000</td>\n",
              "      <td>14204.000000</td>\n",
              "      <td>14204.000000</td>\n",
              "      <td>14204.000000</td>\n",
              "      <td>8523.000000</td>\n",
              "    </tr>\n",
              "    <tr>\n",
              "      <th>mean</th>\n",
              "      <td>12.793380</td>\n",
              "      <td>0.070301</td>\n",
              "      <td>141.004977</td>\n",
              "      <td>1997.830681</td>\n",
              "      <td>2181.288914</td>\n",
              "    </tr>\n",
              "    <tr>\n",
              "      <th>std</th>\n",
              "      <td>4.651716</td>\n",
              "      <td>0.048621</td>\n",
              "      <td>62.086938</td>\n",
              "      <td>8.371664</td>\n",
              "      <td>1706.499616</td>\n",
              "    </tr>\n",
              "    <tr>\n",
              "      <th>min</th>\n",
              "      <td>4.555000</td>\n",
              "      <td>0.003575</td>\n",
              "      <td>31.290000</td>\n",
              "      <td>1985.000000</td>\n",
              "      <td>33.290000</td>\n",
              "    </tr>\n",
              "    <tr>\n",
              "      <th>25%</th>\n",
              "      <td>8.710000</td>\n",
              "      <td>0.033143</td>\n",
              "      <td>94.012000</td>\n",
              "      <td>1987.000000</td>\n",
              "      <td>834.247400</td>\n",
              "    </tr>\n",
              "    <tr>\n",
              "      <th>50%</th>\n",
              "      <td>12.600000</td>\n",
              "      <td>0.062347</td>\n",
              "      <td>142.247000</td>\n",
              "      <td>1999.000000</td>\n",
              "      <td>1794.331000</td>\n",
              "    </tr>\n",
              "    <tr>\n",
              "      <th>75%</th>\n",
              "      <td>16.750000</td>\n",
              "      <td>0.094037</td>\n",
              "      <td>185.855600</td>\n",
              "      <td>2004.000000</td>\n",
              "      <td>3101.296400</td>\n",
              "    </tr>\n",
              "    <tr>\n",
              "      <th>max</th>\n",
              "      <td>21.350000</td>\n",
              "      <td>0.328391</td>\n",
              "      <td>266.888400</td>\n",
              "      <td>2009.000000</td>\n",
              "      <td>13086.964800</td>\n",
              "    </tr>\n",
              "  </tbody>\n",
              "</table>\n",
              "</div>\n",
              "      <button class=\"colab-df-convert\" onclick=\"convertToInteractive('df-621ae1cd-20d4-423b-aa72-411d95614fc5')\"\n",
              "              title=\"Convert this dataframe to an interactive table.\"\n",
              "              style=\"display:none;\">\n",
              "        \n",
              "  <svg xmlns=\"http://www.w3.org/2000/svg\" height=\"24px\"viewBox=\"0 0 24 24\"\n",
              "       width=\"24px\">\n",
              "    <path d=\"M0 0h24v24H0V0z\" fill=\"none\"/>\n",
              "    <path d=\"M18.56 5.44l.94 2.06.94-2.06 2.06-.94-2.06-.94-.94-2.06-.94 2.06-2.06.94zm-11 1L8.5 8.5l.94-2.06 2.06-.94-2.06-.94L8.5 2.5l-.94 2.06-2.06.94zm10 10l.94 2.06.94-2.06 2.06-.94-2.06-.94-.94-2.06-.94 2.06-2.06.94z\"/><path d=\"M17.41 7.96l-1.37-1.37c-.4-.4-.92-.59-1.43-.59-.52 0-1.04.2-1.43.59L10.3 9.45l-7.72 7.72c-.78.78-.78 2.05 0 2.83L4 21.41c.39.39.9.59 1.41.59.51 0 1.02-.2 1.41-.59l7.78-7.78 2.81-2.81c.8-.78.8-2.07 0-2.86zM5.41 20L4 18.59l7.72-7.72 1.47 1.35L5.41 20z\"/>\n",
              "  </svg>\n",
              "      </button>\n",
              "      \n",
              "  <style>\n",
              "    .colab-df-container {\n",
              "      display:flex;\n",
              "      flex-wrap:wrap;\n",
              "      gap: 12px;\n",
              "    }\n",
              "\n",
              "    .colab-df-convert {\n",
              "      background-color: #E8F0FE;\n",
              "      border: none;\n",
              "      border-radius: 50%;\n",
              "      cursor: pointer;\n",
              "      display: none;\n",
              "      fill: #1967D2;\n",
              "      height: 32px;\n",
              "      padding: 0 0 0 0;\n",
              "      width: 32px;\n",
              "    }\n",
              "\n",
              "    .colab-df-convert:hover {\n",
              "      background-color: #E2EBFA;\n",
              "      box-shadow: 0px 1px 2px rgba(60, 64, 67, 0.3), 0px 1px 3px 1px rgba(60, 64, 67, 0.15);\n",
              "      fill: #174EA6;\n",
              "    }\n",
              "\n",
              "    [theme=dark] .colab-df-convert {\n",
              "      background-color: #3B4455;\n",
              "      fill: #D2E3FC;\n",
              "    }\n",
              "\n",
              "    [theme=dark] .colab-df-convert:hover {\n",
              "      background-color: #434B5C;\n",
              "      box-shadow: 0px 1px 3px 1px rgba(0, 0, 0, 0.15);\n",
              "      filter: drop-shadow(0px 1px 2px rgba(0, 0, 0, 0.3));\n",
              "      fill: #FFFFFF;\n",
              "    }\n",
              "  </style>\n",
              "\n",
              "      <script>\n",
              "        const buttonEl =\n",
              "          document.querySelector('#df-621ae1cd-20d4-423b-aa72-411d95614fc5 button.colab-df-convert');\n",
              "        buttonEl.style.display =\n",
              "          google.colab.kernel.accessAllowed ? 'block' : 'none';\n",
              "\n",
              "        async function convertToInteractive(key) {\n",
              "          const element = document.querySelector('#df-621ae1cd-20d4-423b-aa72-411d95614fc5');\n",
              "          const dataTable =\n",
              "            await google.colab.kernel.invokeFunction('convertToInteractive',\n",
              "                                                     [key], {});\n",
              "          if (!dataTable) return;\n",
              "\n",
              "          const docLinkHtml = 'Like what you see? Visit the ' +\n",
              "            '<a target=\"_blank\" href=https://colab.research.google.com/notebooks/data_table.ipynb>data table notebook</a>'\n",
              "            + ' to learn more about interactive tables.';\n",
              "          element.innerHTML = '';\n",
              "          dataTable['output_type'] = 'display_data';\n",
              "          await google.colab.output.renderOutput(dataTable, element);\n",
              "          const docLink = document.createElement('div');\n",
              "          docLink.innerHTML = docLinkHtml;\n",
              "          element.appendChild(docLink);\n",
              "        }\n",
              "      </script>\n",
              "    </div>\n",
              "  </div>\n",
              "  "
            ]
          },
          "metadata": {},
          "execution_count": 5
        }
      ]
    },
    {
      "cell_type": "markdown",
      "source": [
        "## Check if there is any missing value exists in any feature"
      ],
      "metadata": {
        "id": "g9a7d4Cyg_kM"
      }
    },
    {
      "cell_type": "code",
      "source": [
        "# Replacing special charater to nan value if exists\n",
        "special_char = [\"!\",\"@\",\"#\",\"$\",\"^\",\"&\",\"*\",\",\",\"-\",\" ?\"]\n",
        "store.replace(special_char, value=np.nan, inplace=True)"
      ],
      "metadata": {
        "id": "blltvhQjg9Cv"
      },
      "execution_count": null,
      "outputs": []
    },
    {
      "cell_type": "code",
      "source": [
        "store.isnull().sum()"
      ],
      "metadata": {
        "colab": {
          "base_uri": "https://localhost:8080/"
        },
        "id": "-HFSlVYMhTRZ",
        "outputId": "55d8a7bd-fcbe-4e46-8734-d628dc7bc1df"
      },
      "execution_count": null,
      "outputs": [
        {
          "output_type": "execute_result",
          "data": {
            "text/plain": [
              "Item_Identifier                 0\n",
              "Item_Weight                     0\n",
              "Item_Fat_Content                0\n",
              "Item_Visibility                 0\n",
              "Item_Type                       0\n",
              "Item_MRP                        0\n",
              "Outlet_Identifier               0\n",
              "Outlet_Establishment_Year       0\n",
              "Outlet_Size                     0\n",
              "Outlet_Location_Type            0\n",
              "Outlet_Type                     0\n",
              "Item_Outlet_Sales            5681\n",
              "dtype: int64"
            ]
          },
          "metadata": {},
          "execution_count": 7
        }
      ]
    },
    {
      "cell_type": "code",
      "source": [
        "# There are 5681 nan values present in item_outlet_sales so need for missing value treatment\n",
        "df = store.apply(lambda x: x.fillna(x.value_counts().mean()))"
      ],
      "metadata": {
        "id": "AmgfafVGhaWj"
      },
      "execution_count": null,
      "outputs": []
    },
    {
      "cell_type": "code",
      "source": [
        "# chekcking nan values after missing value treatment\n",
        "df.isnull().sum()"
      ],
      "metadata": {
        "colab": {
          "base_uri": "https://localhost:8080/"
        },
        "id": "ASuqmTiBpcIg",
        "outputId": "c4ef3670-ef4b-4f89-f5d4-aa1f7beace69"
      },
      "execution_count": null,
      "outputs": [
        {
          "output_type": "execute_result",
          "data": {
            "text/plain": [
              "Item_Identifier              0\n",
              "Item_Weight                  0\n",
              "Item_Fat_Content             0\n",
              "Item_Visibility              0\n",
              "Item_Type                    0\n",
              "Item_MRP                     0\n",
              "Outlet_Identifier            0\n",
              "Outlet_Establishment_Year    0\n",
              "Outlet_Size                  0\n",
              "Outlet_Location_Type         0\n",
              "Outlet_Type                  0\n",
              "Item_Outlet_Sales            0\n",
              "dtype: int64"
            ]
          },
          "metadata": {},
          "execution_count": 9
        }
      ]
    },
    {
      "cell_type": "code",
      "source": [
        "# checking the data types\n",
        "df.dtypes"
      ],
      "metadata": {
        "id": "zVOhhblArSwi",
        "colab": {
          "base_uri": "https://localhost:8080/"
        },
        "outputId": "51211fed-ea69-433a-888b-7d2a1b5bb5e6"
      },
      "execution_count": null,
      "outputs": [
        {
          "output_type": "execute_result",
          "data": {
            "text/plain": [
              "Item_Identifier               object\n",
              "Item_Weight                  float64\n",
              "Item_Fat_Content              object\n",
              "Item_Visibility              float64\n",
              "Item_Type                     object\n",
              "Item_MRP                     float64\n",
              "Outlet_Identifier             object\n",
              "Outlet_Establishment_Year      int64\n",
              "Outlet_Size                   object\n",
              "Outlet_Location_Type          object\n",
              "Outlet_Type                   object\n",
              "Item_Outlet_Sales            float64\n",
              "dtype: object"
            ]
          },
          "metadata": {},
          "execution_count": 10
        }
      ]
    },
    {
      "cell_type": "markdown",
      "source": [
        "## Distribution of numerical features"
      ],
      "metadata": {
        "id": "JdP7XEtaU9Df"
      }
    },
    {
      "cell_type": "code",
      "source": [
        "plt.figure(figsize=(20,15))\n",
        "# dist of item weight\n",
        "plt.subplot(3,2,1)\n",
        "sns.distplot(df['Item_Weight'], color='red')\n",
        "# dist of item visibility\n",
        "plt.subplot(3,2,2)\n",
        "sns.distplot(df['Item_Visibility'], color='green')\n",
        "# dist of item MRP\n",
        "plt.subplot(3,2,3)\n",
        "sns.distplot(df['Item_MRP'], color='blue')\n",
        "# dist of item outlet sales\n",
        "plt.subplot(3,2,4)\n",
        "sns.distplot(df['Item_Outlet_Sales'], color='maroon')"
      ],
      "metadata": {
        "colab": {
          "base_uri": "https://localhost:8080/",
          "height": 598
        },
        "id": "1y7DUipWXVbD",
        "outputId": "795cf86a-9f34-499f-8595-0164f33a0f5e"
      },
      "execution_count": null,
      "outputs": [
        {
          "output_type": "execute_result",
          "data": {
            "text/plain": [
              "<matplotlib.axes._subplots.AxesSubplot at 0x7f18200a1b90>"
            ]
          },
          "metadata": {},
          "execution_count": 11
        },
        {
          "output_type": "display_data",
          "data": {
            "text/plain": [
              "<Figure size 1440x1080 with 4 Axes>"
            ],
            "image/png": "[encoded data removed]"
          },
          "metadata": {}
        }
      ]
    },
    {
      "cell_type": "markdown",
      "source": [
        "\n",
        "\n",
        "1.   Weight of item sales is high in range between 5 to 10.\n",
        "1.   In item visibility there is right squeness. Most of the items lies between 0-0.15\n",
        "3.   Cost of item between 80 to 180 having high number of sales.\n",
        "4.   Distribution of sales is right squed.\n",
        "\n"
      ],
      "metadata": {
        "id": "HcLHBfUPbicZ"
      }
    },
    {
      "cell_type": "code",
      "source": [
        "# Year wise store established \n",
        "plt.figure(figsize=(10,6))\n",
        "sns.countplot(x='Outlet_Establishment_Year', data=df)\n",
        "plt.show()"
      ],
      "metadata": {
        "colab": {
          "base_uri": "https://localhost:8080/",
          "height": 394
        },
        "id": "wk4O_tSxab-9",
        "outputId": "60fa2256-7461-4d57-df8c-90c75f45ce1a"
      },
      "execution_count": null,
      "outputs": [
        {
          "output_type": "display_data",
          "data": {
            "text/plain": [
              "<Figure size 720x432 with 1 Axes>"
            ],
            "image/png": "[encoded data removed]"
          },
          "metadata": {}
        }
      ]
    },
    {
      "cell_type": "markdown",
      "source": [
        "\n",
        "\n",
        "1.   More number of store are established in 1985\n",
        "2.   Less number of store are established in 1998\n",
        "\n"
      ],
      "metadata": {
        "id": "dzBIRLpAgT2v"
      }
    },
    {
      "cell_type": "code",
      "source": [
        "plt.figure(figsize=(30,15))\n",
        "# Item fat content\n",
        "plt.subplot(2,2,1)\n",
        "sns.countplot(x='Item_Fat_Content', data=df)\n",
        "# outlet size\n",
        "plt.subplot(2,2,2)\n",
        "sns.countplot(x='Outlet_Size', data=df)\n",
        "# outlet location type\n",
        "plt.subplot(2,2,3)\n",
        "sns.countplot(x='Outlet_Location_Type', data=df)\n",
        "# outlet type\n",
        "plt.subplot(2,2,4)\n",
        "sns.countplot(x='Outlet_Type', data=df)"
      ],
      "metadata": {
        "colab": {
          "base_uri": "https://localhost:8080/",
          "height": 610
        },
        "id": "Zf2jHbQIgJQS",
        "outputId": "28ed6596-de91-42af-d674-76bacc5bf9a8"
      },
      "execution_count": null,
      "outputs": [
        {
          "output_type": "execute_result",
          "data": {
            "text/plain": [
              "<matplotlib.axes._subplots.AxesSubplot at 0x7f181e184150>"
            ]
          },
          "metadata": {},
          "execution_count": 13
        },
        {
          "output_type": "display_data",
          "data": {
            "text/plain": [
              "<Figure size 2160x1080 with 4 Axes>"
            ],
            "image/png": "[encoded data removed]"
          },
          "metadata": {}
        }
      ]
    },
    {
      "cell_type": "markdown",
      "source": [
        "\n",
        "\n",
        "1.   Items having low fat are sold most\n",
        "2.   Small size items are sold most\n",
        "3.   Most of stores located in Tier 3\n",
        "4.   Most of store are supermarket type\n",
        "\n"
      ],
      "metadata": {
        "id": "W7t9-G_WqlLE"
      }
    },
    {
      "cell_type": "code",
      "source": [
        "# Item type\n",
        "plt.figure(figsize=(30,6))\n",
        "sns.countplot(x='Item_Type', data=df)\n",
        "plt.show()"
      ],
      "metadata": {
        "colab": {
          "base_uri": "https://localhost:8080/",
          "height": 268
        },
        "id": "pdASn18gp39-",
        "outputId": "9725c999-ca40-4b8f-e344-8976ab22fc41"
      },
      "execution_count": null,
      "outputs": [
        {
          "output_type": "display_data",
          "data": {
            "text/plain": [
              "<Figure size 2160x432 with 1 Axes>"
            ],
            "image/png": "[encoded data removed]"
          },
          "metadata": {}
        }
      ]
    },
    {
      "cell_type": "markdown",
      "source": [
        "---> Fruit, vegetables and snacks are sold most."
      ],
      "metadata": {
        "id": "hi_RsucCrlVE"
      }
    },
    {
      "cell_type": "markdown",
      "source": [
        "## Converting categorical column to numerical."
      ],
      "metadata": {
        "id": "Vbhgwr0b2IcR"
      }
    },
    {
      "cell_type": "code",
      "source": [
        "# categorical column to numerical\n",
        "encoder = LabelEncoder()\n",
        "\n",
        "df['Item_Identifier']=encoder.fit_transform(df['Item_Identifier'])\n",
        "df['Item_Fat_Content']=encoder.fit_transform(df['Item_Identifier'])\n",
        "df['Item_Type']=encoder.fit_transform(df['Item_Type'])\n",
        "df['Outlet_Identifier']=encoder.fit_transform(df['Outlet_Identifier'])\n",
        "df['Outlet_Size']=encoder.fit_transform(df['Outlet_Size'])\n",
        "df['Outlet_Location_Type']=encoder.fit_transform(df['Outlet_Location_Type'])\n",
        "df['Outlet_Type']=encoder.fit_transform(df['Outlet_Type'])"
      ],
      "metadata": {
        "id": "f7SAdFxxqFw5"
      },
      "execution_count": null,
      "outputs": []
    },
    {
      "cell_type": "code",
      "source": [
        "# after converting categorical to numerical\n",
        "df.head()"
      ],
      "metadata": {
        "colab": {
          "base_uri": "https://localhost:8080/",
          "height": 270
        },
        "id": "kyOSZUTg3xSJ",
        "outputId": "d7611f1d-24b7-4412-cbe3-7e258a62c6fa"
      },
      "execution_count": null,
      "outputs": [
        {
          "output_type": "execute_result",
          "data": {
            "text/plain": [
              "   Item_Identifier  Item_Weight  Item_Fat_Content  Item_Visibility  Item_Type  \\\n",
              "0              156         9.30               156         0.016047          4   \n",
              "1                8         5.92                 8         0.019278         14   \n",
              "2              662        17.50               662         0.016760         10   \n",
              "3             1121        19.20              1121         0.074402          6   \n",
              "4             1297         8.93              1297         0.064299          9   \n",
              "\n",
              "   Item_MRP  Outlet_Identifier  Outlet_Establishment_Year  Outlet_Size  \\\n",
              "0  249.8092                  9                       1999            1   \n",
              "1   48.2692                  3                       2009            1   \n",
              "2  141.6180                  9                       1999            1   \n",
              "3  182.0950                  0                       1998            1   \n",
              "4   53.8614                  1                       1987            0   \n",
              "\n",
              "   Outlet_Location_Type  Outlet_Type  Item_Outlet_Sales  \n",
              "0                     0            1          3735.1380  \n",
              "1                     2            2           443.4228  \n",
              "2                     0            1          2097.2700  \n",
              "3                     2            0           732.3800  \n",
              "4                     2            1           994.7052  "
            ],
            "text/html": [
              "\n",
              "  <div id=\"df-7589b918-9b2a-4793-a355-d2571c1ad8da\">\n",
              "    <div class=\"colab-df-container\">\n",
              "      <div>\n",
              "<style scoped>\n",
              "    .dataframe tbody tr th:only-of-type {\n",
              "        vertical-align: middle;\n",
              "    }\n",
              "\n",
              "    .dataframe tbody tr th {\n",
              "        vertical-align: top;\n",
              "    }\n",
              "\n",
              "    .dataframe thead th {\n",
              "        text-align: right;\n",
              "    }\n",
              "</style>\n",
              "<table border=\"1\" class=\"dataframe\">\n",
              "  <thead>\n",
              "    <tr style=\"text-align: right;\">\n",
              "      <th></th>\n",
              "      <th>Item_Identifier</th>\n",
              "      <th>Item_Weight</th>\n",
              "      <th>Item_Fat_Content</th>\n",
              "      <th>Item_Visibility</th>\n",
              "      <th>Item_Type</th>\n",
              "      <th>Item_MRP</th>\n",
              "      <th>Outlet_Identifier</th>\n",
              "      <th>Outlet_Establishment_Year</th>\n",
              "      <th>Outlet_Size</th>\n",
              "      <th>Outlet_Location_Type</th>\n",
              "      <th>Outlet_Type</th>\n",
              "      <th>Item_Outlet_Sales</th>\n",
              "    </tr>\n",
              "  </thead>\n",
              "  <tbody>\n",
              "    <tr>\n",
              "      <th>0</th>\n",
              "      <td>156</td>\n",
              "      <td>9.30</td>\n",
              "      <td>156</td>\n",
              "      <td>0.016047</td>\n",
              "      <td>4</td>\n",
              "      <td>249.8092</td>\n",
              "      <td>9</td>\n",
              "      <td>1999</td>\n",
              "      <td>1</td>\n",
              "      <td>0</td>\n",
              "      <td>1</td>\n",
              "      <td>3735.1380</td>\n",
              "    </tr>\n",
              "    <tr>\n",
              "      <th>1</th>\n",
              "      <td>8</td>\n",
              "      <td>5.92</td>\n",
              "      <td>8</td>\n",
              "      <td>0.019278</td>\n",
              "      <td>14</td>\n",
              "      <td>48.2692</td>\n",
              "      <td>3</td>\n",
              "      <td>2009</td>\n",
              "      <td>1</td>\n",
              "      <td>2</td>\n",
              "      <td>2</td>\n",
              "      <td>443.4228</td>\n",
              "    </tr>\n",
              "    <tr>\n",
              "      <th>2</th>\n",
              "      <td>662</td>\n",
              "      <td>17.50</td>\n",
              "      <td>662</td>\n",
              "      <td>0.016760</td>\n",
              "      <td>10</td>\n",
              "      <td>141.6180</td>\n",
              "      <td>9</td>\n",
              "      <td>1999</td>\n",
              "      <td>1</td>\n",
              "      <td>0</td>\n",
              "      <td>1</td>\n",
              "      <td>2097.2700</td>\n",
              "    </tr>\n",
              "    <tr>\n",
              "      <th>3</th>\n",
              "      <td>1121</td>\n",
              "      <td>19.20</td>\n",
              "      <td>1121</td>\n",
              "      <td>0.074402</td>\n",
              "      <td>6</td>\n",
              "      <td>182.0950</td>\n",
              "      <td>0</td>\n",
              "      <td>1998</td>\n",
              "      <td>1</td>\n",
              "      <td>2</td>\n",
              "      <td>0</td>\n",
              "      <td>732.3800</td>\n",
              "    </tr>\n",
              "    <tr>\n",
              "      <th>4</th>\n",
              "      <td>1297</td>\n",
              "      <td>8.93</td>\n",
              "      <td>1297</td>\n",
              "      <td>0.064299</td>\n",
              "      <td>9</td>\n",
              "      <td>53.8614</td>\n",
              "      <td>1</td>\n",
              "      <td>1987</td>\n",
              "      <td>0</td>\n",
              "      <td>2</td>\n",
              "      <td>1</td>\n",
              "      <td>994.7052</td>\n",
              "    </tr>\n",
              "  </tbody>\n",
              "</table>\n",
              "</div>\n",
              "      <button class=\"colab-df-convert\" onclick=\"convertToInteractive('df-7589b918-9b2a-4793-a355-d2571c1ad8da')\"\n",
              "              title=\"Convert this dataframe to an interactive table.\"\n",
              "              style=\"display:none;\">\n",
              "        \n",
              "  <svg xmlns=\"http://www.w3.org/2000/svg\" height=\"24px\"viewBox=\"0 0 24 24\"\n",
              "       width=\"24px\">\n",
              "    <path d=\"M0 0h24v24H0V0z\" fill=\"none\"/>\n",
              "    <path d=\"M18.56 5.44l.94 2.06.94-2.06 2.06-.94-2.06-.94-.94-2.06-.94 2.06-2.06.94zm-11 1L8.5 8.5l.94-2.06 2.06-.94-2.06-.94L8.5 2.5l-.94 2.06-2.06.94zm10 10l.94 2.06.94-2.06 2.06-.94-2.06-.94-.94-2.06-.94 2.06-2.06.94z\"/><path d=\"M17.41 7.96l-1.37-1.37c-.4-.4-.92-.59-1.43-.59-.52 0-1.04.2-1.43.59L10.3 9.45l-7.72 7.72c-.78.78-.78 2.05 0 2.83L4 21.41c.39.39.9.59 1.41.59.51 0 1.02-.2 1.41-.59l7.78-7.78 2.81-2.81c.8-.78.8-2.07 0-2.86zM5.41 20L4 18.59l7.72-7.72 1.47 1.35L5.41 20z\"/>\n",
              "  </svg>\n",
              "      </button>\n",
              "      \n",
              "  <style>\n",
              "    .colab-df-container {\n",
              "      display:flex;\n",
              "      flex-wrap:wrap;\n",
              "      gap: 12px;\n",
              "    }\n",
              "\n",
              "    .colab-df-convert {\n",
              "      background-color: #E8F0FE;\n",
              "      border: none;\n",
              "      border-radius: 50%;\n",
              "      cursor: pointer;\n",
              "      display: none;\n",
              "      fill: #1967D2;\n",
              "      height: 32px;\n",
              "      padding: 0 0 0 0;\n",
              "      width: 32px;\n",
              "    }\n",
              "\n",
              "    .colab-df-convert:hover {\n",
              "      background-color: #E2EBFA;\n",
              "      box-shadow: 0px 1px 2px rgba(60, 64, 67, 0.3), 0px 1px 3px 1px rgba(60, 64, 67, 0.15);\n",
              "      fill: #174EA6;\n",
              "    }\n",
              "\n",
              "    [theme=dark] .colab-df-convert {\n",
              "      background-color: #3B4455;\n",
              "      fill: #D2E3FC;\n",
              "    }\n",
              "\n",
              "    [theme=dark] .colab-df-convert:hover {\n",
              "      background-color: #434B5C;\n",
              "      box-shadow: 0px 1px 3px 1px rgba(0, 0, 0, 0.15);\n",
              "      filter: drop-shadow(0px 1px 2px rgba(0, 0, 0, 0.3));\n",
              "      fill: #FFFFFF;\n",
              "    }\n",
              "  </style>\n",
              "\n",
              "      <script>\n",
              "        const buttonEl =\n",
              "          document.querySelector('#df-7589b918-9b2a-4793-a355-d2571c1ad8da button.colab-df-convert');\n",
              "        buttonEl.style.display =\n",
              "          google.colab.kernel.accessAllowed ? 'block' : 'none';\n",
              "\n",
              "        async function convertToInteractive(key) {\n",
              "          const element = document.querySelector('#df-7589b918-9b2a-4793-a355-d2571c1ad8da');\n",
              "          const dataTable =\n",
              "            await google.colab.kernel.invokeFunction('convertToInteractive',\n",
              "                                                     [key], {});\n",
              "          if (!dataTable) return;\n",
              "\n",
              "          const docLinkHtml = 'Like what you see? Visit the ' +\n",
              "            '<a target=\"_blank\" href=https://colab.research.google.com/notebooks/data_table.ipynb>data table notebook</a>'\n",
              "            + ' to learn more about interactive tables.';\n",
              "          element.innerHTML = '';\n",
              "          dataTable['output_type'] = 'display_data';\n",
              "          await google.colab.output.renderOutput(dataTable, element);\n",
              "          const docLink = document.createElement('div');\n",
              "          docLink.innerHTML = docLinkHtml;\n",
              "          element.appendChild(docLink);\n",
              "        }\n",
              "      </script>\n",
              "    </div>\n",
              "  </div>\n",
              "  "
            ]
          },
          "metadata": {},
          "execution_count": 16
        }
      ]
    },
    {
      "cell_type": "code",
      "source": [
        "# scaling the data\n",
        "# scaling the dataset\n",
        "def feature_scale(scale):\n",
        "  numerics = ['int16', 'int32', 'int64', 'float16', 'float32', 'float64']\n",
        "  new_data = df.select_dtypes(include=numerics)\n",
        "  if scale == 'minmax':\n",
        "    scaler = MinMaxScaler()\n",
        "  else:\n",
        "    scaler = StandardScaler()\n",
        "  data_scaled = pd.DataFrame(scaler.fit_transform(new_data.to_numpy()),columns=new_data.columns)\n",
        "  return data_scaled"
      ],
      "metadata": {
        "id": "7wbAhFMTQ4bA"
      },
      "execution_count": null,
      "outputs": []
    },
    {
      "cell_type": "code",
      "source": [
        "# scaling the data using MinMax Scaling process\n",
        "scale = 'minmax' #standard\n",
        "data_scaled = feature_scale(scale)\n",
        "data_scaled.head()"
      ],
      "metadata": {
        "colab": {
          "base_uri": "https://localhost:8080/",
          "height": 270
        },
        "id": "QxLrv3U2Q4Xd",
        "outputId": "4d018e3a-4b46-4f2b-cad3-23d70e910136"
      },
      "execution_count": null,
      "outputs": [
        {
          "output_type": "execute_result",
          "data": {
            "text/plain": [
              "   Item_Identifier  Item_Weight  Item_Fat_Content  Item_Visibility  Item_Type  \\\n",
              "0         0.100128     0.282525          0.100128         0.038399   0.266667   \n",
              "1         0.005135     0.081274          0.005135         0.048346   0.933333   \n",
              "2         0.424904     0.770765          0.424904         0.040593   0.666667   \n",
              "3         0.719512     0.871986          0.719512         0.218055   0.400000   \n",
              "4         0.832478     0.260494          0.832478         0.186950   0.600000   \n",
              "\n",
              "   Item_MRP  Outlet_Identifier  Outlet_Establishment_Year  Outlet_Size  \\\n",
              "0  0.927507           1.000000                   0.583333          0.5   \n",
              "1  0.072068           0.333333                   1.000000          0.5   \n",
              "2  0.468288           1.000000                   0.583333          0.5   \n",
              "3  0.640093           0.000000                   0.541667          0.5   \n",
              "4  0.095805           0.111111                   0.083333          0.0   \n",
              "\n",
              "   Outlet_Location_Type  Outlet_Type  Item_Outlet_Sales  \n",
              "0                   0.0     0.333333           0.285276  \n",
              "1                   1.0     0.666667           0.033703  \n",
              "2                   0.0     0.333333           0.160100  \n",
              "3                   1.0     0.000000           0.055787  \n",
              "4                   1.0     0.333333           0.075835  "
            ],
            "text/html": [
              "\n",
              "  <div id=\"df-88fbd9a6-52c1-47c9-a7ae-66a09bbfa6ee\">\n",
              "    <div class=\"colab-df-container\">\n",
              "      <div>\n",
              "<style scoped>\n",
              "    .dataframe tbody tr th:only-of-type {\n",
              "        vertical-align: middle;\n",
              "    }\n",
              "\n",
              "    .dataframe tbody tr th {\n",
              "        vertical-align: top;\n",
              "    }\n",
              "\n",
              "    .dataframe thead th {\n",
              "        text-align: right;\n",
              "    }\n",
              "</style>\n",
              "<table border=\"1\" class=\"dataframe\">\n",
              "  <thead>\n",
              "    <tr style=\"text-align: right;\">\n",
              "      <th></th>\n",
              "      <th>Item_Identifier</th>\n",
              "      <th>Item_Weight</th>\n",
              "      <th>Item_Fat_Content</th>\n",
              "      <th>Item_Visibility</th>\n",
              "      <th>Item_Type</th>\n",
              "      <th>Item_MRP</th>\n",
              "      <th>Outlet_Identifier</th>\n",
              "      <th>Outlet_Establishment_Year</th>\n",
              "      <th>Outlet_Size</th>\n",
              "      <th>Outlet_Location_Type</th>\n",
              "      <th>Outlet_Type</th>\n",
              "      <th>Item_Outlet_Sales</th>\n",
              "    </tr>\n",
              "  </thead>\n",
              "  <tbody>\n",
              "    <tr>\n",
              "      <th>0</th>\n",
              "      <td>0.100128</td>\n",
              "      <td>0.282525</td>\n",
              "      <td>0.100128</td>\n",
              "      <td>0.038399</td>\n",
              "      <td>0.266667</td>\n",
              "      <td>0.927507</td>\n",
              "      <td>1.000000</td>\n",
              "      <td>0.583333</td>\n",
              "      <td>0.5</td>\n",
              "      <td>0.0</td>\n",
              "      <td>0.333333</td>\n",
              "      <td>0.285276</td>\n",
              "    </tr>\n",
              "    <tr>\n",
              "      <th>1</th>\n",
              "      <td>0.005135</td>\n",
              "      <td>0.081274</td>\n",
              "      <td>0.005135</td>\n",
              "      <td>0.048346</td>\n",
              "      <td>0.933333</td>\n",
              "      <td>0.072068</td>\n",
              "      <td>0.333333</td>\n",
              "      <td>1.000000</td>\n",
              "      <td>0.5</td>\n",
              "      <td>1.0</td>\n",
              "      <td>0.666667</td>\n",
              "      <td>0.033703</td>\n",
              "    </tr>\n",
              "    <tr>\n",
              "      <th>2</th>\n",
              "      <td>0.424904</td>\n",
              "      <td>0.770765</td>\n",
              "      <td>0.424904</td>\n",
              "      <td>0.040593</td>\n",
              "      <td>0.666667</td>\n",
              "      <td>0.468288</td>\n",
              "      <td>1.000000</td>\n",
              "      <td>0.583333</td>\n",
              "      <td>0.5</td>\n",
              "      <td>0.0</td>\n",
              "      <td>0.333333</td>\n",
              "      <td>0.160100</td>\n",
              "    </tr>\n",
              "    <tr>\n",
              "      <th>3</th>\n",
              "      <td>0.719512</td>\n",
              "      <td>0.871986</td>\n",
              "      <td>0.719512</td>\n",
              "      <td>0.218055</td>\n",
              "      <td>0.400000</td>\n",
              "      <td>0.640093</td>\n",
              "      <td>0.000000</td>\n",
              "      <td>0.541667</td>\n",
              "      <td>0.5</td>\n",
              "      <td>1.0</td>\n",
              "      <td>0.000000</td>\n",
              "      <td>0.055787</td>\n",
              "    </tr>\n",
              "    <tr>\n",
              "      <th>4</th>\n",
              "      <td>0.832478</td>\n",
              "      <td>0.260494</td>\n",
              "      <td>0.832478</td>\n",
              "      <td>0.186950</td>\n",
              "      <td>0.600000</td>\n",
              "      <td>0.095805</td>\n",
              "      <td>0.111111</td>\n",
              "      <td>0.083333</td>\n",
              "      <td>0.0</td>\n",
              "      <td>1.0</td>\n",
              "      <td>0.333333</td>\n",
              "      <td>0.075835</td>\n",
              "    </tr>\n",
              "  </tbody>\n",
              "</table>\n",
              "</div>\n",
              "      <button class=\"colab-df-convert\" onclick=\"convertToInteractive('df-88fbd9a6-52c1-47c9-a7ae-66a09bbfa6ee')\"\n",
              "              title=\"Convert this dataframe to an interactive table.\"\n",
              "              style=\"display:none;\">\n",
              "        \n",
              "  <svg xmlns=\"http://www.w3.org/2000/svg\" height=\"24px\"viewBox=\"0 0 24 24\"\n",
              "       width=\"24px\">\n",
              "    <path d=\"M0 0h24v24H0V0z\" fill=\"none\"/>\n",
              "    <path d=\"M18.56 5.44l.94 2.06.94-2.06 2.06-.94-2.06-.94-.94-2.06-.94 2.06-2.06.94zm-11 1L8.5 8.5l.94-2.06 2.06-.94-2.06-.94L8.5 2.5l-.94 2.06-2.06.94zm10 10l.94 2.06.94-2.06 2.06-.94-2.06-.94-.94-2.06-.94 2.06-2.06.94z\"/><path d=\"M17.41 7.96l-1.37-1.37c-.4-.4-.92-.59-1.43-.59-.52 0-1.04.2-1.43.59L10.3 9.45l-7.72 7.72c-.78.78-.78 2.05 0 2.83L4 21.41c.39.39.9.59 1.41.59.51 0 1.02-.2 1.41-.59l7.78-7.78 2.81-2.81c.8-.78.8-2.07 0-2.86zM5.41 20L4 18.59l7.72-7.72 1.47 1.35L5.41 20z\"/>\n",
              "  </svg>\n",
              "      </button>\n",
              "      \n",
              "  <style>\n",
              "    .colab-df-container {\n",
              "      display:flex;\n",
              "      flex-wrap:wrap;\n",
              "      gap: 12px;\n",
              "    }\n",
              "\n",
              "    .colab-df-convert {\n",
              "      background-color: #E8F0FE;\n",
              "      border: none;\n",
              "      border-radius: 50%;\n",
              "      cursor: pointer;\n",
              "      display: none;\n",
              "      fill: #1967D2;\n",
              "      height: 32px;\n",
              "      padding: 0 0 0 0;\n",
              "      width: 32px;\n",
              "    }\n",
              "\n",
              "    .colab-df-convert:hover {\n",
              "      background-color: #E2EBFA;\n",
              "      box-shadow: 0px 1px 2px rgba(60, 64, 67, 0.3), 0px 1px 3px 1px rgba(60, 64, 67, 0.15);\n",
              "      fill: #174EA6;\n",
              "    }\n",
              "\n",
              "    [theme=dark] .colab-df-convert {\n",
              "      background-color: #3B4455;\n",
              "      fill: #D2E3FC;\n",
              "    }\n",
              "\n",
              "    [theme=dark] .colab-df-convert:hover {\n",
              "      background-color: #434B5C;\n",
              "      box-shadow: 0px 1px 3px 1px rgba(0, 0, 0, 0.15);\n",
              "      filter: drop-shadow(0px 1px 2px rgba(0, 0, 0, 0.3));\n",
              "      fill: #FFFFFF;\n",
              "    }\n",
              "  </style>\n",
              "\n",
              "      <script>\n",
              "        const buttonEl =\n",
              "          document.querySelector('#df-88fbd9a6-52c1-47c9-a7ae-66a09bbfa6ee button.colab-df-convert');\n",
              "        buttonEl.style.display =\n",
              "          google.colab.kernel.accessAllowed ? 'block' : 'none';\n",
              "\n",
              "        async function convertToInteractive(key) {\n",
              "          const element = document.querySelector('#df-88fbd9a6-52c1-47c9-a7ae-66a09bbfa6ee');\n",
              "          const dataTable =\n",
              "            await google.colab.kernel.invokeFunction('convertToInteractive',\n",
              "                                                     [key], {});\n",
              "          if (!dataTable) return;\n",
              "\n",
              "          const docLinkHtml = 'Like what you see? Visit the ' +\n",
              "            '<a target=\"_blank\" href=https://colab.research.google.com/notebooks/data_table.ipynb>data table notebook</a>'\n",
              "            + ' to learn more about interactive tables.';\n",
              "          element.innerHTML = '';\n",
              "          dataTable['output_type'] = 'display_data';\n",
              "          await google.colab.output.renderOutput(dataTable, element);\n",
              "          const docLink = document.createElement('div');\n",
              "          docLink.innerHTML = docLinkHtml;\n",
              "          element.appendChild(docLink);\n",
              "        }\n",
              "      </script>\n",
              "    </div>\n",
              "  </div>\n",
              "  "
            ]
          },
          "metadata": {},
          "execution_count": 18
        }
      ]
    },
    {
      "cell_type": "code",
      "source": [
        "# correlation\n",
        "corr = data_scaled.corr()\n",
        "corr.style.background_gradient(cmap='Wistia')"
      ],
      "metadata": {
        "colab": {
          "base_uri": "https://localhost:8080/",
          "height": 446
        },
        "id": "vIo7VP71Q4VE",
        "outputId": "b14258b6-4649-474c-e8ec-f0f769b4a021"
      },
      "execution_count": null,
      "outputs": [
        {
          "output_type": "execute_result",
          "data": {
            "text/plain": [
              "<pandas.io.formats.style.Styler at 0x7f181e014350>"
            ],
            "text/html": [
              "<style type=\"text/css\">\n",
              "#T_d785b_row0_col0, #T_d785b_row0_col2, #T_d785b_row1_col1, #T_d785b_row2_col0, #T_d785b_row2_col2, #T_d785b_row3_col3, #T_d785b_row4_col4, #T_d785b_row5_col5, #T_d785b_row6_col6, #T_d785b_row7_col7, #T_d785b_row8_col8, #T_d785b_row9_col9, #T_d785b_row10_col10, #T_d785b_row11_col11 {\n",
              "  background-color: #fc7f00;\n",
              "  color: #f1f1f1;\n",
              "}\n",
              "#T_d785b_row0_col1, #T_d785b_row1_col4, #T_d785b_row2_col1, #T_d785b_row3_col10, #T_d785b_row7_col3 {\n",
              "  background-color: #ebf960;\n",
              "  color: #000000;\n",
              "}\n",
              "#T_d785b_row0_col3, #T_d785b_row2_col3, #T_d785b_row4_col7, #T_d785b_row7_col10 {\n",
              "  background-color: #f0f550;\n",
              "  color: #000000;\n",
              "}\n",
              "#T_d785b_row0_col4, #T_d785b_row2_col4 {\n",
              "  background-color: #e7fd71;\n",
              "  color: #000000;\n",
              "}\n",
              "#T_d785b_row0_col5, #T_d785b_row2_col5, #T_d785b_row6_col1, #T_d785b_row7_col1, #T_d785b_row8_col1, #T_d785b_row10_col1 {\n",
              "  background-color: #e6fd72;\n",
              "  color: #000000;\n",
              "}\n",
              "#T_d785b_row0_col6, #T_d785b_row0_col9, #T_d785b_row1_col9, #T_d785b_row2_col6, #T_d785b_row2_col9, #T_d785b_row4_col6, #T_d785b_row5_col6, #T_d785b_row5_col9 {\n",
              "  background-color: #ffcc09;\n",
              "  color: #000000;\n",
              "}\n",
              "#T_d785b_row0_col7, #T_d785b_row1_col7, #T_d785b_row2_col7, #T_d785b_row5_col7 {\n",
              "  background-color: #eff551;\n",
              "  color: #000000;\n",
              "}\n",
              "#T_d785b_row0_col8, #T_d785b_row1_col8, #T_d785b_row2_col8 {\n",
              "  background-color: #ffd30d;\n",
              "  color: #000000;\n",
              "}\n",
              "#T_d785b_row0_col10, #T_d785b_row2_col10 {\n",
              "  background-color: #faed2d;\n",
              "  color: #000000;\n",
              "}\n",
              "#T_d785b_row0_col11, #T_d785b_row2_col11, #T_d785b_row8_col9 {\n",
              "  background-color: #ecf95f;\n",
              "  color: #000000;\n",
              "}\n",
              "#T_d785b_row1_col0, #T_d785b_row1_col2 {\n",
              "  background-color: #edf759;\n",
              "  color: #000000;\n",
              "}\n",
              "#T_d785b_row1_col3, #T_d785b_row9_col3 {\n",
              "  background-color: #f2f348;\n",
              "  color: #000000;\n",
              "}\n",
              "#T_d785b_row1_col5, #T_d785b_row7_col11, #T_d785b_row11_col4 {\n",
              "  background-color: #e9fb69;\n",
              "  color: #000000;\n",
              "}\n",
              "#T_d785b_row1_col6, #T_d785b_row4_col9 {\n",
              "  background-color: #ffcb08;\n",
              "  color: #000000;\n",
              "}\n",
              "#T_d785b_row1_col10, #T_d785b_row4_col10, #T_d785b_row10_col8 {\n",
              "  background-color: #faec2a;\n",
              "  color: #000000;\n",
              "}\n",
              "#T_d785b_row1_col11 {\n",
              "  background-color: #eef757;\n",
              "  color: #000000;\n",
              "}\n",
              "#T_d785b_row3_col0, #T_d785b_row3_col1, #T_d785b_row3_col2, #T_d785b_row3_col4, #T_d785b_row3_col5, #T_d785b_row3_col11, #T_d785b_row6_col9, #T_d785b_row8_col10, #T_d785b_row9_col6, #T_d785b_row9_col8, #T_d785b_row10_col3, #T_d785b_row10_col7 {\n",
              "  background-color: #e4ff7a;\n",
              "  color: #000000;\n",
              "}\n",
              "#T_d785b_row3_col6 {\n",
              "  background-color: #ffd60f;\n",
              "  color: #000000;\n",
              "}\n",
              "#T_d785b_row3_col7, #T_d785b_row4_col0, #T_d785b_row4_col2, #T_d785b_row9_col7 {\n",
              "  background-color: #e7fc6f;\n",
              "  color: #000000;\n",
              "}\n",
              "#T_d785b_row3_col8 {\n",
              "  background-color: #ffd00c;\n",
              "  color: #000000;\n",
              "}\n",
              "#T_d785b_row3_col9, #T_d785b_row11_col10 {\n",
              "  background-color: #ffce0a;\n",
              "  color: #000000;\n",
              "}\n",
              "#T_d785b_row4_col1, #T_d785b_row4_col5, #T_d785b_row6_col3 {\n",
              "  background-color: #eafa66;\n",
              "  color: #000000;\n",
              "}\n",
              "#T_d785b_row4_col3 {\n",
              "  background-color: #f0f54e;\n",
              "  color: #000000;\n",
              "}\n",
              "#T_d785b_row4_col8, #T_d785b_row5_col8, #T_d785b_row7_col9 {\n",
              "  background-color: #ffd40e;\n",
              "  color: #000000;\n",
              "}\n",
              "#T_d785b_row4_col11, #T_d785b_row11_col7 {\n",
              "  background-color: #edf75a;\n",
              "  color: #000000;\n",
              "}\n",
              "#T_d785b_row5_col0, #T_d785b_row5_col2 {\n",
              "  background-color: #e9fb68;\n",
              "  color: #000000;\n",
              "}\n",
              "#T_d785b_row5_col1 {\n",
              "  background-color: #eafa65;\n",
              "  color: #000000;\n",
              "}\n",
              "#T_d785b_row5_col3 {\n",
              "  background-color: #f3f245;\n",
              "  color: #000000;\n",
              "}\n",
              "#T_d785b_row5_col4, #T_d785b_row11_col3 {\n",
              "  background-color: #ecf85c;\n",
              "  color: #000000;\n",
              "}\n",
              "#T_d785b_row5_col10 {\n",
              "  background-color: #faec2c;\n",
              "  color: #000000;\n",
              "}\n",
              "#T_d785b_row5_col11 {\n",
              "  background-color: #ffd00b;\n",
              "  color: #000000;\n",
              "}\n",
              "#T_d785b_row6_col0, #T_d785b_row6_col2, #T_d785b_row6_col4, #T_d785b_row7_col0, #T_d785b_row7_col2, #T_d785b_row8_col4, #T_d785b_row9_col0, #T_d785b_row9_col2, #T_d785b_row9_col4 {\n",
              "  background-color: #e8fc6c;\n",
              "  color: #000000;\n",
              "}\n",
              "#T_d785b_row6_col5, #T_d785b_row7_col5, #T_d785b_row9_col5, #T_d785b_row10_col5 {\n",
              "  background-color: #e5fe77;\n",
              "  color: #000000;\n",
              "}\n",
              "#T_d785b_row6_col7 {\n",
              "  background-color: #f7ef36;\n",
              "  color: #000000;\n",
              "}\n",
              "#T_d785b_row6_col8 {\n",
              "  background-color: #ffad00;\n",
              "  color: #000000;\n",
              "}\n",
              "#T_d785b_row6_col10 {\n",
              "  background-color: #ffe216;\n",
              "  color: #000000;\n",
              "}\n",
              "#T_d785b_row6_col11 {\n",
              "  background-color: #f5f03c;\n",
              "  color: #000000;\n",
              "}\n",
              "#T_d785b_row7_col4, #T_d785b_row8_col0, #T_d785b_row8_col2, #T_d785b_row8_col11, #T_d785b_row10_col4, #T_d785b_row11_col0, #T_d785b_row11_col1, #T_d785b_row11_col2 {\n",
              "  background-color: #e8fb6b;\n",
              "  color: #000000;\n",
              "}\n",
              "#T_d785b_row7_col6 {\n",
              "  background-color: #ffc304;\n",
              "  color: #000000;\n",
              "}\n",
              "#T_d785b_row7_col8 {\n",
              "  background-color: #ffac00;\n",
              "  color: #000000;\n",
              "}\n",
              "#T_d785b_row8_col3 {\n",
              "  background-color: #f6ef39;\n",
              "  color: #000000;\n",
              "}\n",
              "#T_d785b_row8_col5 {\n",
              "  background-color: #e4ff78;\n",
              "  color: #000000;\n",
              "}\n",
              "#T_d785b_row8_col6 {\n",
              "  background-color: #ffaa00;\n",
              "  color: #000000;\n",
              "}\n",
              "#T_d785b_row8_col7 {\n",
              "  background-color: #ffbf01;\n",
              "  color: #000000;\n",
              "}\n",
              "#T_d785b_row9_col1 {\n",
              "  background-color: #e6fe74;\n",
              "  color: #000000;\n",
              "}\n",
              "#T_d785b_row9_col10 {\n",
              "  background-color: #ffb400;\n",
              "  color: #000000;\n",
              "}\n",
              "#T_d785b_row9_col11 {\n",
              "  background-color: #f1f44b;\n",
              "  color: #000000;\n",
              "}\n",
              "#T_d785b_row10_col0, #T_d785b_row10_col2 {\n",
              "  background-color: #e7fc6e;\n",
              "  color: #000000;\n",
              "}\n",
              "#T_d785b_row10_col6, #T_d785b_row11_col6 {\n",
              "  background-color: #ffc103;\n",
              "  color: #000000;\n",
              "}\n",
              "#T_d785b_row10_col9 {\n",
              "  background-color: #ffa700;\n",
              "  color: #000000;\n",
              "}\n",
              "#T_d785b_row10_col11 {\n",
              "  background-color: #ffe015;\n",
              "  color: #000000;\n",
              "}\n",
              "#T_d785b_row11_col5, #T_d785b_row11_col8 {\n",
              "  background-color: #ffd710;\n",
              "  color: #000000;\n",
              "}\n",
              "#T_d785b_row11_col9 {\n",
              "  background-color: #ffc606;\n",
              "  color: #000000;\n",
              "}\n",
              "</style>\n",
              "<table id=\"T_d785b_\" class=\"dataframe\">\n",
              "  <thead>\n",
              "    <tr>\n",
              "      <th class=\"blank level0\" >&nbsp;</th>\n",
              "      <th class=\"col_heading level0 col0\" >Item_Identifier</th>\n",
              "      <th class=\"col_heading level0 col1\" >Item_Weight</th>\n",
              "      <th class=\"col_heading level0 col2\" >Item_Fat_Content</th>\n",
              "      <th class=\"col_heading level0 col3\" >Item_Visibility</th>\n",
              "      <th class=\"col_heading level0 col4\" >Item_Type</th>\n",
              "      <th class=\"col_heading level0 col5\" >Item_MRP</th>\n",
              "      <th class=\"col_heading level0 col6\" >Outlet_Identifier</th>\n",
              "      <th class=\"col_heading level0 col7\" >Outlet_Establishment_Year</th>\n",
              "      <th class=\"col_heading level0 col8\" >Outlet_Size</th>\n",
              "      <th class=\"col_heading level0 col9\" >Outlet_Location_Type</th>\n",
              "      <th class=\"col_heading level0 col10\" >Outlet_Type</th>\n",
              "      <th class=\"col_heading level0 col11\" >Item_Outlet_Sales</th>\n",
              "    </tr>\n",
              "  </thead>\n",
              "  <tbody>\n",
              "    <tr>\n",
              "      <th id=\"T_d785b_level0_row0\" class=\"row_heading level0 row0\" >Item_Identifier</th>\n",
              "      <td id=\"T_d785b_row0_col0\" class=\"data row0 col0\" >1.000000</td>\n",
              "      <td id=\"T_d785b_row0_col1\" class=\"data row0 col1\" >0.050768</td>\n",
              "      <td id=\"T_d785b_row0_col2\" class=\"data row0 col2\" >1.000000</td>\n",
              "      <td id=\"T_d785b_row0_col3\" class=\"data row0 col3\" >-0.040769</td>\n",
              "      <td id=\"T_d785b_row0_col4\" class=\"data row0 col4\" >-0.012048</td>\n",
              "      <td id=\"T_d785b_row0_col5\" class=\"data row0 col5\" >0.010743</td>\n",
              "      <td id=\"T_d785b_row0_col6\" class=\"data row0 col6\" >-0.001089</td>\n",
              "      <td id=\"T_d785b_row0_col7\" class=\"data row0 col7\" >-0.002954</td>\n",
              "      <td id=\"T_d785b_row0_col8\" class=\"data row0 col8\" >0.002209</td>\n",
              "      <td id=\"T_d785b_row0_col9\" class=\"data row0 col9\" >-0.002473</td>\n",
              "      <td id=\"T_d785b_row0_col10\" class=\"data row0 col10\" >-0.004532</td>\n",
              "      <td id=\"T_d785b_row0_col11\" class=\"data row0 col11\" >0.000908</td>\n",
              "    </tr>\n",
              "    <tr>\n",
              "      <th id=\"T_d785b_level0_row1\" class=\"row_heading level0 row1\" >Item_Weight</th>\n",
              "      <td id=\"T_d785b_row1_col0\" class=\"data row1 col0\" >0.050768</td>\n",
              "      <td id=\"T_d785b_row1_col1\" class=\"data row1 col1\" >1.000000</td>\n",
              "      <td id=\"T_d785b_row1_col2\" class=\"data row1 col2\" >0.050768</td>\n",
              "      <td id=\"T_d785b_row1_col3\" class=\"data row1 col3\" >-0.020472</td>\n",
              "      <td id=\"T_d785b_row1_col4\" class=\"data row1 col4\" >0.031884</td>\n",
              "      <td id=\"T_d785b_row1_col5\" class=\"data row1 col5\" >0.035751</td>\n",
              "      <td id=\"T_d785b_row1_col6\" class=\"data row1 col6\" >0.003002</td>\n",
              "      <td id=\"T_d785b_row1_col7\" class=\"data row1 col7\" >0.000247</td>\n",
              "      <td id=\"T_d785b_row1_col8\" class=\"data row1 col8\" >0.000944</td>\n",
              "      <td id=\"T_d785b_row1_col9\" class=\"data row1 col9\" >-0.001719</td>\n",
              "      <td id=\"T_d785b_row1_col10\" class=\"data row1 col10\" >0.001913</td>\n",
              "      <td id=\"T_d785b_row1_col11\" class=\"data row1 col11\" >0.021257</td>\n",
              "    </tr>\n",
              "    <tr>\n",
              "      <th id=\"T_d785b_level0_row2\" class=\"row_heading level0 row2\" >Item_Fat_Content</th>\n",
              "      <td id=\"T_d785b_row2_col0\" class=\"data row2 col0\" >1.000000</td>\n",
              "      <td id=\"T_d785b_row2_col1\" class=\"data row2 col1\" >0.050768</td>\n",
              "      <td id=\"T_d785b_row2_col2\" class=\"data row2 col2\" >1.000000</td>\n",
              "      <td id=\"T_d785b_row2_col3\" class=\"data row2 col3\" >-0.040769</td>\n",
              "      <td id=\"T_d785b_row2_col4\" class=\"data row2 col4\" >-0.012048</td>\n",
              "      <td id=\"T_d785b_row2_col5\" class=\"data row2 col5\" >0.010743</td>\n",
              "      <td id=\"T_d785b_row2_col6\" class=\"data row2 col6\" >-0.001089</td>\n",
              "      <td id=\"T_d785b_row2_col7\" class=\"data row2 col7\" >-0.002954</td>\n",
              "      <td id=\"T_d785b_row2_col8\" class=\"data row2 col8\" >0.002209</td>\n",
              "      <td id=\"T_d785b_row2_col9\" class=\"data row2 col9\" >-0.002473</td>\n",
              "      <td id=\"T_d785b_row2_col10\" class=\"data row2 col10\" >-0.004532</td>\n",
              "      <td id=\"T_d785b_row2_col11\" class=\"data row2 col11\" >0.000908</td>\n",
              "    </tr>\n",
              "    <tr>\n",
              "      <th id=\"T_d785b_level0_row3\" class=\"row_heading level0 row3\" >Item_Visibility</th>\n",
              "      <td id=\"T_d785b_row3_col0\" class=\"data row3 col0\" >-0.040769</td>\n",
              "      <td id=\"T_d785b_row3_col1\" class=\"data row3 col1\" >-0.020472</td>\n",
              "      <td id=\"T_d785b_row3_col2\" class=\"data row3 col2\" >-0.040769</td>\n",
              "      <td id=\"T_d785b_row3_col3\" class=\"data row3 col3\" >1.000000</td>\n",
              "      <td id=\"T_d785b_row3_col4\" class=\"data row3 col4\" >-0.037821</td>\n",
              "      <td id=\"T_d785b_row3_col5\" class=\"data row3 col5\" >-0.009144</td>\n",
              "      <td id=\"T_d785b_row3_col6\" class=\"data row3 col6\" >-0.108731</td>\n",
              "      <td id=\"T_d785b_row3_col7\" class=\"data row3 col7\" >-0.090833</td>\n",
              "      <td id=\"T_d785b_row3_col8\" class=\"data row3 col8\" >0.026808</td>\n",
              "      <td id=\"T_d785b_row3_col9\" class=\"data row3 col9\" >-0.020550</td>\n",
              "      <td id=\"T_d785b_row3_col10\" class=\"data row3 col10\" >-0.172744</td>\n",
              "      <td id=\"T_d785b_row3_col11\" class=\"data row3 col11\" >-0.078925</td>\n",
              "    </tr>\n",
              "    <tr>\n",
              "      <th id=\"T_d785b_level0_row4\" class=\"row_heading level0 row4\" >Item_Type</th>\n",
              "      <td id=\"T_d785b_row4_col0\" class=\"data row4 col0\" >-0.012048</td>\n",
              "      <td id=\"T_d785b_row4_col1\" class=\"data row4 col1\" >0.031884</td>\n",
              "      <td id=\"T_d785b_row4_col2\" class=\"data row4 col2\" >-0.012048</td>\n",
              "      <td id=\"T_d785b_row4_col3\" class=\"data row4 col3\" >-0.037821</td>\n",
              "      <td id=\"T_d785b_row4_col4\" class=\"data row4 col4\" >1.000000</td>\n",
              "      <td id=\"T_d785b_row4_col5\" class=\"data row4 col5\" >0.043948</td>\n",
              "      <td id=\"T_d785b_row4_col6\" class=\"data row4 col6\" >0.001126</td>\n",
              "      <td id=\"T_d785b_row4_col7\" class=\"data row4 col7\" >0.003061</td>\n",
              "      <td id=\"T_d785b_row4_col8\" class=\"data row4 col8\" >-0.001080</td>\n",
              "      <td id=\"T_d785b_row4_col9\" class=\"data row4 col9\" >0.002083</td>\n",
              "      <td id=\"T_d785b_row4_col10\" class=\"data row4 col10\" >0.004305</td>\n",
              "      <td id=\"T_d785b_row4_col11\" class=\"data row4 col11\" >0.009774</td>\n",
              "    </tr>\n",
              "    <tr>\n",
              "      <th id=\"T_d785b_level0_row5\" class=\"row_heading level0 row5\" >Item_MRP</th>\n",
              "      <td id=\"T_d785b_row5_col0\" class=\"data row5 col0\" >0.010743</td>\n",
              "      <td id=\"T_d785b_row5_col1\" class=\"data row5 col1\" >0.035751</td>\n",
              "      <td id=\"T_d785b_row5_col2\" class=\"data row5 col2\" >0.010743</td>\n",
              "      <td id=\"T_d785b_row5_col3\" class=\"data row5 col3\" >-0.009144</td>\n",
              "      <td id=\"T_d785b_row5_col4\" class=\"data row5 col4\" >0.043948</td>\n",
              "      <td id=\"T_d785b_row5_col5\" class=\"data row5 col5\" >1.000000</td>\n",
              "      <td id=\"T_d785b_row5_col6\" class=\"data row5 col6\" >-0.000555</td>\n",
              "      <td id=\"T_d785b_row5_col7\" class=\"data row5 col7\" >0.000141</td>\n",
              "      <td id=\"T_d785b_row5_col8\" class=\"data row5 col8\" >-0.001305</td>\n",
              "      <td id=\"T_d785b_row5_col9\" class=\"data row5 col9\" >0.000838</td>\n",
              "      <td id=\"T_d785b_row5_col10\" class=\"data row5 col10\" >0.000136</td>\n",
              "      <td id=\"T_d785b_row5_col11\" class=\"data row5 col11\" >0.342933</td>\n",
              "    </tr>\n",
              "    <tr>\n",
              "      <th id=\"T_d785b_level0_row6\" class=\"row_heading level0 row6\" >Outlet_Identifier</th>\n",
              "      <td id=\"T_d785b_row6_col0\" class=\"data row6 col0\" >-0.001089</td>\n",
              "      <td id=\"T_d785b_row6_col1\" class=\"data row6 col1\" >0.003002</td>\n",
              "      <td id=\"T_d785b_row6_col2\" class=\"data row6 col2\" >-0.001089</td>\n",
              "      <td id=\"T_d785b_row6_col3\" class=\"data row6 col3\" >-0.108731</td>\n",
              "      <td id=\"T_d785b_row6_col4\" class=\"data row6 col4\" >0.001126</td>\n",
              "      <td id=\"T_d785b_row6_col5\" class=\"data row6 col5\" >-0.000555</td>\n",
              "      <td id=\"T_d785b_row6_col6\" class=\"data row6 col6\" >1.000000</td>\n",
              "      <td id=\"T_d785b_row6_col7\" class=\"data row6 col7\" >0.079047</td>\n",
              "      <td id=\"T_d785b_row6_col8\" class=\"data row6 col8\" >0.423623</td>\n",
              "      <td id=\"T_d785b_row6_col9\" class=\"data row6 col9\" >-0.716151</td>\n",
              "      <td id=\"T_d785b_row6_col10\" class=\"data row6 col10\" >0.099899</td>\n",
              "      <td id=\"T_d785b_row6_col11\" class=\"data row6 col11\" >0.097776</td>\n",
              "    </tr>\n",
              "    <tr>\n",
              "      <th id=\"T_d785b_level0_row7\" class=\"row_heading level0 row7\" >Outlet_Establishment_Year</th>\n",
              "      <td id=\"T_d785b_row7_col0\" class=\"data row7 col0\" >-0.002954</td>\n",
              "      <td id=\"T_d785b_row7_col1\" class=\"data row7 col1\" >0.000247</td>\n",
              "      <td id=\"T_d785b_row7_col2\" class=\"data row7 col2\" >-0.002954</td>\n",
              "      <td id=\"T_d785b_row7_col3\" class=\"data row7 col3\" >-0.090833</td>\n",
              "      <td id=\"T_d785b_row7_col4\" class=\"data row7 col4\" >0.003061</td>\n",
              "      <td id=\"T_d785b_row7_col5\" class=\"data row7 col5\" >0.000141</td>\n",
              "      <td id=\"T_d785b_row7_col6\" class=\"data row7 col6\" >0.079047</td>\n",
              "      <td id=\"T_d785b_row7_col7\" class=\"data row7 col7\" >1.000000</td>\n",
              "      <td id=\"T_d785b_row7_col8\" class=\"data row7 col8\" >0.428387</td>\n",
              "      <td id=\"T_d785b_row7_col9\" class=\"data row7 col9\" >-0.089328</td>\n",
              "      <td id=\"T_d785b_row7_col10\" class=\"data row7 col10\" >-0.122519</td>\n",
              "      <td id=\"T_d785b_row7_col11\" class=\"data row7 col11\" >-0.029503</td>\n",
              "    </tr>\n",
              "    <tr>\n",
              "      <th id=\"T_d785b_level0_row8\" class=\"row_heading level0 row8\" >Outlet_Size</th>\n",
              "      <td id=\"T_d785b_row8_col0\" class=\"data row8 col0\" >0.002209</td>\n",
              "      <td id=\"T_d785b_row8_col1\" class=\"data row8 col1\" >0.000944</td>\n",
              "      <td id=\"T_d785b_row8_col2\" class=\"data row8 col2\" >0.002209</td>\n",
              "      <td id=\"T_d785b_row8_col3\" class=\"data row8 col3\" >0.026808</td>\n",
              "      <td id=\"T_d785b_row8_col4\" class=\"data row8 col4\" >-0.001080</td>\n",
              "      <td id=\"T_d785b_row8_col5\" class=\"data row8 col5\" >-0.001305</td>\n",
              "      <td id=\"T_d785b_row8_col6\" class=\"data row8 col6\" >0.423623</td>\n",
              "      <td id=\"T_d785b_row8_col7\" class=\"data row8 col7\" >0.428387</td>\n",
              "      <td id=\"T_d785b_row8_col8\" class=\"data row8 col8\" >1.000000</td>\n",
              "      <td id=\"T_d785b_row8_col9\" class=\"data row8 col9\" >-0.590677</td>\n",
              "      <td id=\"T_d785b_row8_col10\" class=\"data row8 col10\" >-0.260496</td>\n",
              "      <td id=\"T_d785b_row8_col11\" class=\"data row8 col11\" >-0.036477</td>\n",
              "    </tr>\n",
              "    <tr>\n",
              "      <th id=\"T_d785b_level0_row9\" class=\"row_heading level0 row9\" >Outlet_Location_Type</th>\n",
              "      <td id=\"T_d785b_row9_col0\" class=\"data row9 col0\" >-0.002473</td>\n",
              "      <td id=\"T_d785b_row9_col1\" class=\"data row9 col1\" >-0.001719</td>\n",
              "      <td id=\"T_d785b_row9_col2\" class=\"data row9 col2\" >-0.002473</td>\n",
              "      <td id=\"T_d785b_row9_col3\" class=\"data row9 col3\" >-0.020550</td>\n",
              "      <td id=\"T_d785b_row9_col4\" class=\"data row9 col4\" >0.002083</td>\n",
              "      <td id=\"T_d785b_row9_col5\" class=\"data row9 col5\" >0.000838</td>\n",
              "      <td id=\"T_d785b_row9_col6\" class=\"data row9 col6\" >-0.716151</td>\n",
              "      <td id=\"T_d785b_row9_col7\" class=\"data row9 col7\" >-0.089328</td>\n",
              "      <td id=\"T_d785b_row9_col8\" class=\"data row9 col8\" >-0.590677</td>\n",
              "      <td id=\"T_d785b_row9_col9\" class=\"data row9 col9\" >1.000000</td>\n",
              "      <td id=\"T_d785b_row9_col10\" class=\"data row9 col10\" >0.467251</td>\n",
              "      <td id=\"T_d785b_row9_col11\" class=\"data row9 col11\" >0.053872</td>\n",
              "    </tr>\n",
              "    <tr>\n",
              "      <th id=\"T_d785b_level0_row10\" class=\"row_heading level0 row10\" >Outlet_Type</th>\n",
              "      <td id=\"T_d785b_row10_col0\" class=\"data row10 col0\" >-0.004532</td>\n",
              "      <td id=\"T_d785b_row10_col1\" class=\"data row10 col1\" >0.001913</td>\n",
              "      <td id=\"T_d785b_row10_col2\" class=\"data row10 col2\" >-0.004532</td>\n",
              "      <td id=\"T_d785b_row10_col3\" class=\"data row10 col3\" >-0.172744</td>\n",
              "      <td id=\"T_d785b_row10_col4\" class=\"data row10 col4\" >0.004305</td>\n",
              "      <td id=\"T_d785b_row10_col5\" class=\"data row10 col5\" >0.000136</td>\n",
              "      <td id=\"T_d785b_row10_col6\" class=\"data row10 col6\" >0.099899</td>\n",
              "      <td id=\"T_d785b_row10_col7\" class=\"data row10 col7\" >-0.122519</td>\n",
              "      <td id=\"T_d785b_row10_col8\" class=\"data row10 col8\" >-0.260496</td>\n",
              "      <td id=\"T_d785b_row10_col9\" class=\"data row10 col9\" >0.467251</td>\n",
              "      <td id=\"T_d785b_row10_col10\" class=\"data row10 col10\" >1.000000</td>\n",
              "      <td id=\"T_d785b_row10_col11\" class=\"data row10 col11\" >0.241892</td>\n",
              "    </tr>\n",
              "    <tr>\n",
              "      <th id=\"T_d785b_level0_row11\" class=\"row_heading level0 row11\" >Item_Outlet_Sales</th>\n",
              "      <td id=\"T_d785b_row11_col0\" class=\"data row11 col0\" >0.000908</td>\n",
              "      <td id=\"T_d785b_row11_col1\" class=\"data row11 col1\" >0.021257</td>\n",
              "      <td id=\"T_d785b_row11_col2\" class=\"data row11 col2\" >0.000908</td>\n",
              "      <td id=\"T_d785b_row11_col3\" class=\"data row11 col3\" >-0.078925</td>\n",
              "      <td id=\"T_d785b_row11_col4\" class=\"data row11 col4\" >0.009774</td>\n",
              "      <td id=\"T_d785b_row11_col5\" class=\"data row11 col5\" >0.342933</td>\n",
              "      <td id=\"T_d785b_row11_col6\" class=\"data row11 col6\" >0.097776</td>\n",
              "      <td id=\"T_d785b_row11_col7\" class=\"data row11 col7\" >-0.029503</td>\n",
              "      <td id=\"T_d785b_row11_col8\" class=\"data row11 col8\" >-0.036477</td>\n",
              "      <td id=\"T_d785b_row11_col9\" class=\"data row11 col9\" >0.053872</td>\n",
              "      <td id=\"T_d785b_row11_col10\" class=\"data row11 col10\" >0.241892</td>\n",
              "      <td id=\"T_d785b_row11_col11\" class=\"data row11 col11\" >1.000000</td>\n",
              "    </tr>\n",
              "  </tbody>\n",
              "</table>\n"
            ]
          },
          "metadata": {},
          "execution_count": 19
        }
      ]
    },
    {
      "cell_type": "code",
      "source": [
        "#SELECTING BEST FEATURE BASED ON THERE CORRELATION VALUE GREATER THAN 0.1\n",
        "best_feature = []\n",
        "for i in df:\n",
        "  if abs(df[i].corr(data_scaled['Item_Outlet_Sales']))>=0.05:\n",
        "    best_feature.append(i) \n",
        "best_feature"
      ],
      "metadata": {
        "colab": {
          "base_uri": "https://localhost:8080/"
        },
        "id": "BD2OO7FwRipX",
        "outputId": "8d8d37fc-9deb-4273-f16a-f67d3c93738e"
      },
      "execution_count": null,
      "outputs": [
        {
          "output_type": "execute_result",
          "data": {
            "text/plain": [
              "['Item_Visibility',\n",
              " 'Item_MRP',\n",
              " 'Outlet_Identifier',\n",
              " 'Outlet_Location_Type',\n",
              " 'Outlet_Type',\n",
              " 'Item_Outlet_Sales']"
            ]
          },
          "metadata": {},
          "execution_count": 39
        }
      ]
    },
    {
      "cell_type": "code",
      "source": [
        "fig, ax = plt.subplots(figsize = (20,10))\n",
        "ax = (sns.heatmap(data_scaled[best_feature]\n",
        "                  .corr(), annot =True, cmap ='cividis',linewidths=0.1, linecolor='white').set(title = 'Correlation Matrix'))\n",
        "plt.show()"
      ],
      "metadata": {
        "colab": {
          "base_uri": "https://localhost:8080/",
          "height": 611
        },
        "id": "GopBGvKxOY-M",
        "outputId": "6dfc440a-edbb-4c00-d60f-a86d77a98659"
      },
      "execution_count": null,
      "outputs": [
        {
          "output_type": "display_data",
          "data": {
            "text/plain": [
              "<Figure size 1440x720 with 2 Axes>"
            ],
            "image/png": "[encoded data removed]"
          },
          "metadata": {}
        }
      ]
    },
    {
      "cell_type": "code",
      "source": [
        "df1 = data_scaled[['Item_Visibility', 'Item_MRP', 'Outlet_Identifier', 'Outlet_Location_Type', 'Outlet_Type', 'Item_Outlet_Sales', 'Outlet_Size']]\n",
        "df1.head()"
      ],
      "metadata": {
        "colab": {
          "base_uri": "https://localhost:8080/",
          "height": 206
        },
        "id": "qnD9u3cf9lvl",
        "outputId": "7aa656bd-99df-4704-ff25-4cd48fbcb28f"
      },
      "execution_count": null,
      "outputs": [
        {
          "output_type": "execute_result",
          "data": {
            "text/plain": [
              "   Item_Visibility  Item_MRP  Outlet_Identifier  Outlet_Location_Type  \\\n",
              "0         0.038399  0.927507           1.000000                   0.0   \n",
              "1         0.048346  0.072068           0.333333                   1.0   \n",
              "2         0.040593  0.468288           1.000000                   0.0   \n",
              "3         0.218055  0.640093           0.000000                   1.0   \n",
              "4         0.186950  0.095805           0.111111                   1.0   \n",
              "\n",
              "   Outlet_Type  Item_Outlet_Sales  Outlet_Size  \n",
              "0     0.333333           0.285276          0.5  \n",
              "1     0.666667           0.033703          0.5  \n",
              "2     0.333333           0.160100          0.5  \n",
              "3     0.000000           0.055787          0.5  \n",
              "4     0.333333           0.075835          0.0  "
            ],
            "text/html": [
              "\n",
              "  <div id=\"df-94efcc2b-9f8a-4d3b-b346-8f4c9c6f9644\">\n",
              "    <div class=\"colab-df-container\">\n",
              "      <div>\n",
              "<style scoped>\n",
              "    .dataframe tbody tr th:only-of-type {\n",
              "        vertical-align: middle;\n",
              "    }\n",
              "\n",
              "    .dataframe tbody tr th {\n",
              "        vertical-align: top;\n",
              "    }\n",
              "\n",
              "    .dataframe thead th {\n",
              "        text-align: right;\n",
              "    }\n",
              "</style>\n",
              "<table border=\"1\" class=\"dataframe\">\n",
              "  <thead>\n",
              "    <tr style=\"text-align: right;\">\n",
              "      <th></th>\n",
              "      <th>Item_Visibility</th>\n",
              "      <th>Item_MRP</th>\n",
              "      <th>Outlet_Identifier</th>\n",
              "      <th>Outlet_Location_Type</th>\n",
              "      <th>Outlet_Type</th>\n",
              "      <th>Item_Outlet_Sales</th>\n",
              "      <th>Outlet_Size</th>\n",
              "    </tr>\n",
              "  </thead>\n",
              "  <tbody>\n",
              "    <tr>\n",
              "      <th>0</th>\n",
              "      <td>0.038399</td>\n",
              "      <td>0.927507</td>\n",
              "      <td>1.000000</td>\n",
              "      <td>0.0</td>\n",
              "      <td>0.333333</td>\n",
              "      <td>0.285276</td>\n",
              "      <td>0.5</td>\n",
              "    </tr>\n",
              "    <tr>\n",
              "      <th>1</th>\n",
              "      <td>0.048346</td>\n",
              "      <td>0.072068</td>\n",
              "      <td>0.333333</td>\n",
              "      <td>1.0</td>\n",
              "      <td>0.666667</td>\n",
              "      <td>0.033703</td>\n",
              "      <td>0.5</td>\n",
              "    </tr>\n",
              "    <tr>\n",
              "      <th>2</th>\n",
              "      <td>0.040593</td>\n",
              "      <td>0.468288</td>\n",
              "      <td>1.000000</td>\n",
              "      <td>0.0</td>\n",
              "      <td>0.333333</td>\n",
              "      <td>0.160100</td>\n",
              "      <td>0.5</td>\n",
              "    </tr>\n",
              "    <tr>\n",
              "      <th>3</th>\n",
              "      <td>0.218055</td>\n",
              "      <td>0.640093</td>\n",
              "      <td>0.000000</td>\n",
              "      <td>1.0</td>\n",
              "      <td>0.000000</td>\n",
              "      <td>0.055787</td>\n",
              "      <td>0.5</td>\n",
              "    </tr>\n",
              "    <tr>\n",
              "      <th>4</th>\n",
              "      <td>0.186950</td>\n",
              "      <td>0.095805</td>\n",
              "      <td>0.111111</td>\n",
              "      <td>1.0</td>\n",
              "      <td>0.333333</td>\n",
              "      <td>0.075835</td>\n",
              "      <td>0.0</td>\n",
              "    </tr>\n",
              "  </tbody>\n",
              "</table>\n",
              "</div>\n",
              "      <button class=\"colab-df-convert\" onclick=\"convertToInteractive('df-94efcc2b-9f8a-4d3b-b346-8f4c9c6f9644')\"\n",
              "              title=\"Convert this dataframe to an interactive table.\"\n",
              "              style=\"display:none;\">\n",
              "        \n",
              "  <svg xmlns=\"http://www.w3.org/2000/svg\" height=\"24px\"viewBox=\"0 0 24 24\"\n",
              "       width=\"24px\">\n",
              "    <path d=\"M0 0h24v24H0V0z\" fill=\"none\"/>\n",
              "    <path d=\"M18.56 5.44l.94 2.06.94-2.06 2.06-.94-2.06-.94-.94-2.06-.94 2.06-2.06.94zm-11 1L8.5 8.5l.94-2.06 2.06-.94-2.06-.94L8.5 2.5l-.94 2.06-2.06.94zm10 10l.94 2.06.94-2.06 2.06-.94-2.06-.94-.94-2.06-.94 2.06-2.06.94z\"/><path d=\"M17.41 7.96l-1.37-1.37c-.4-.4-.92-.59-1.43-.59-.52 0-1.04.2-1.43.59L10.3 9.45l-7.72 7.72c-.78.78-.78 2.05 0 2.83L4 21.41c.39.39.9.59 1.41.59.51 0 1.02-.2 1.41-.59l7.78-7.78 2.81-2.81c.8-.78.8-2.07 0-2.86zM5.41 20L4 18.59l7.72-7.72 1.47 1.35L5.41 20z\"/>\n",
              "  </svg>\n",
              "      </button>\n",
              "      \n",
              "  <style>\n",
              "    .colab-df-container {\n",
              "      display:flex;\n",
              "      flex-wrap:wrap;\n",
              "      gap: 12px;\n",
              "    }\n",
              "\n",
              "    .colab-df-convert {\n",
              "      background-color: #E8F0FE;\n",
              "      border: none;\n",
              "      border-radius: 50%;\n",
              "      cursor: pointer;\n",
              "      display: none;\n",
              "      fill: #1967D2;\n",
              "      height: 32px;\n",
              "      padding: 0 0 0 0;\n",
              "      width: 32px;\n",
              "    }\n",
              "\n",
              "    .colab-df-convert:hover {\n",
              "      background-color: #E2EBFA;\n",
              "      box-shadow: 0px 1px 2px rgba(60, 64, 67, 0.3), 0px 1px 3px 1px rgba(60, 64, 67, 0.15);\n",
              "      fill: #174EA6;\n",
              "    }\n",
              "\n",
              "    [theme=dark] .colab-df-convert {\n",
              "      background-color: #3B4455;\n",
              "      fill: #D2E3FC;\n",
              "    }\n",
              "\n",
              "    [theme=dark] .colab-df-convert:hover {\n",
              "      background-color: #434B5C;\n",
              "      box-shadow: 0px 1px 3px 1px rgba(0, 0, 0, 0.15);\n",
              "      filter: drop-shadow(0px 1px 2px rgba(0, 0, 0, 0.3));\n",
              "      fill: #FFFFFF;\n",
              "    }\n",
              "  </style>\n",
              "\n",
              "      <script>\n",
              "        const buttonEl =\n",
              "          document.querySelector('#df-94efcc2b-9f8a-4d3b-b346-8f4c9c6f9644 button.colab-df-convert');\n",
              "        buttonEl.style.display =\n",
              "          google.colab.kernel.accessAllowed ? 'block' : 'none';\n",
              "\n",
              "        async function convertToInteractive(key) {\n",
              "          const element = document.querySelector('#df-94efcc2b-9f8a-4d3b-b346-8f4c9c6f9644');\n",
              "          const dataTable =\n",
              "            await google.colab.kernel.invokeFunction('convertToInteractive',\n",
              "                                                     [key], {});\n",
              "          if (!dataTable) return;\n",
              "\n",
              "          const docLinkHtml = 'Like what you see? Visit the ' +\n",
              "            '<a target=\"_blank\" href=https://colab.research.google.com/notebooks/data_table.ipynb>data table notebook</a>'\n",
              "            + ' to learn more about interactive tables.';\n",
              "          element.innerHTML = '';\n",
              "          dataTable['output_type'] = 'display_data';\n",
              "          await google.colab.output.renderOutput(dataTable, element);\n",
              "          const docLink = document.createElement('div');\n",
              "          docLink.innerHTML = docLinkHtml;\n",
              "          element.appendChild(docLink);\n",
              "        }\n",
              "      </script>\n",
              "    </div>\n",
              "  </div>\n",
              "  "
            ]
          },
          "metadata": {},
          "execution_count": 61
        }
      ]
    },
    {
      "cell_type": "markdown",
      "source": [
        "## Splitting the data"
      ],
      "metadata": {
        "id": "-uOOtlIT4Dxj"
      }
    },
    {
      "cell_type": "code",
      "source": [
        "# Splitting the data into features and target column\n",
        "\n",
        "X = df1.drop(columns='Item_Outlet_Sales', axis=1)\n",
        "Y = df1['Item_Outlet_Sales']"
      ],
      "metadata": {
        "id": "Cbvfrgmdq84S"
      },
      "execution_count": null,
      "outputs": []
    },
    {
      "cell_type": "code",
      "source": [
        "# Splitting the data into train and test data\n",
        "\n",
        "X_train,X_test,Y_train,Y_test=train_test_split(X,Y,test_size=0.2,random_state=2)"
      ],
      "metadata": {
        "id": "j1e56Rhn4pWl"
      },
      "execution_count": null,
      "outputs": []
    },
    {
      "cell_type": "code",
      "source": [
        "print(X.shape, X_train.shape, X_test.shape)"
      ],
      "metadata": {
        "colab": {
          "base_uri": "https://localhost:8080/"
        },
        "id": "uUlbr-dmR5B0",
        "outputId": "3e445643-f79b-4f12-b162-9f2e5439cfc1"
      },
      "execution_count": null,
      "outputs": [
        {
          "output_type": "stream",
          "name": "stdout",
          "text": [
            "(14204, 6) (11363, 6) (2841, 6)\n"
          ]
        }
      ]
    },
    {
      "cell_type": "markdown",
      "source": [
        "## Training the model"
      ],
      "metadata": {
        "id": "oCsZCYkwTRT3"
      }
    },
    {
      "cell_type": "code",
      "source": [
        "# creating function to build model and to evaluate it\n",
        "def MODEL(model, X, Y):\n",
        "    cv = KFold(n_splits=10, shuffle=False, random_state=None)\n",
        "    r2 = cross_val_score(model, X, Y, scoring='r2', cv=cv, n_jobs=-1, error_score='raise')\n",
        "    mse = cross_val_score(model, X, Y, scoring='neg_mean_squared_error', cv=cv, n_jobs=-1, error_score='raise')\n",
        "    rmse = cross_val_score(model, X, Y, scoring='neg_root_mean_squared_error', cv=cv, n_jobs=-1, error_score='raise')\n",
        "    mae = cross_val_score(model, X, Y, scoring='neg_mean_absolute_error', cv=cv, n_jobs=-1, error_score='raise')\n",
        " \n",
        "    print('R2-Score: {} %'.format(abs(round((mean(r2)*100),2))))\n",
        "    print('Mean Squared Error: {} %'.format(abs(round((mean(mse)*100),2))))\n",
        "    print('Root Mean Squared Error: {} %'.format(abs(round((mean(rmse)*100),2))))\n",
        "    print('Mean Absolute Error: {} %'.format(abs(round((mean(mae)*100),2))))"
      ],
      "metadata": {
        "id": "5uDiKipmAEqd"
      },
      "execution_count": null,
      "outputs": []
    },
    {
      "cell_type": "markdown",
      "source": [
        "## Linear Regressor"
      ],
      "metadata": {
        "id": "oohc-oOHC1q1"
      }
    },
    {
      "cell_type": "code",
      "source": [
        "MODEL(LinearRegression(), X, Y)"
      ],
      "metadata": {
        "colab": {
          "base_uri": "https://localhost:8080/"
        },
        "id": "5fwJGypcAY0W",
        "outputId": "ad2346cf-5e9a-4b3c-cd0b-3d360d95d4c7"
      },
      "execution_count": null,
      "outputs": [
        {
          "output_type": "stream",
          "name": "stdout",
          "text": [
            "R2-Score: 4.81 %\n",
            "Mean Squared Error: 1.58 %\n",
            "Root Mean Squared Error: 12.58 %\n",
            "Mean Absolute Error: 9.78 %\n"
          ]
        }
      ]
    },
    {
      "cell_type": "markdown",
      "source": [
        "## Decission Tree Regressor"
      ],
      "metadata": {
        "id": "7SBfKbkBDCOq"
      }
    },
    {
      "cell_type": "code",
      "source": [
        "MODEL(DecisionTreeRegressor(), X, Y)"
      ],
      "metadata": {
        "colab": {
          "base_uri": "https://localhost:8080/"
        },
        "id": "YaMMxDcrApJ1",
        "outputId": "5fe306cb-ec95-4850-f362-c8f4f1ca5cc5"
      },
      "execution_count": null,
      "outputs": [
        {
          "output_type": "stream",
          "name": "stdout",
          "text": [
            "R2-Score: 38.04 %\n",
            "Mean Squared Error: 2.9 %\n",
            "Root Mean Squared Error: 17.0 %\n",
            "Mean Absolute Error: 11.76 %\n"
          ]
        }
      ]
    },
    {
      "cell_type": "markdown",
      "source": [
        "## Random Forest Regressor"
      ],
      "metadata": {
        "id": "T2Eh4oh1EQN4"
      }
    },
    {
      "cell_type": "code",
      "source": [
        "MODEL(RandomForestRegressor(), X, Y)"
      ],
      "metadata": {
        "colab": {
          "base_uri": "https://localhost:8080/"
        },
        "id": "B-WuzaqiEPRD",
        "outputId": "18caf729-962f-4998-d610-0ff4758f52a1"
      },
      "execution_count": null,
      "outputs": [
        {
          "output_type": "stream",
          "name": "stdout",
          "text": [
            "R2-Score: 2.7 %\n",
            "Mean Squared Error: 1.75 %\n",
            "Root Mean Squared Error: 13.2 %\n",
            "Mean Absolute Error: 9.77 %\n"
          ]
        }
      ]
    },
    {
      "cell_type": "markdown",
      "source": [
        "## Adaptive Boosting Regressor"
      ],
      "metadata": {
        "id": "AElPK638DH93"
      }
    },
    {
      "cell_type": "code",
      "source": [
        "MODEL(AdaBoostRegressor(), X, Y)"
      ],
      "metadata": {
        "colab": {
          "base_uri": "https://localhost:8080/"
        },
        "id": "bLg7FKYLAsZK",
        "outputId": "bab39472-6d38-4571-8154-90d18406fb3d"
      },
      "execution_count": null,
      "outputs": [
        {
          "output_type": "stream",
          "name": "stdout",
          "text": [
            "R2-Score: 20.75 %\n",
            "Mean Squared Error: 1.55 %\n",
            "Root Mean Squared Error: 12.56 %\n",
            "Mean Absolute Error: 9.69 %\n"
          ]
        }
      ]
    },
    {
      "cell_type": "code",
      "source": [
        "# get a stacking ensemble of models\n",
        "def get_stacking():\n",
        "    # define the base models\n",
        "    level0 = list()\n",
        "    level0.append(('knn', KNeighborsRegressor()))\n",
        "    level0.append(('cart', DecisionTreeRegressor()))\n",
        "    level0.append(('svm', SVR()))\n",
        "    # define meta learner model\n",
        "    level1 = LinearRegression()\n",
        "    # define the stacking ensemble\n",
        "    model = StackingRegressor(estimators=level0, final_estimator=level1, cv=5)\n",
        "    return model\n",
        "\n",
        "MODEL(get_stacking(), X, Y)"
      ],
      "metadata": {
        "colab": {
          "base_uri": "https://localhost:8080/"
        },
        "id": "8J_r86Z-AzX7",
        "outputId": "c6ec0253-96c3-4f28-a48c-e032806d8d26"
      },
      "execution_count": null,
      "outputs": [
        {
          "output_type": "stream",
          "name": "stdout",
          "text": [
            "R2-Score: 10.07 %\n",
            "Mean Squared Error: 1.78 %\n",
            "Root Mean Squared Error: 13.29 %\n",
            "Mean Absolute Error: 10.41 %\n"
          ]
        }
      ]
    },
    {
      "cell_type": "markdown",
      "source": [
        "## From the above model Decission tree regressor is giving \n",
        "\n",
        "\n",
        "*   R2-Score: 38.04 %\n",
        "*   Mean Squared Error: 2.9 %\n",
        "*   Root Mean Squared Error: 17.0 %\n",
        "*   Mean Absolute Error: 11.76 %\n",
        "## So we can say Decission tree regressor is the best model among above"
      ],
      "metadata": {
        "id": "7tHU8Jbkknwr"
      }
    },
    {
      "cell_type": "markdown",
      "source": [
        "## Training the model using decission tree regressor."
      ],
      "metadata": {
        "id": "uPLk3QTm3k-z"
      }
    },
    {
      "cell_type": "code",
      "source": [
        "# predicting values\n",
        "cv = KFold(n_splits=10, shuffle=False, random_state=None)\n",
        "Y_pred = cross_val_predict(DecisionTreeRegressor(), X_test, Y_test, cv=cv)\n",
        "Y_pred"
      ],
      "metadata": {
        "id": "L62l5VR4HI2X",
        "colab": {
          "base_uri": "https://localhost:8080/"
        },
        "outputId": "4729f1a7-6053-4347-ef7d-a6b67db1ea41"
      },
      "execution_count": 70,
      "outputs": [
        {
          "output_type": "execute_result",
          "data": {
            "text/plain": [
              "array([0.03395704, 0.        , 0.        , ..., 0.19521014, 0.23861466,\n",
              "       0.        ])"
            ]
          },
          "metadata": {},
          "execution_count": 70
        }
      ]
    },
    {
      "cell_type": "code",
      "source": [
        "# plotting actual and pred values of first 50 datapoints \n",
        "x_1 = list(np.arange(0,len(Y_test.iloc[:50])))\n",
        "plt.figure(figsize=(17,5))\n",
        "plt.scatter(x_1,Y_test.iloc[:50],color='red')\n",
        "plt.scatter(x_1,pd.Series(Y_pred).iloc[:50],color='blue')\n",
        "plt.xlabel('X', fontsize = 15)\n",
        "plt.ylabel('Sales predicted and Sales actual' , fontsize = 15)\n",
        "plt.legend(['Actual','Predicted'],loc=\"upper right\",fontsize = 12)\n",
        "plt.title('Actual Sale VS Prediction value' , fontsize = 18);"
      ],
      "metadata": {
        "colab": {
          "base_uri": "https://localhost:8080/",
          "height": 361
        },
        "id": "Sdwxgydl58vZ",
        "outputId": "17f9e3e1-b54f-4188-8a79-078bc1f347b7"
      },
      "execution_count": 72,
      "outputs": [
        {
          "output_type": "display_data",
          "data": {
            "text/plain": [
              "<Figure size 1224x360 with 1 Axes>"
            ],
            "image/png": "[encoded data removed]"
          },
          "metadata": {}
        }
      ]
    },
    {
      "cell_type": "code",
      "source": [
        ""
      ],
      "metadata": {
        "id": "vb_HKk4t6WyP"
      },
      "execution_count": null,
      "outputs": []
    }
  ]
}