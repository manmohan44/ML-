{
  "nbformat": 4,
  "nbformat_minor": 0,
  "metadata": {
    "colab": {
      "name": "L3_S2_Classification_Mini_Project_Brief_Manmohan.ipynb",
      "provenance": [],
      "collapsed_sections": []
    },
    "kernelspec": {
      "name": "python3",
      "display_name": "Python 3"
    },
    "language_info": {
      "name": "python"
    }
  },
  "cells": [
    {
      "cell_type": "code",
      "execution_count": 18,
      "metadata": {
        "colab": {
          "base_uri": "https://localhost:8080/"
        },
        "id": "B4ZsGd5fx_M2",
        "outputId": "3c69679d-fd5d-4294-c923-96d16dd664b9"
      },
      "outputs": [
        {
          "output_type": "stream",
          "name": "stdout",
          "text": [
            "Drive already mounted at /content/drive; to attempt to forcibly remount, call drive.mount(\"/content/drive\", force_remount=True).\n"
          ]
        }
      ],
      "source": [
        "from google.colab import drive\n",
        "drive.mount('/content/drive')"
      ]
    },
    {
      "cell_type": "code",
      "source": [
        "# general imports\n",
        "import pandas as pd\n",
        "import numpy as np\n",
        "from numpy import std\n",
        "import matplotlib.pyplot as plt\n",
        "from numpy import mean\n",
        "from sklearn import metrics\n",
        "from sklearn.preprocessing import MinMaxScaler, StandardScaler\n",
        "from sklearn.linear_model import LinearRegression, LogisticRegression\n",
        "from sklearn.metrics import mean_squared_error\n",
        "from sklearn.metrics import mean_absolute_error\n",
        "from sklearn.datasets import make_regression\n",
        "from sklearn.preprocessing import LabelEncoder\n",
        "from sklearn.model_selection import train_test_split\n",
        "from sklearn.metrics import precision_score, recall_score, accuracy_score\n",
        "from sklearn import preprocessing, neighbors\n",
        "import seaborn as sns\n",
        "sns.set(style=\"white\") #white background style for seaborn plots\n",
        "from sklearn.model_selection import StratifiedKFold\n",
        "from sklearn.metrics import precision_score, recall_score, accuracy_score, confusion_matrix, ConfusionMatrixDisplay\n",
        "from sklearn.model_selection import RepeatedStratifiedKFold\n",
        "from sklearn.model_selection import cross_val_predict, cross_val_score\n",
        "\n",
        "from sklearn.neighbors import KNeighborsClassifier\n",
        "from sklearn.tree import DecisionTreeClassifier\n",
        "from sklearn.svm import SVC\n",
        "from sklearn.naive_bayes import GaussianNB\n",
        "from sklearn.ensemble import StackingClassifier,  RandomForestClassifier, AdaBoostClassifier\n",
        "from sklearn.linear_model import LogisticRegression \n",
        "\n",
        "\n",
        "import warnings\n",
        "warnings.filterwarnings(\"ignore\")"
      ],
      "metadata": {
        "id": "M5_pTmGIyErP"
      },
      "execution_count": 83,
      "outputs": []
    },
    {
      "cell_type": "markdown",
      "source": [
        "## Data Loading"
      ],
      "metadata": {
        "id": "6bn1sg3qcXPL"
      }
    },
    {
      "cell_type": "code",
      "source": [
        "# importing data from data source\n",
        "house = pd.read_csv('/content/drive/MyDrive/Mini_Project/DS3_C6_S2_Classification_HouseGrade_Data_Project.csv')\n",
        "house.head()     # showing first 5 rows of data"
      ],
      "metadata": {
        "colab": {
          "base_uri": "https://localhost:8080/",
          "height": 206
        },
        "id": "NJi6OqASyo1E",
        "outputId": "db42c204-026e-49d3-bf37-153a13dd27ff"
      },
      "execution_count": 20,
      "outputs": [
        {
          "output_type": "execute_result",
          "data": {
            "text/plain": [
              "   Id  Area(total)  Trooms  Nbedrooms  Nbwashrooms  Twashrooms roof  \\\n",
              "0   1          339       6          5            4           6   NO   \n",
              "1   2          358       5          4            3           4  YES   \n",
              "2   3          324       7          5            4           5  YES   \n",
              "3   4          330       6          4            3           5  YES   \n",
              "4   5          320       7          4            4           5   NO   \n",
              "\n",
              "   Roof(Area)  Lawn(Area)  Nfloors  API  ANB  Expected price Grade  \n",
              "0           0          76        2   79    6            3481     D  \n",
              "1          71          96        3   72    4            3510     D  \n",
              "2         101         117        5   64    3            3748     C  \n",
              "3         101          82        2   59    2            3134     D  \n",
              "4           0          75        3   40    1            3843     D  "
            ],
            "text/html": [
              "\n",
              "  <div id=\"df-d14dbffb-2223-44bb-a3d3-bd81f30136e3\">\n",
              "    <div class=\"colab-df-container\">\n",
              "      <div>\n",
              "<style scoped>\n",
              "    .dataframe tbody tr th:only-of-type {\n",
              "        vertical-align: middle;\n",
              "    }\n",
              "\n",
              "    .dataframe tbody tr th {\n",
              "        vertical-align: top;\n",
              "    }\n",
              "\n",
              "    .dataframe thead th {\n",
              "        text-align: right;\n",
              "    }\n",
              "</style>\n",
              "<table border=\"1\" class=\"dataframe\">\n",
              "  <thead>\n",
              "    <tr style=\"text-align: right;\">\n",
              "      <th></th>\n",
              "      <th>Id</th>\n",
              "      <th>Area(total)</th>\n",
              "      <th>Trooms</th>\n",
              "      <th>Nbedrooms</th>\n",
              "      <th>Nbwashrooms</th>\n",
              "      <th>Twashrooms</th>\n",
              "      <th>roof</th>\n",
              "      <th>Roof(Area)</th>\n",
              "      <th>Lawn(Area)</th>\n",
              "      <th>Nfloors</th>\n",
              "      <th>API</th>\n",
              "      <th>ANB</th>\n",
              "      <th>Expected price</th>\n",
              "      <th>Grade</th>\n",
              "    </tr>\n",
              "  </thead>\n",
              "  <tbody>\n",
              "    <tr>\n",
              "      <th>0</th>\n",
              "      <td>1</td>\n",
              "      <td>339</td>\n",
              "      <td>6</td>\n",
              "      <td>5</td>\n",
              "      <td>4</td>\n",
              "      <td>6</td>\n",
              "      <td>NO</td>\n",
              "      <td>0</td>\n",
              "      <td>76</td>\n",
              "      <td>2</td>\n",
              "      <td>79</td>\n",
              "      <td>6</td>\n",
              "      <td>3481</td>\n",
              "      <td>D</td>\n",
              "    </tr>\n",
              "    <tr>\n",
              "      <th>1</th>\n",
              "      <td>2</td>\n",
              "      <td>358</td>\n",
              "      <td>5</td>\n",
              "      <td>4</td>\n",
              "      <td>3</td>\n",
              "      <td>4</td>\n",
              "      <td>YES</td>\n",
              "      <td>71</td>\n",
              "      <td>96</td>\n",
              "      <td>3</td>\n",
              "      <td>72</td>\n",
              "      <td>4</td>\n",
              "      <td>3510</td>\n",
              "      <td>D</td>\n",
              "    </tr>\n",
              "    <tr>\n",
              "      <th>2</th>\n",
              "      <td>3</td>\n",
              "      <td>324</td>\n",
              "      <td>7</td>\n",
              "      <td>5</td>\n",
              "      <td>4</td>\n",
              "      <td>5</td>\n",
              "      <td>YES</td>\n",
              "      <td>101</td>\n",
              "      <td>117</td>\n",
              "      <td>5</td>\n",
              "      <td>64</td>\n",
              "      <td>3</td>\n",
              "      <td>3748</td>\n",
              "      <td>C</td>\n",
              "    </tr>\n",
              "    <tr>\n",
              "      <th>3</th>\n",
              "      <td>4</td>\n",
              "      <td>330</td>\n",
              "      <td>6</td>\n",
              "      <td>4</td>\n",
              "      <td>3</td>\n",
              "      <td>5</td>\n",
              "      <td>YES</td>\n",
              "      <td>101</td>\n",
              "      <td>82</td>\n",
              "      <td>2</td>\n",
              "      <td>59</td>\n",
              "      <td>2</td>\n",
              "      <td>3134</td>\n",
              "      <td>D</td>\n",
              "    </tr>\n",
              "    <tr>\n",
              "      <th>4</th>\n",
              "      <td>5</td>\n",
              "      <td>320</td>\n",
              "      <td>7</td>\n",
              "      <td>4</td>\n",
              "      <td>4</td>\n",
              "      <td>5</td>\n",
              "      <td>NO</td>\n",
              "      <td>0</td>\n",
              "      <td>75</td>\n",
              "      <td>3</td>\n",
              "      <td>40</td>\n",
              "      <td>1</td>\n",
              "      <td>3843</td>\n",
              "      <td>D</td>\n",
              "    </tr>\n",
              "  </tbody>\n",
              "</table>\n",
              "</div>\n",
              "      <button class=\"colab-df-convert\" onclick=\"convertToInteractive('df-d14dbffb-2223-44bb-a3d3-bd81f30136e3')\"\n",
              "              title=\"Convert this dataframe to an interactive table.\"\n",
              "              style=\"display:none;\">\n",
              "        \n",
              "  <svg xmlns=\"http://www.w3.org/2000/svg\" height=\"24px\"viewBox=\"0 0 24 24\"\n",
              "       width=\"24px\">\n",
              "    <path d=\"M0 0h24v24H0V0z\" fill=\"none\"/>\n",
              "    <path d=\"M18.56 5.44l.94 2.06.94-2.06 2.06-.94-2.06-.94-.94-2.06-.94 2.06-2.06.94zm-11 1L8.5 8.5l.94-2.06 2.06-.94-2.06-.94L8.5 2.5l-.94 2.06-2.06.94zm10 10l.94 2.06.94-2.06 2.06-.94-2.06-.94-.94-2.06-.94 2.06-2.06.94z\"/><path d=\"M17.41 7.96l-1.37-1.37c-.4-.4-.92-.59-1.43-.59-.52 0-1.04.2-1.43.59L10.3 9.45l-7.72 7.72c-.78.78-.78 2.05 0 2.83L4 21.41c.39.39.9.59 1.41.59.51 0 1.02-.2 1.41-.59l7.78-7.78 2.81-2.81c.8-.78.8-2.07 0-2.86zM5.41 20L4 18.59l7.72-7.72 1.47 1.35L5.41 20z\"/>\n",
              "  </svg>\n",
              "      </button>\n",
              "      \n",
              "  <style>\n",
              "    .colab-df-container {\n",
              "      display:flex;\n",
              "      flex-wrap:wrap;\n",
              "      gap: 12px;\n",
              "    }\n",
              "\n",
              "    .colab-df-convert {\n",
              "      background-color: #E8F0FE;\n",
              "      border: none;\n",
              "      border-radius: 50%;\n",
              "      cursor: pointer;\n",
              "      display: none;\n",
              "      fill: #1967D2;\n",
              "      height: 32px;\n",
              "      padding: 0 0 0 0;\n",
              "      width: 32px;\n",
              "    }\n",
              "\n",
              "    .colab-df-convert:hover {\n",
              "      background-color: #E2EBFA;\n",
              "      box-shadow: 0px 1px 2px rgba(60, 64, 67, 0.3), 0px 1px 3px 1px rgba(60, 64, 67, 0.15);\n",
              "      fill: #174EA6;\n",
              "    }\n",
              "\n",
              "    [theme=dark] .colab-df-convert {\n",
              "      background-color: #3B4455;\n",
              "      fill: #D2E3FC;\n",
              "    }\n",
              "\n",
              "    [theme=dark] .colab-df-convert:hover {\n",
              "      background-color: #434B5C;\n",
              "      box-shadow: 0px 1px 3px 1px rgba(0, 0, 0, 0.15);\n",
              "      filter: drop-shadow(0px 1px 2px rgba(0, 0, 0, 0.3));\n",
              "      fill: #FFFFFF;\n",
              "    }\n",
              "  </style>\n",
              "\n",
              "      <script>\n",
              "        const buttonEl =\n",
              "          document.querySelector('#df-d14dbffb-2223-44bb-a3d3-bd81f30136e3 button.colab-df-convert');\n",
              "        buttonEl.style.display =\n",
              "          google.colab.kernel.accessAllowed ? 'block' : 'none';\n",
              "\n",
              "        async function convertToInteractive(key) {\n",
              "          const element = document.querySelector('#df-d14dbffb-2223-44bb-a3d3-bd81f30136e3');\n",
              "          const dataTable =\n",
              "            await google.colab.kernel.invokeFunction('convertToInteractive',\n",
              "                                                     [key], {});\n",
              "          if (!dataTable) return;\n",
              "\n",
              "          const docLinkHtml = 'Like what you see? Visit the ' +\n",
              "            '<a target=\"_blank\" href=https://colab.research.google.com/notebooks/data_table.ipynb>data table notebook</a>'\n",
              "            + ' to learn more about interactive tables.';\n",
              "          element.innerHTML = '';\n",
              "          dataTable['output_type'] = 'display_data';\n",
              "          await google.colab.output.renderOutput(dataTable, element);\n",
              "          const docLink = document.createElement('div');\n",
              "          docLink.innerHTML = docLinkHtml;\n",
              "          element.appendChild(docLink);\n",
              "        }\n",
              "      </script>\n",
              "    </div>\n",
              "  </div>\n",
              "  "
            ]
          },
          "metadata": {},
          "execution_count": 20
        }
      ]
    },
    {
      "cell_type": "markdown",
      "source": [
        "## Data Exploration"
      ],
      "metadata": {
        "id": "L1TghZTYca7k"
      }
    },
    {
      "cell_type": "code",
      "source": [
        " # Checking the structure of data\n",
        "house.shape"
      ],
      "metadata": {
        "id": "HbPcVhp8y8yd",
        "colab": {
          "base_uri": "https://localhost:8080/"
        },
        "outputId": "0beb2947-8077-47b3-fd20-b646ed2d4790"
      },
      "execution_count": 21,
      "outputs": [
        {
          "output_type": "execute_result",
          "data": {
            "text/plain": [
              "(3000, 14)"
            ]
          },
          "metadata": {},
          "execution_count": 21
        }
      ]
    },
    {
      "cell_type": "code",
      "source": [
        "# types of column\n",
        "house.dtypes"
      ],
      "metadata": {
        "colab": {
          "base_uri": "https://localhost:8080/"
        },
        "id": "58I_0YsNb18E",
        "outputId": "bccfee49-7130-49da-8a3e-6941caf6a908"
      },
      "execution_count": 22,
      "outputs": [
        {
          "output_type": "execute_result",
          "data": {
            "text/plain": [
              "Id                 int64\n",
              "Area(total)        int64\n",
              "Trooms             int64\n",
              "Nbedrooms          int64\n",
              "Nbwashrooms        int64\n",
              "Twashrooms         int64\n",
              "roof              object\n",
              "Roof(Area)         int64\n",
              "Lawn(Area)         int64\n",
              "Nfloors            int64\n",
              "API                int64\n",
              "ANB                int64\n",
              "Expected price     int64\n",
              "Grade             object\n",
              "dtype: object"
            ]
          },
          "metadata": {},
          "execution_count": 22
        }
      ]
    },
    {
      "cell_type": "code",
      "source": [
        "# Summerization of data\n",
        "house.describe()"
      ],
      "metadata": {
        "colab": {
          "base_uri": "https://localhost:8080/",
          "height": 382
        },
        "id": "rKAaKYbMgslQ",
        "outputId": "9c7e9d8e-d07c-4d75-8c3b-22e95713d7ad"
      },
      "execution_count": 23,
      "outputs": [
        {
          "output_type": "execute_result",
          "data": {
            "text/plain": [
              "                Id  Area(total)       Trooms    Nbedrooms  Nbwashrooms  \\\n",
              "count  3000.000000  3000.000000  3000.000000  3000.000000  3000.000000   \n",
              "mean   1500.500000   325.117000     7.021667     5.023000     4.513667   \n",
              "std     866.169729    20.507742     1.421221     1.634838     1.715263   \n",
              "min       1.000000   290.000000     5.000000     2.000000     1.000000   \n",
              "25%     750.750000   308.000000     6.000000     4.000000     3.000000   \n",
              "50%    1500.500000   325.000000     7.000000     5.000000     4.000000   \n",
              "75%    2250.250000   343.000000     8.000000     6.000000     6.000000   \n",
              "max    3000.000000   360.000000     9.000000     8.000000     8.000000   \n",
              "\n",
              "        Twashrooms   Roof(Area)   Lawn(Area)      Nfloors          API  \\\n",
              "count  3000.000000  3000.000000  3000.000000  3000.000000  3000.000000   \n",
              "mean      6.010667    48.980667    95.609333     4.013333    70.190667   \n",
              "std       1.786136    48.746641    14.837388     1.621532    17.563460   \n",
              "min       2.000000     0.000000    70.000000     1.000000    40.000000   \n",
              "25%       5.000000     0.000000    83.000000     3.000000    55.000000   \n",
              "50%       6.000000    71.000000    96.000000     4.000000    70.000000   \n",
              "75%       7.000000    96.000000   109.000000     5.000000    85.000000   \n",
              "max      10.000000   120.000000   120.000000     7.000000   100.000000   \n",
              "\n",
              "              ANB  Expected price  \n",
              "count  3000.00000     3000.000000  \n",
              "mean      3.47900     3782.938333  \n",
              "std       1.69426      567.189995  \n",
              "min       1.00000     2504.000000  \n",
              "25%       2.00000     3354.000000  \n",
              "50%       4.00000     3771.000000  \n",
              "75%       5.00000     4208.000000  \n",
              "max       6.00000     5216.000000  "
            ],
            "text/html": [
              "\n",
              "  <div id=\"df-76822c97-3a13-4375-8589-56856e961001\">\n",
              "    <div class=\"colab-df-container\">\n",
              "      <div>\n",
              "<style scoped>\n",
              "    .dataframe tbody tr th:only-of-type {\n",
              "        vertical-align: middle;\n",
              "    }\n",
              "\n",
              "    .dataframe tbody tr th {\n",
              "        vertical-align: top;\n",
              "    }\n",
              "\n",
              "    .dataframe thead th {\n",
              "        text-align: right;\n",
              "    }\n",
              "</style>\n",
              "<table border=\"1\" class=\"dataframe\">\n",
              "  <thead>\n",
              "    <tr style=\"text-align: right;\">\n",
              "      <th></th>\n",
              "      <th>Id</th>\n",
              "      <th>Area(total)</th>\n",
              "      <th>Trooms</th>\n",
              "      <th>Nbedrooms</th>\n",
              "      <th>Nbwashrooms</th>\n",
              "      <th>Twashrooms</th>\n",
              "      <th>Roof(Area)</th>\n",
              "      <th>Lawn(Area)</th>\n",
              "      <th>Nfloors</th>\n",
              "      <th>API</th>\n",
              "      <th>ANB</th>\n",
              "      <th>Expected price</th>\n",
              "    </tr>\n",
              "  </thead>\n",
              "  <tbody>\n",
              "    <tr>\n",
              "      <th>count</th>\n",
              "      <td>3000.000000</td>\n",
              "      <td>3000.000000</td>\n",
              "      <td>3000.000000</td>\n",
              "      <td>3000.000000</td>\n",
              "      <td>3000.000000</td>\n",
              "      <td>3000.000000</td>\n",
              "      <td>3000.000000</td>\n",
              "      <td>3000.000000</td>\n",
              "      <td>3000.000000</td>\n",
              "      <td>3000.000000</td>\n",
              "      <td>3000.00000</td>\n",
              "      <td>3000.000000</td>\n",
              "    </tr>\n",
              "    <tr>\n",
              "      <th>mean</th>\n",
              "      <td>1500.500000</td>\n",
              "      <td>325.117000</td>\n",
              "      <td>7.021667</td>\n",
              "      <td>5.023000</td>\n",
              "      <td>4.513667</td>\n",
              "      <td>6.010667</td>\n",
              "      <td>48.980667</td>\n",
              "      <td>95.609333</td>\n",
              "      <td>4.013333</td>\n",
              "      <td>70.190667</td>\n",
              "      <td>3.47900</td>\n",
              "      <td>3782.938333</td>\n",
              "    </tr>\n",
              "    <tr>\n",
              "      <th>std</th>\n",
              "      <td>866.169729</td>\n",
              "      <td>20.507742</td>\n",
              "      <td>1.421221</td>\n",
              "      <td>1.634838</td>\n",
              "      <td>1.715263</td>\n",
              "      <td>1.786136</td>\n",
              "      <td>48.746641</td>\n",
              "      <td>14.837388</td>\n",
              "      <td>1.621532</td>\n",
              "      <td>17.563460</td>\n",
              "      <td>1.69426</td>\n",
              "      <td>567.189995</td>\n",
              "    </tr>\n",
              "    <tr>\n",
              "      <th>min</th>\n",
              "      <td>1.000000</td>\n",
              "      <td>290.000000</td>\n",
              "      <td>5.000000</td>\n",
              "      <td>2.000000</td>\n",
              "      <td>1.000000</td>\n",
              "      <td>2.000000</td>\n",
              "      <td>0.000000</td>\n",
              "      <td>70.000000</td>\n",
              "      <td>1.000000</td>\n",
              "      <td>40.000000</td>\n",
              "      <td>1.00000</td>\n",
              "      <td>2504.000000</td>\n",
              "    </tr>\n",
              "    <tr>\n",
              "      <th>25%</th>\n",
              "      <td>750.750000</td>\n",
              "      <td>308.000000</td>\n",
              "      <td>6.000000</td>\n",
              "      <td>4.000000</td>\n",
              "      <td>3.000000</td>\n",
              "      <td>5.000000</td>\n",
              "      <td>0.000000</td>\n",
              "      <td>83.000000</td>\n",
              "      <td>3.000000</td>\n",
              "      <td>55.000000</td>\n",
              "      <td>2.00000</td>\n",
              "      <td>3354.000000</td>\n",
              "    </tr>\n",
              "    <tr>\n",
              "      <th>50%</th>\n",
              "      <td>1500.500000</td>\n",
              "      <td>325.000000</td>\n",
              "      <td>7.000000</td>\n",
              "      <td>5.000000</td>\n",
              "      <td>4.000000</td>\n",
              "      <td>6.000000</td>\n",
              "      <td>71.000000</td>\n",
              "      <td>96.000000</td>\n",
              "      <td>4.000000</td>\n",
              "      <td>70.000000</td>\n",
              "      <td>4.00000</td>\n",
              "      <td>3771.000000</td>\n",
              "    </tr>\n",
              "    <tr>\n",
              "      <th>75%</th>\n",
              "      <td>2250.250000</td>\n",
              "      <td>343.000000</td>\n",
              "      <td>8.000000</td>\n",
              "      <td>6.000000</td>\n",
              "      <td>6.000000</td>\n",
              "      <td>7.000000</td>\n",
              "      <td>96.000000</td>\n",
              "      <td>109.000000</td>\n",
              "      <td>5.000000</td>\n",
              "      <td>85.000000</td>\n",
              "      <td>5.00000</td>\n",
              "      <td>4208.000000</td>\n",
              "    </tr>\n",
              "    <tr>\n",
              "      <th>max</th>\n",
              "      <td>3000.000000</td>\n",
              "      <td>360.000000</td>\n",
              "      <td>9.000000</td>\n",
              "      <td>8.000000</td>\n",
              "      <td>8.000000</td>\n",
              "      <td>10.000000</td>\n",
              "      <td>120.000000</td>\n",
              "      <td>120.000000</td>\n",
              "      <td>7.000000</td>\n",
              "      <td>100.000000</td>\n",
              "      <td>6.00000</td>\n",
              "      <td>5216.000000</td>\n",
              "    </tr>\n",
              "  </tbody>\n",
              "</table>\n",
              "</div>\n",
              "      <button class=\"colab-df-convert\" onclick=\"convertToInteractive('df-76822c97-3a13-4375-8589-56856e961001')\"\n",
              "              title=\"Convert this dataframe to an interactive table.\"\n",
              "              style=\"display:none;\">\n",
              "        \n",
              "  <svg xmlns=\"http://www.w3.org/2000/svg\" height=\"24px\"viewBox=\"0 0 24 24\"\n",
              "       width=\"24px\">\n",
              "    <path d=\"M0 0h24v24H0V0z\" fill=\"none\"/>\n",
              "    <path d=\"M18.56 5.44l.94 2.06.94-2.06 2.06-.94-2.06-.94-.94-2.06-.94 2.06-2.06.94zm-11 1L8.5 8.5l.94-2.06 2.06-.94-2.06-.94L8.5 2.5l-.94 2.06-2.06.94zm10 10l.94 2.06.94-2.06 2.06-.94-2.06-.94-.94-2.06-.94 2.06-2.06.94z\"/><path d=\"M17.41 7.96l-1.37-1.37c-.4-.4-.92-.59-1.43-.59-.52 0-1.04.2-1.43.59L10.3 9.45l-7.72 7.72c-.78.78-.78 2.05 0 2.83L4 21.41c.39.39.9.59 1.41.59.51 0 1.02-.2 1.41-.59l7.78-7.78 2.81-2.81c.8-.78.8-2.07 0-2.86zM5.41 20L4 18.59l7.72-7.72 1.47 1.35L5.41 20z\"/>\n",
              "  </svg>\n",
              "      </button>\n",
              "      \n",
              "  <style>\n",
              "    .colab-df-container {\n",
              "      display:flex;\n",
              "      flex-wrap:wrap;\n",
              "      gap: 12px;\n",
              "    }\n",
              "\n",
              "    .colab-df-convert {\n",
              "      background-color: #E8F0FE;\n",
              "      border: none;\n",
              "      border-radius: 50%;\n",
              "      cursor: pointer;\n",
              "      display: none;\n",
              "      fill: #1967D2;\n",
              "      height: 32px;\n",
              "      padding: 0 0 0 0;\n",
              "      width: 32px;\n",
              "    }\n",
              "\n",
              "    .colab-df-convert:hover {\n",
              "      background-color: #E2EBFA;\n",
              "      box-shadow: 0px 1px 2px rgba(60, 64, 67, 0.3), 0px 1px 3px 1px rgba(60, 64, 67, 0.15);\n",
              "      fill: #174EA6;\n",
              "    }\n",
              "\n",
              "    [theme=dark] .colab-df-convert {\n",
              "      background-color: #3B4455;\n",
              "      fill: #D2E3FC;\n",
              "    }\n",
              "\n",
              "    [theme=dark] .colab-df-convert:hover {\n",
              "      background-color: #434B5C;\n",
              "      box-shadow: 0px 1px 3px 1px rgba(0, 0, 0, 0.15);\n",
              "      filter: drop-shadow(0px 1px 2px rgba(0, 0, 0, 0.3));\n",
              "      fill: #FFFFFF;\n",
              "    }\n",
              "  </style>\n",
              "\n",
              "      <script>\n",
              "        const buttonEl =\n",
              "          document.querySelector('#df-76822c97-3a13-4375-8589-56856e961001 button.colab-df-convert');\n",
              "        buttonEl.style.display =\n",
              "          google.colab.kernel.accessAllowed ? 'block' : 'none';\n",
              "\n",
              "        async function convertToInteractive(key) {\n",
              "          const element = document.querySelector('#df-76822c97-3a13-4375-8589-56856e961001');\n",
              "          const dataTable =\n",
              "            await google.colab.kernel.invokeFunction('convertToInteractive',\n",
              "                                                     [key], {});\n",
              "          if (!dataTable) return;\n",
              "\n",
              "          const docLinkHtml = 'Like what you see? Visit the ' +\n",
              "            '<a target=\"_blank\" href=https://colab.research.google.com/notebooks/data_table.ipynb>data table notebook</a>'\n",
              "            + ' to learn more about interactive tables.';\n",
              "          element.innerHTML = '';\n",
              "          dataTable['output_type'] = 'display_data';\n",
              "          await google.colab.output.renderOutput(dataTable, element);\n",
              "          const docLink = document.createElement('div');\n",
              "          docLink.innerHTML = docLinkHtml;\n",
              "          element.appendChild(docLink);\n",
              "        }\n",
              "      </script>\n",
              "    </div>\n",
              "  </div>\n",
              "  "
            ]
          },
          "metadata": {},
          "execution_count": 23
        }
      ]
    },
    {
      "cell_type": "markdown",
      "source": [
        "## Data Preprocessing"
      ],
      "metadata": {
        "id": "YwJ6EKuijrgN"
      }
    },
    {
      "cell_type": "code",
      "source": [
        "# Copy\n",
        "df1 = house.copy()"
      ],
      "metadata": {
        "id": "_aRed2qenL_o"
      },
      "execution_count": 24,
      "outputs": []
    },
    {
      "cell_type": "code",
      "source": [
        "# Replacing special charater to nan value if exists\n",
        "special_char = [\"!\",\"@\",\"#\",\"$\",\"^\",\"&\",\"*\",\",\",\"-\",\" ?\"]\n",
        "df1.replace(special_char, value=np.nan, inplace=True)"
      ],
      "metadata": {
        "id": "rbL11DDfnIiZ"
      },
      "execution_count": 25,
      "outputs": []
    },
    {
      "cell_type": "code",
      "source": [
        "# Checking Nan Values\n",
        "df1.isnull().sum()"
      ],
      "metadata": {
        "colab": {
          "base_uri": "https://localhost:8080/"
        },
        "id": "_ahccEZjjhsZ",
        "outputId": "3f991a68-7d49-44dc-f135-e9dcc22006a9"
      },
      "execution_count": 26,
      "outputs": [
        {
          "output_type": "execute_result",
          "data": {
            "text/plain": [
              "Id                0\n",
              "Area(total)       0\n",
              "Trooms            0\n",
              "Nbedrooms         0\n",
              "Nbwashrooms       0\n",
              "Twashrooms        0\n",
              "roof              0\n",
              "Roof(Area)        0\n",
              "Lawn(Area)        0\n",
              "Nfloors           0\n",
              "API               0\n",
              "ANB               0\n",
              "Expected price    0\n",
              "Grade             0\n",
              "dtype: int64"
            ]
          },
          "metadata": {},
          "execution_count": 26
        }
      ]
    },
    {
      "cell_type": "markdown",
      "source": [
        "No nan value found so we can skip missing value treatment."
      ],
      "metadata": {
        "id": "gwFR5wd3naHc"
      }
    },
    {
      "cell_type": "code",
      "source": [
        "# converting categorical columns to numerical\n",
        "df1.replace({'Grade':{'A':0,'B':1,'C':2,'D':3,'E':4}, 'roof':{'YES':0, 'NO':1}}, inplace=True)"
      ],
      "metadata": {
        "id": "TLWkSNAgy3yX"
      },
      "execution_count": 27,
      "outputs": []
    },
    {
      "cell_type": "code",
      "source": [
        "df1.head()"
      ],
      "metadata": {
        "colab": {
          "base_uri": "https://localhost:8080/",
          "height": 206
        },
        "id": "H0a0hGHs4Rka",
        "outputId": "ae0ae82b-cf75-4ce0-b77a-952ca539055d"
      },
      "execution_count": 28,
      "outputs": [
        {
          "output_type": "execute_result",
          "data": {
            "text/plain": [
              "   Id  Area(total)  Trooms  Nbedrooms  Nbwashrooms  Twashrooms  roof  \\\n",
              "0   1          339       6          5            4           6     1   \n",
              "1   2          358       5          4            3           4     0   \n",
              "2   3          324       7          5            4           5     0   \n",
              "3   4          330       6          4            3           5     0   \n",
              "4   5          320       7          4            4           5     1   \n",
              "\n",
              "   Roof(Area)  Lawn(Area)  Nfloors  API  ANB  Expected price  Grade  \n",
              "0           0          76        2   79    6            3481      3  \n",
              "1          71          96        3   72    4            3510      3  \n",
              "2         101         117        5   64    3            3748      2  \n",
              "3         101          82        2   59    2            3134      3  \n",
              "4           0          75        3   40    1            3843      3  "
            ],
            "text/html": [
              "\n",
              "  <div id=\"df-91476f9d-a86a-49ca-a7bf-dac978afe9a5\">\n",
              "    <div class=\"colab-df-container\">\n",
              "      <div>\n",
              "<style scoped>\n",
              "    .dataframe tbody tr th:only-of-type {\n",
              "        vertical-align: middle;\n",
              "    }\n",
              "\n",
              "    .dataframe tbody tr th {\n",
              "        vertical-align: top;\n",
              "    }\n",
              "\n",
              "    .dataframe thead th {\n",
              "        text-align: right;\n",
              "    }\n",
              "</style>\n",
              "<table border=\"1\" class=\"dataframe\">\n",
              "  <thead>\n",
              "    <tr style=\"text-align: right;\">\n",
              "      <th></th>\n",
              "      <th>Id</th>\n",
              "      <th>Area(total)</th>\n",
              "      <th>Trooms</th>\n",
              "      <th>Nbedrooms</th>\n",
              "      <th>Nbwashrooms</th>\n",
              "      <th>Twashrooms</th>\n",
              "      <th>roof</th>\n",
              "      <th>Roof(Area)</th>\n",
              "      <th>Lawn(Area)</th>\n",
              "      <th>Nfloors</th>\n",
              "      <th>API</th>\n",
              "      <th>ANB</th>\n",
              "      <th>Expected price</th>\n",
              "      <th>Grade</th>\n",
              "    </tr>\n",
              "  </thead>\n",
              "  <tbody>\n",
              "    <tr>\n",
              "      <th>0</th>\n",
              "      <td>1</td>\n",
              "      <td>339</td>\n",
              "      <td>6</td>\n",
              "      <td>5</td>\n",
              "      <td>4</td>\n",
              "      <td>6</td>\n",
              "      <td>1</td>\n",
              "      <td>0</td>\n",
              "      <td>76</td>\n",
              "      <td>2</td>\n",
              "      <td>79</td>\n",
              "      <td>6</td>\n",
              "      <td>3481</td>\n",
              "      <td>3</td>\n",
              "    </tr>\n",
              "    <tr>\n",
              "      <th>1</th>\n",
              "      <td>2</td>\n",
              "      <td>358</td>\n",
              "      <td>5</td>\n",
              "      <td>4</td>\n",
              "      <td>3</td>\n",
              "      <td>4</td>\n",
              "      <td>0</td>\n",
              "      <td>71</td>\n",
              "      <td>96</td>\n",
              "      <td>3</td>\n",
              "      <td>72</td>\n",
              "      <td>4</td>\n",
              "      <td>3510</td>\n",
              "      <td>3</td>\n",
              "    </tr>\n",
              "    <tr>\n",
              "      <th>2</th>\n",
              "      <td>3</td>\n",
              "      <td>324</td>\n",
              "      <td>7</td>\n",
              "      <td>5</td>\n",
              "      <td>4</td>\n",
              "      <td>5</td>\n",
              "      <td>0</td>\n",
              "      <td>101</td>\n",
              "      <td>117</td>\n",
              "      <td>5</td>\n",
              "      <td>64</td>\n",
              "      <td>3</td>\n",
              "      <td>3748</td>\n",
              "      <td>2</td>\n",
              "    </tr>\n",
              "    <tr>\n",
              "      <th>3</th>\n",
              "      <td>4</td>\n",
              "      <td>330</td>\n",
              "      <td>6</td>\n",
              "      <td>4</td>\n",
              "      <td>3</td>\n",
              "      <td>5</td>\n",
              "      <td>0</td>\n",
              "      <td>101</td>\n",
              "      <td>82</td>\n",
              "      <td>2</td>\n",
              "      <td>59</td>\n",
              "      <td>2</td>\n",
              "      <td>3134</td>\n",
              "      <td>3</td>\n",
              "    </tr>\n",
              "    <tr>\n",
              "      <th>4</th>\n",
              "      <td>5</td>\n",
              "      <td>320</td>\n",
              "      <td>7</td>\n",
              "      <td>4</td>\n",
              "      <td>4</td>\n",
              "      <td>5</td>\n",
              "      <td>1</td>\n",
              "      <td>0</td>\n",
              "      <td>75</td>\n",
              "      <td>3</td>\n",
              "      <td>40</td>\n",
              "      <td>1</td>\n",
              "      <td>3843</td>\n",
              "      <td>3</td>\n",
              "    </tr>\n",
              "  </tbody>\n",
              "</table>\n",
              "</div>\n",
              "      <button class=\"colab-df-convert\" onclick=\"convertToInteractive('df-91476f9d-a86a-49ca-a7bf-dac978afe9a5')\"\n",
              "              title=\"Convert this dataframe to an interactive table.\"\n",
              "              style=\"display:none;\">\n",
              "        \n",
              "  <svg xmlns=\"http://www.w3.org/2000/svg\" height=\"24px\"viewBox=\"0 0 24 24\"\n",
              "       width=\"24px\">\n",
              "    <path d=\"M0 0h24v24H0V0z\" fill=\"none\"/>\n",
              "    <path d=\"M18.56 5.44l.94 2.06.94-2.06 2.06-.94-2.06-.94-.94-2.06-.94 2.06-2.06.94zm-11 1L8.5 8.5l.94-2.06 2.06-.94-2.06-.94L8.5 2.5l-.94 2.06-2.06.94zm10 10l.94 2.06.94-2.06 2.06-.94-2.06-.94-.94-2.06-.94 2.06-2.06.94z\"/><path d=\"M17.41 7.96l-1.37-1.37c-.4-.4-.92-.59-1.43-.59-.52 0-1.04.2-1.43.59L10.3 9.45l-7.72 7.72c-.78.78-.78 2.05 0 2.83L4 21.41c.39.39.9.59 1.41.59.51 0 1.02-.2 1.41-.59l7.78-7.78 2.81-2.81c.8-.78.8-2.07 0-2.86zM5.41 20L4 18.59l7.72-7.72 1.47 1.35L5.41 20z\"/>\n",
              "  </svg>\n",
              "      </button>\n",
              "      \n",
              "  <style>\n",
              "    .colab-df-container {\n",
              "      display:flex;\n",
              "      flex-wrap:wrap;\n",
              "      gap: 12px;\n",
              "    }\n",
              "\n",
              "    .colab-df-convert {\n",
              "      background-color: #E8F0FE;\n",
              "      border: none;\n",
              "      border-radius: 50%;\n",
              "      cursor: pointer;\n",
              "      display: none;\n",
              "      fill: #1967D2;\n",
              "      height: 32px;\n",
              "      padding: 0 0 0 0;\n",
              "      width: 32px;\n",
              "    }\n",
              "\n",
              "    .colab-df-convert:hover {\n",
              "      background-color: #E2EBFA;\n",
              "      box-shadow: 0px 1px 2px rgba(60, 64, 67, 0.3), 0px 1px 3px 1px rgba(60, 64, 67, 0.15);\n",
              "      fill: #174EA6;\n",
              "    }\n",
              "\n",
              "    [theme=dark] .colab-df-convert {\n",
              "      background-color: #3B4455;\n",
              "      fill: #D2E3FC;\n",
              "    }\n",
              "\n",
              "    [theme=dark] .colab-df-convert:hover {\n",
              "      background-color: #434B5C;\n",
              "      box-shadow: 0px 1px 3px 1px rgba(0, 0, 0, 0.15);\n",
              "      filter: drop-shadow(0px 1px 2px rgba(0, 0, 0, 0.3));\n",
              "      fill: #FFFFFF;\n",
              "    }\n",
              "  </style>\n",
              "\n",
              "      <script>\n",
              "        const buttonEl =\n",
              "          document.querySelector('#df-91476f9d-a86a-49ca-a7bf-dac978afe9a5 button.colab-df-convert');\n",
              "        buttonEl.style.display =\n",
              "          google.colab.kernel.accessAllowed ? 'block' : 'none';\n",
              "\n",
              "        async function convertToInteractive(key) {\n",
              "          const element = document.querySelector('#df-91476f9d-a86a-49ca-a7bf-dac978afe9a5');\n",
              "          const dataTable =\n",
              "            await google.colab.kernel.invokeFunction('convertToInteractive',\n",
              "                                                     [key], {});\n",
              "          if (!dataTable) return;\n",
              "\n",
              "          const docLinkHtml = 'Like what you see? Visit the ' +\n",
              "            '<a target=\"_blank\" href=https://colab.research.google.com/notebooks/data_table.ipynb>data table notebook</a>'\n",
              "            + ' to learn more about interactive tables.';\n",
              "          element.innerHTML = '';\n",
              "          dataTable['output_type'] = 'display_data';\n",
              "          await google.colab.output.renderOutput(dataTable, element);\n",
              "          const docLink = document.createElement('div');\n",
              "          docLink.innerHTML = docLinkHtml;\n",
              "          element.appendChild(docLink);\n",
              "        }\n",
              "      </script>\n",
              "    </div>\n",
              "  </div>\n",
              "  "
            ]
          },
          "metadata": {},
          "execution_count": 28
        }
      ]
    },
    {
      "cell_type": "code",
      "source": [
        "# scaling the dataset\n",
        "def feature_scale(scale):\n",
        "  numerics = ['int16', 'int32', 'int64', 'float16', 'float32', 'float64']\n",
        "  new_data = df1.select_dtypes(include=numerics)\n",
        "  if scale == 'minmax':\n",
        "    scaler = MinMaxScaler()\n",
        "  else:\n",
        "    scaler = StandardScaler()\n",
        "  data_scaled = pd.DataFrame(scaler.fit_transform(new_data.to_numpy()),columns=new_data.columns)\n",
        "  return data_scaled"
      ],
      "metadata": {
        "id": "uGi0eQXdm-nC"
      },
      "execution_count": 29,
      "outputs": []
    },
    {
      "cell_type": "code",
      "source": [
        "# scaling the data using MinMax Scaling process\n",
        "scale = 'minmax' #standard\n",
        "data_scaled = feature_scale(scale)\n",
        "data_scaled.head()"
      ],
      "metadata": {
        "colab": {
          "base_uri": "https://localhost:8080/",
          "height": 206
        },
        "id": "CWJncAs7n_on",
        "outputId": "f91173bb-e14b-413d-8f6e-20ad6bb185bf"
      },
      "execution_count": 30,
      "outputs": [
        {
          "output_type": "execute_result",
          "data": {
            "text/plain": [
              "         Id  Area(total)  Trooms  Nbedrooms  Nbwashrooms  Twashrooms  roof  \\\n",
              "0  0.000000     0.700000    0.25   0.500000     0.428571       0.500   1.0   \n",
              "1  0.000333     0.971429    0.00   0.333333     0.285714       0.250   0.0   \n",
              "2  0.000667     0.485714    0.50   0.500000     0.428571       0.375   0.0   \n",
              "3  0.001000     0.571429    0.25   0.333333     0.285714       0.375   0.0   \n",
              "4  0.001334     0.428571    0.50   0.333333     0.428571       0.375   1.0   \n",
              "\n",
              "   Roof(Area)  Lawn(Area)   Nfloors       API  ANB  Expected price  Grade  \n",
              "0    0.000000        0.12  0.166667  0.650000  1.0        0.360251   0.75  \n",
              "1    0.591667        0.52  0.333333  0.533333  0.6        0.370944   0.75  \n",
              "2    0.841667        0.94  0.666667  0.400000  0.4        0.458702   0.50  \n",
              "3    0.841667        0.24  0.166667  0.316667  0.2        0.232301   0.75  \n",
              "4    0.000000        0.10  0.333333  0.000000  0.0        0.493732   0.75  "
            ],
            "text/html": [
              "\n",
              "  <div id=\"df-7f398e10-a8be-42a5-95b7-fe2ebf25a0b4\">\n",
              "    <div class=\"colab-df-container\">\n",
              "      <div>\n",
              "<style scoped>\n",
              "    .dataframe tbody tr th:only-of-type {\n",
              "        vertical-align: middle;\n",
              "    }\n",
              "\n",
              "    .dataframe tbody tr th {\n",
              "        vertical-align: top;\n",
              "    }\n",
              "\n",
              "    .dataframe thead th {\n",
              "        text-align: right;\n",
              "    }\n",
              "</style>\n",
              "<table border=\"1\" class=\"dataframe\">\n",
              "  <thead>\n",
              "    <tr style=\"text-align: right;\">\n",
              "      <th></th>\n",
              "      <th>Id</th>\n",
              "      <th>Area(total)</th>\n",
              "      <th>Trooms</th>\n",
              "      <th>Nbedrooms</th>\n",
              "      <th>Nbwashrooms</th>\n",
              "      <th>Twashrooms</th>\n",
              "      <th>roof</th>\n",
              "      <th>Roof(Area)</th>\n",
              "      <th>Lawn(Area)</th>\n",
              "      <th>Nfloors</th>\n",
              "      <th>API</th>\n",
              "      <th>ANB</th>\n",
              "      <th>Expected price</th>\n",
              "      <th>Grade</th>\n",
              "    </tr>\n",
              "  </thead>\n",
              "  <tbody>\n",
              "    <tr>\n",
              "      <th>0</th>\n",
              "      <td>0.000000</td>\n",
              "      <td>0.700000</td>\n",
              "      <td>0.25</td>\n",
              "      <td>0.500000</td>\n",
              "      <td>0.428571</td>\n",
              "      <td>0.500</td>\n",
              "      <td>1.0</td>\n",
              "      <td>0.000000</td>\n",
              "      <td>0.12</td>\n",
              "      <td>0.166667</td>\n",
              "      <td>0.650000</td>\n",
              "      <td>1.0</td>\n",
              "      <td>0.360251</td>\n",
              "      <td>0.75</td>\n",
              "    </tr>\n",
              "    <tr>\n",
              "      <th>1</th>\n",
              "      <td>0.000333</td>\n",
              "      <td>0.971429</td>\n",
              "      <td>0.00</td>\n",
              "      <td>0.333333</td>\n",
              "      <td>0.285714</td>\n",
              "      <td>0.250</td>\n",
              "      <td>0.0</td>\n",
              "      <td>0.591667</td>\n",
              "      <td>0.52</td>\n",
              "      <td>0.333333</td>\n",
              "      <td>0.533333</td>\n",
              "      <td>0.6</td>\n",
              "      <td>0.370944</td>\n",
              "      <td>0.75</td>\n",
              "    </tr>\n",
              "    <tr>\n",
              "      <th>2</th>\n",
              "      <td>0.000667</td>\n",
              "      <td>0.485714</td>\n",
              "      <td>0.50</td>\n",
              "      <td>0.500000</td>\n",
              "      <td>0.428571</td>\n",
              "      <td>0.375</td>\n",
              "      <td>0.0</td>\n",
              "      <td>0.841667</td>\n",
              "      <td>0.94</td>\n",
              "      <td>0.666667</td>\n",
              "      <td>0.400000</td>\n",
              "      <td>0.4</td>\n",
              "      <td>0.458702</td>\n",
              "      <td>0.50</td>\n",
              "    </tr>\n",
              "    <tr>\n",
              "      <th>3</th>\n",
              "      <td>0.001000</td>\n",
              "      <td>0.571429</td>\n",
              "      <td>0.25</td>\n",
              "      <td>0.333333</td>\n",
              "      <td>0.285714</td>\n",
              "      <td>0.375</td>\n",
              "      <td>0.0</td>\n",
              "      <td>0.841667</td>\n",
              "      <td>0.24</td>\n",
              "      <td>0.166667</td>\n",
              "      <td>0.316667</td>\n",
              "      <td>0.2</td>\n",
              "      <td>0.232301</td>\n",
              "      <td>0.75</td>\n",
              "    </tr>\n",
              "    <tr>\n",
              "      <th>4</th>\n",
              "      <td>0.001334</td>\n",
              "      <td>0.428571</td>\n",
              "      <td>0.50</td>\n",
              "      <td>0.333333</td>\n",
              "      <td>0.428571</td>\n",
              "      <td>0.375</td>\n",
              "      <td>1.0</td>\n",
              "      <td>0.000000</td>\n",
              "      <td>0.10</td>\n",
              "      <td>0.333333</td>\n",
              "      <td>0.000000</td>\n",
              "      <td>0.0</td>\n",
              "      <td>0.493732</td>\n",
              "      <td>0.75</td>\n",
              "    </tr>\n",
              "  </tbody>\n",
              "</table>\n",
              "</div>\n",
              "      <button class=\"colab-df-convert\" onclick=\"convertToInteractive('df-7f398e10-a8be-42a5-95b7-fe2ebf25a0b4')\"\n",
              "              title=\"Convert this dataframe to an interactive table.\"\n",
              "              style=\"display:none;\">\n",
              "        \n",
              "  <svg xmlns=\"http://www.w3.org/2000/svg\" height=\"24px\"viewBox=\"0 0 24 24\"\n",
              "       width=\"24px\">\n",
              "    <path d=\"M0 0h24v24H0V0z\" fill=\"none\"/>\n",
              "    <path d=\"M18.56 5.44l.94 2.06.94-2.06 2.06-.94-2.06-.94-.94-2.06-.94 2.06-2.06.94zm-11 1L8.5 8.5l.94-2.06 2.06-.94-2.06-.94L8.5 2.5l-.94 2.06-2.06.94zm10 10l.94 2.06.94-2.06 2.06-.94-2.06-.94-.94-2.06-.94 2.06-2.06.94z\"/><path d=\"M17.41 7.96l-1.37-1.37c-.4-.4-.92-.59-1.43-.59-.52 0-1.04.2-1.43.59L10.3 9.45l-7.72 7.72c-.78.78-.78 2.05 0 2.83L4 21.41c.39.39.9.59 1.41.59.51 0 1.02-.2 1.41-.59l7.78-7.78 2.81-2.81c.8-.78.8-2.07 0-2.86zM5.41 20L4 18.59l7.72-7.72 1.47 1.35L5.41 20z\"/>\n",
              "  </svg>\n",
              "      </button>\n",
              "      \n",
              "  <style>\n",
              "    .colab-df-container {\n",
              "      display:flex;\n",
              "      flex-wrap:wrap;\n",
              "      gap: 12px;\n",
              "    }\n",
              "\n",
              "    .colab-df-convert {\n",
              "      background-color: #E8F0FE;\n",
              "      border: none;\n",
              "      border-radius: 50%;\n",
              "      cursor: pointer;\n",
              "      display: none;\n",
              "      fill: #1967D2;\n",
              "      height: 32px;\n",
              "      padding: 0 0 0 0;\n",
              "      width: 32px;\n",
              "    }\n",
              "\n",
              "    .colab-df-convert:hover {\n",
              "      background-color: #E2EBFA;\n",
              "      box-shadow: 0px 1px 2px rgba(60, 64, 67, 0.3), 0px 1px 3px 1px rgba(60, 64, 67, 0.15);\n",
              "      fill: #174EA6;\n",
              "    }\n",
              "\n",
              "    [theme=dark] .colab-df-convert {\n",
              "      background-color: #3B4455;\n",
              "      fill: #D2E3FC;\n",
              "    }\n",
              "\n",
              "    [theme=dark] .colab-df-convert:hover {\n",
              "      background-color: #434B5C;\n",
              "      box-shadow: 0px 1px 3px 1px rgba(0, 0, 0, 0.15);\n",
              "      filter: drop-shadow(0px 1px 2px rgba(0, 0, 0, 0.3));\n",
              "      fill: #FFFFFF;\n",
              "    }\n",
              "  </style>\n",
              "\n",
              "      <script>\n",
              "        const buttonEl =\n",
              "          document.querySelector('#df-7f398e10-a8be-42a5-95b7-fe2ebf25a0b4 button.colab-df-convert');\n",
              "        buttonEl.style.display =\n",
              "          google.colab.kernel.accessAllowed ? 'block' : 'none';\n",
              "\n",
              "        async function convertToInteractive(key) {\n",
              "          const element = document.querySelector('#df-7f398e10-a8be-42a5-95b7-fe2ebf25a0b4');\n",
              "          const dataTable =\n",
              "            await google.colab.kernel.invokeFunction('convertToInteractive',\n",
              "                                                     [key], {});\n",
              "          if (!dataTable) return;\n",
              "\n",
              "          const docLinkHtml = 'Like what you see? Visit the ' +\n",
              "            '<a target=\"_blank\" href=https://colab.research.google.com/notebooks/data_table.ipynb>data table notebook</a>'\n",
              "            + ' to learn more about interactive tables.';\n",
              "          element.innerHTML = '';\n",
              "          dataTable['output_type'] = 'display_data';\n",
              "          await google.colab.output.renderOutput(dataTable, element);\n",
              "          const docLink = document.createElement('div');\n",
              "          docLink.innerHTML = docLinkHtml;\n",
              "          element.appendChild(docLink);\n",
              "        }\n",
              "      </script>\n",
              "    </div>\n",
              "  </div>\n",
              "  "
            ]
          },
          "metadata": {},
          "execution_count": 30
        }
      ]
    },
    {
      "cell_type": "code",
      "source": [
        "# correlation\n",
        "corr = data_scaled.corr()\n",
        "corr.style.background_gradient(cmap='Wistia')"
      ],
      "metadata": {
        "id": "5AIQdF3VoF4y",
        "colab": {
          "base_uri": "https://localhost:8080/",
          "height": 543
        },
        "outputId": "ea16cb9b-14cf-41e9-f4aa-5256ef279f92"
      },
      "execution_count": 31,
      "outputs": [
        {
          "output_type": "execute_result",
          "data": {
            "text/plain": [
              "<pandas.io.formats.style.Styler at 0x7f2cbd5fd150>"
            ],
            "text/html": [
              "<style type=\"text/css\">\n",
              "#T_37bb7_row0_col0, #T_37bb7_row1_col1, #T_37bb7_row2_col2, #T_37bb7_row3_col3, #T_37bb7_row4_col4, #T_37bb7_row5_col5, #T_37bb7_row6_col6, #T_37bb7_row7_col7, #T_37bb7_row8_col8, #T_37bb7_row9_col9, #T_37bb7_row10_col10, #T_37bb7_row11_col11, #T_37bb7_row12_col12, #T_37bb7_row13_col13 {\n",
              "  background-color: #fc7f00;\n",
              "  color: #f1f1f1;\n",
              "}\n",
              "#T_37bb7_row0_col1 {\n",
              "  background-color: #f5f13f;\n",
              "  color: #000000;\n",
              "}\n",
              "#T_37bb7_row0_col2, #T_37bb7_row0_col3, #T_37bb7_row7_col5, #T_37bb7_row10_col3, #T_37bb7_row10_col4 {\n",
              "  background-color: #ffc303;\n",
              "  color: #000000;\n",
              "}\n",
              "#T_37bb7_row0_col4, #T_37bb7_row10_col5, #T_37bb7_row11_col5 {\n",
              "  background-color: #ffc404;\n",
              "  color: #000000;\n",
              "}\n",
              "#T_37bb7_row0_col5, #T_37bb7_row1_col9, #T_37bb7_row6_col2, #T_37bb7_row6_col3, #T_37bb7_row8_col5, #T_37bb7_row11_col9, #T_37bb7_row11_col13 {\n",
              "  background-color: #ffc505;\n",
              "  color: #000000;\n",
              "}\n",
              "#T_37bb7_row0_col6, #T_37bb7_row1_col6, #T_37bb7_row8_col7, #T_37bb7_row9_col6, #T_37bb7_row10_col7, #T_37bb7_row11_col7, #T_37bb7_row12_col6 {\n",
              "  background-color: #ffbf01;\n",
              "  color: #000000;\n",
              "}\n",
              "#T_37bb7_row0_col7, #T_37bb7_row1_col7, #T_37bb7_row8_col6, #T_37bb7_row9_col7, #T_37bb7_row10_col6, #T_37bb7_row12_col7 {\n",
              "  background-color: #ffbd00;\n",
              "  color: #000000;\n",
              "}\n",
              "#T_37bb7_row0_col8, #T_37bb7_row2_col8, #T_37bb7_row4_col8, #T_37bb7_row5_col8 {\n",
              "  background-color: #eafa65;\n",
              "  color: #000000;\n",
              "}\n",
              "#T_37bb7_row0_col9, #T_37bb7_row0_col12, #T_37bb7_row6_col5, #T_37bb7_row7_col12 {\n",
              "  background-color: #ffc807;\n",
              "  color: #000000;\n",
              "}\n",
              "#T_37bb7_row0_col10, #T_37bb7_row9_col10 {\n",
              "  background-color: #edf759;\n",
              "  color: #000000;\n",
              "}\n",
              "#T_37bb7_row0_col11, #T_37bb7_row1_col11, #T_37bb7_row4_col13, #T_37bb7_row5_col0 {\n",
              "  background-color: #e5fe75;\n",
              "  color: #000000;\n",
              "}\n",
              "#T_37bb7_row0_col13, #T_37bb7_row8_col3, #T_37bb7_row8_col4, #T_37bb7_row11_col4 {\n",
              "  background-color: #ffc304;\n",
              "  color: #000000;\n",
              "}\n",
              "#T_37bb7_row1_col0, #T_37bb7_row2_col0, #T_37bb7_row3_col0, #T_37bb7_row4_col0, #T_37bb7_row8_col0 {\n",
              "  background-color: #e6fe74;\n",
              "  color: #000000;\n",
              "}\n",
              "#T_37bb7_row1_col2, #T_37bb7_row4_col6, #T_37bb7_row5_col6, #T_37bb7_row7_col3 {\n",
              "  background-color: #ffc102;\n",
              "  color: #000000;\n",
              "}\n",
              "#T_37bb7_row1_col3, #T_37bb7_row2_col6, #T_37bb7_row3_col6, #T_37bb7_row7_col2 {\n",
              "  background-color: #ffc002;\n",
              "  color: #000000;\n",
              "}\n",
              "#T_37bb7_row1_col4, #T_37bb7_row7_col4 {\n",
              "  background-color: #ffc103;\n",
              "  color: #000000;\n",
              "}\n",
              "#T_37bb7_row1_col5, #T_37bb7_row8_col2, #T_37bb7_row10_col2, #T_37bb7_row11_col2, #T_37bb7_row11_col3 {\n",
              "  background-color: #ffc203;\n",
              "  color: #000000;\n",
              "}\n",
              "#T_37bb7_row1_col8, #T_37bb7_row6_col11, #T_37bb7_row9_col11, #T_37bb7_row9_col13 {\n",
              "  background-color: #e9fb69;\n",
              "  color: #000000;\n",
              "}\n",
              "#T_37bb7_row1_col10, #T_37bb7_row3_col10 {\n",
              "  background-color: #eef757;\n",
              "  color: #000000;\n",
              "}\n",
              "#T_37bb7_row1_col12 {\n",
              "  background-color: #ffb300;\n",
              "  color: #000000;\n",
              "}\n",
              "#T_37bb7_row1_col13 {\n",
              "  background-color: #ffd30d;\n",
              "  color: #000000;\n",
              "}\n",
              "#T_37bb7_row2_col1, #T_37bb7_row7_col1, #T_37bb7_row9_col1 {\n",
              "  background-color: #f6f03b;\n",
              "  color: #000000;\n",
              "}\n",
              "#T_37bb7_row2_col3, #T_37bb7_row3_col2, #T_37bb7_row9_col2 {\n",
              "  background-color: #fd8800;\n",
              "  color: #f1f1f1;\n",
              "}\n",
              "#T_37bb7_row2_col4, #T_37bb7_row4_col2, #T_37bb7_row12_col2 {\n",
              "  background-color: #fd8b00;\n",
              "  color: #f1f1f1;\n",
              "}\n",
              "#T_37bb7_row2_col5, #T_37bb7_row5_col2 {\n",
              "  background-color: #fd8d00;\n",
              "  color: #f1f1f1;\n",
              "}\n",
              "#T_37bb7_row2_col7, #T_37bb7_row3_col7, #T_37bb7_row4_col7, #T_37bb7_row5_col7, #T_37bb7_row11_col6 {\n",
              "  background-color: #ffbc00;\n",
              "  color: #000000;\n",
              "}\n",
              "#T_37bb7_row2_col9 {\n",
              "  background-color: #fd8900;\n",
              "  color: #f1f1f1;\n",
              "}\n",
              "#T_37bb7_row2_col10, #T_37bb7_row6_col10 {\n",
              "  background-color: #eef656;\n",
              "  color: #000000;\n",
              "}\n",
              "#T_37bb7_row2_col11, #T_37bb7_row4_col11 {\n",
              "  background-color: #e7fc6e;\n",
              "  color: #000000;\n",
              "}\n",
              "#T_37bb7_row2_col12 {\n",
              "  background-color: #fd8c00;\n",
              "  color: #f1f1f1;\n",
              "}\n",
              "#T_37bb7_row2_col13, #T_37bb7_row6_col0, #T_37bb7_row6_col7, #T_37bb7_row7_col6, #T_37bb7_row9_col0, #T_37bb7_row10_col11, #T_37bb7_row11_col0, #T_37bb7_row13_col1, #T_37bb7_row13_col2, #T_37bb7_row13_col3, #T_37bb7_row13_col4, #T_37bb7_row13_col5, #T_37bb7_row13_col8, #T_37bb7_row13_col9, #T_37bb7_row13_col10, #T_37bb7_row13_col11, #T_37bb7_row13_col12 {\n",
              "  background-color: #e4ff7a;\n",
              "  color: #000000;\n",
              "}\n",
              "#T_37bb7_row3_col1, #T_37bb7_row4_col1 {\n",
              "  background-color: #f7ef36;\n",
              "  color: #000000;\n",
              "}\n",
              "#T_37bb7_row3_col4, #T_37bb7_row4_col3, #T_37bb7_row4_col5, #T_37bb7_row5_col4 {\n",
              "  background-color: #fc8200;\n",
              "  color: #f1f1f1;\n",
              "}\n",
              "#T_37bb7_row3_col5, #T_37bb7_row5_col3 {\n",
              "  background-color: #fd8500;\n",
              "  color: #f1f1f1;\n",
              "}\n",
              "#T_37bb7_row3_col8, #T_37bb7_row8_col11 {\n",
              "  background-color: #e9fb68;\n",
              "  color: #000000;\n",
              "}\n",
              "#T_37bb7_row3_col9 {\n",
              "  background-color: #fe9200;\n",
              "  color: #000000;\n",
              "}\n",
              "#T_37bb7_row3_col11, #T_37bb7_row5_col11, #T_37bb7_row7_col8, #T_37bb7_row12_col11 {\n",
              "  background-color: #e8fb6b;\n",
              "  color: #000000;\n",
              "}\n",
              "#T_37bb7_row3_col12, #T_37bb7_row4_col9, #T_37bb7_row9_col12, #T_37bb7_row12_col9 {\n",
              "  background-color: #fe9400;\n",
              "  color: #000000;\n",
              "}\n",
              "#T_37bb7_row3_col13, #T_37bb7_row13_col0 {\n",
              "  background-color: #e4ff78;\n",
              "  color: #000000;\n",
              "}\n",
              "#T_37bb7_row4_col10, #T_37bb7_row5_col10, #T_37bb7_row8_col10 {\n",
              "  background-color: #eff654;\n",
              "  color: #000000;\n",
              "}\n",
              "#T_37bb7_row4_col12, #T_37bb7_row5_col9, #T_37bb7_row9_col5 {\n",
              "  background-color: #fe9600;\n",
              "  color: #000000;\n",
              "}\n",
              "#T_37bb7_row5_col1 {\n",
              "  background-color: #f7ee35;\n",
              "  color: #000000;\n",
              "}\n",
              "#T_37bb7_row5_col12 {\n",
              "  background-color: #fe9900;\n",
              "  color: #000000;\n",
              "}\n",
              "#T_37bb7_row5_col13 {\n",
              "  background-color: #e7fc6f;\n",
              "  color: #000000;\n",
              "}\n",
              "#T_37bb7_row6_col1 {\n",
              "  background-color: #f3f245;\n",
              "  color: #000000;\n",
              "}\n",
              "#T_37bb7_row6_col4, #T_37bb7_row8_col12, #T_37bb7_row8_col13, #T_37bb7_row10_col9, #T_37bb7_row10_col12, #T_37bb7_row11_col12 {\n",
              "  background-color: #ffc706;\n",
              "  color: #000000;\n",
              "}\n",
              "#T_37bb7_row6_col8 {\n",
              "  background-color: #eafa66;\n",
              "  color: #000000;\n",
              "}\n",
              "#T_37bb7_row6_col9 {\n",
              "  background-color: #ffc907;\n",
              "  color: #000000;\n",
              "}\n",
              "#T_37bb7_row6_col12 {\n",
              "  background-color: #ffc908;\n",
              "  color: #000000;\n",
              "}\n",
              "#T_37bb7_row6_col13 {\n",
              "  background-color: #ffb600;\n",
              "  color: #000000;\n",
              "}\n",
              "#T_37bb7_row7_col0 {\n",
              "  background-color: #e7fd71;\n",
              "  color: #000000;\n",
              "}\n",
              "#T_37bb7_row7_col9, #T_37bb7_row8_col9 {\n",
              "  background-color: #ffc606;\n",
              "  color: #000000;\n",
              "}\n",
              "#T_37bb7_row7_col10 {\n",
              "  background-color: #edf75a;\n",
              "  color: #000000;\n",
              "}\n",
              "#T_37bb7_row7_col11, #T_37bb7_row10_col0 {\n",
              "  background-color: #e5fe77;\n",
              "  color: #000000;\n",
              "}\n",
              "#T_37bb7_row7_col13 {\n",
              "  background-color: #ffd20d;\n",
              "  color: #000000;\n",
              "}\n",
              "#T_37bb7_row8_col1, #T_37bb7_row10_col1 {\n",
              "  background-color: #f4f141;\n",
              "  color: #000000;\n",
              "}\n",
              "#T_37bb7_row9_col3 {\n",
              "  background-color: #fe9100;\n",
              "  color: #000000;\n",
              "}\n",
              "#T_37bb7_row9_col4, #T_37bb7_row12_col3 {\n",
              "  background-color: #fe9300;\n",
              "  color: #000000;\n",
              "}\n",
              "#T_37bb7_row9_col8, #T_37bb7_row10_col8, #T_37bb7_row12_col8, #T_37bb7_row12_col13 {\n",
              "  background-color: #eafa63;\n",
              "  color: #000000;\n",
              "}\n",
              "#T_37bb7_row10_col13 {\n",
              "  background-color: #ffcc09;\n",
              "  color: #000000;\n",
              "}\n",
              "#T_37bb7_row11_col1 {\n",
              "  background-color: #f3f244;\n",
              "  color: #000000;\n",
              "}\n",
              "#T_37bb7_row11_col8 {\n",
              "  background-color: #ecf95f;\n",
              "  color: #000000;\n",
              "}\n",
              "#T_37bb7_row11_col10 {\n",
              "  background-color: #ebf960;\n",
              "  color: #000000;\n",
              "}\n",
              "#T_37bb7_row12_col0 {\n",
              "  background-color: #e6fd72;\n",
              "  color: #000000;\n",
              "}\n",
              "#T_37bb7_row12_col1 {\n",
              "  background-color: #ffd10c;\n",
              "  color: #000000;\n",
              "}\n",
              "#T_37bb7_row12_col4 {\n",
              "  background-color: #fe9500;\n",
              "  color: #000000;\n",
              "}\n",
              "#T_37bb7_row12_col5 {\n",
              "  background-color: #fe9800;\n",
              "  color: #000000;\n",
              "}\n",
              "#T_37bb7_row12_col10 {\n",
              "  background-color: #eff653;\n",
              "  color: #000000;\n",
              "}\n",
              "#T_37bb7_row13_col6 {\n",
              "  background-color: #ffb400;\n",
              "  color: #000000;\n",
              "}\n",
              "#T_37bb7_row13_col7 {\n",
              "  background-color: #ffcd0a;\n",
              "  color: #000000;\n",
              "}\n",
              "</style>\n",
              "<table id=\"T_37bb7_\" class=\"dataframe\">\n",
              "  <thead>\n",
              "    <tr>\n",
              "      <th class=\"blank level0\" >&nbsp;</th>\n",
              "      <th class=\"col_heading level0 col0\" >Id</th>\n",
              "      <th class=\"col_heading level0 col1\" >Area(total)</th>\n",
              "      <th class=\"col_heading level0 col2\" >Trooms</th>\n",
              "      <th class=\"col_heading level0 col3\" >Nbedrooms</th>\n",
              "      <th class=\"col_heading level0 col4\" >Nbwashrooms</th>\n",
              "      <th class=\"col_heading level0 col5\" >Twashrooms</th>\n",
              "      <th class=\"col_heading level0 col6\" >roof</th>\n",
              "      <th class=\"col_heading level0 col7\" >Roof(Area)</th>\n",
              "      <th class=\"col_heading level0 col8\" >Lawn(Area)</th>\n",
              "      <th class=\"col_heading level0 col9\" >Nfloors</th>\n",
              "      <th class=\"col_heading level0 col10\" >API</th>\n",
              "      <th class=\"col_heading level0 col11\" >ANB</th>\n",
              "      <th class=\"col_heading level0 col12\" >Expected price</th>\n",
              "      <th class=\"col_heading level0 col13\" >Grade</th>\n",
              "    </tr>\n",
              "  </thead>\n",
              "  <tbody>\n",
              "    <tr>\n",
              "      <th id=\"T_37bb7_level0_row0\" class=\"row_heading level0 row0\" >Id</th>\n",
              "      <td id=\"T_37bb7_row0_col0\" class=\"data row0 col0\" >1.000000</td>\n",
              "      <td id=\"T_37bb7_row0_col1\" class=\"data row0 col1\" >0.003186</td>\n",
              "      <td id=\"T_37bb7_row0_col2\" class=\"data row0 col2\" >0.003165</td>\n",
              "      <td id=\"T_37bb7_row0_col3\" class=\"data row0 col3\" >0.004814</td>\n",
              "      <td id=\"T_37bb7_row0_col4\" class=\"data row0 col4\" >0.003496</td>\n",
              "      <td id=\"T_37bb7_row0_col5\" class=\"data row0 col5\" >0.001092</td>\n",
              "      <td id=\"T_37bb7_row0_col6\" class=\"data row0 col6\" >-0.011059</td>\n",
              "      <td id=\"T_37bb7_row0_col7\" class=\"data row0 col7\" >0.013046</td>\n",
              "      <td id=\"T_37bb7_row0_col8\" class=\"data row0 col8\" >0.006309</td>\n",
              "      <td id=\"T_37bb7_row0_col9\" class=\"data row0 col9\" >-0.010939</td>\n",
              "      <td id=\"T_37bb7_row0_col10\" class=\"data row0 col10\" >-0.003739</td>\n",
              "      <td id=\"T_37bb7_row0_col11\" class=\"data row0 col11\" >-0.013219</td>\n",
              "      <td id=\"T_37bb7_row0_col12\" class=\"data row0 col12\" >0.009216</td>\n",
              "      <td id=\"T_37bb7_row0_col13\" class=\"data row0 col13\" >-0.006074</td>\n",
              "    </tr>\n",
              "    <tr>\n",
              "      <th id=\"T_37bb7_level0_row1\" class=\"row_heading level0 row1\" >Area(total)</th>\n",
              "      <td id=\"T_37bb7_row1_col0\" class=\"data row1 col0\" >0.003186</td>\n",
              "      <td id=\"T_37bb7_row1_col1\" class=\"data row1 col1\" >1.000000</td>\n",
              "      <td id=\"T_37bb7_row1_col2\" class=\"data row1 col2\" >0.019041</td>\n",
              "      <td id=\"T_37bb7_row1_col3\" class=\"data row1 col3\" >0.031328</td>\n",
              "      <td id=\"T_37bb7_row1_col4\" class=\"data row1 col4\" >0.031819</td>\n",
              "      <td id=\"T_37bb7_row1_col5\" class=\"data row1 col5\" >0.038509</td>\n",
              "      <td id=\"T_37bb7_row1_col6\" class=\"data row1 col6\" >-0.014229</td>\n",
              "      <td id=\"T_37bb7_row1_col7\" class=\"data row1 col7\" >0.017029</td>\n",
              "      <td id=\"T_37bb7_row1_col8\" class=\"data row1 col8\" >-0.002118</td>\n",
              "      <td id=\"T_37bb7_row1_col9\" class=\"data row1 col9\" >0.016819</td>\n",
              "      <td id=\"T_37bb7_row1_col10\" class=\"data row1 col10\" >-0.000182</td>\n",
              "      <td id=\"T_37bb7_row1_col11\" class=\"data row1 col11\" >-0.010846</td>\n",
              "      <td id=\"T_37bb7_row1_col12\" class=\"data row1 col12\" >0.274507</td>\n",
              "      <td id=\"T_37bb7_row1_col13\" class=\"data row1 col13\" >-0.177332</td>\n",
              "    </tr>\n",
              "    <tr>\n",
              "      <th id=\"T_37bb7_level0_row2\" class=\"row_heading level0 row2\" >Trooms</th>\n",
              "      <td id=\"T_37bb7_row2_col0\" class=\"data row2 col0\" >0.003165</td>\n",
              "      <td id=\"T_37bb7_row2_col1\" class=\"data row2 col1\" >0.019041</td>\n",
              "      <td id=\"T_37bb7_row2_col2\" class=\"data row2 col2\" >1.000000</td>\n",
              "      <td id=\"T_37bb7_row2_col3\" class=\"data row2 col3\" >0.865878</td>\n",
              "      <td id=\"T_37bb7_row2_col4\" class=\"data row2 col4\" >0.827072</td>\n",
              "      <td id=\"T_37bb7_row2_col5\" class=\"data row2 col5\" >0.794870</td>\n",
              "      <td id=\"T_37bb7_row2_col6\" class=\"data row2 col6\" >-0.025142</td>\n",
              "      <td id=\"T_37bb7_row2_col7\" class=\"data row2 col7\" >0.026550</td>\n",
              "      <td id=\"T_37bb7_row2_col8\" class=\"data row2 col8\" >0.009557</td>\n",
              "      <td id=\"T_37bb7_row2_col9\" class=\"data row2 col9\" >0.862367</td>\n",
              "      <td id=\"T_37bb7_row2_col10\" class=\"data row2 col10\" >0.007502</td>\n",
              "      <td id=\"T_37bb7_row2_col11\" class=\"data row2 col11\" >0.007321</td>\n",
              "      <td id=\"T_37bb7_row2_col12\" class=\"data row2 col12\" >0.820170</td>\n",
              "      <td id=\"T_37bb7_row2_col13\" class=\"data row2 col13\" >-0.875145</td>\n",
              "    </tr>\n",
              "    <tr>\n",
              "      <th id=\"T_37bb7_level0_row3\" class=\"row_heading level0 row3\" >Nbedrooms</th>\n",
              "      <td id=\"T_37bb7_row3_col0\" class=\"data row3 col0\" >0.004814</td>\n",
              "      <td id=\"T_37bb7_row3_col1\" class=\"data row3 col1\" >0.031328</td>\n",
              "      <td id=\"T_37bb7_row3_col2\" class=\"data row3 col2\" >0.865878</td>\n",
              "      <td id=\"T_37bb7_row3_col3\" class=\"data row3 col3\" >1.000000</td>\n",
              "      <td id=\"T_37bb7_row3_col4\" class=\"data row3 col4\" >0.956578</td>\n",
              "      <td id=\"T_37bb7_row3_col5\" class=\"data row3 col5\" >0.919158</td>\n",
              "      <td id=\"T_37bb7_row3_col6\" class=\"data row3 col6\" >-0.023058</td>\n",
              "      <td id=\"T_37bb7_row3_col7\" class=\"data row3 col7\" >0.025073</td>\n",
              "      <td id=\"T_37bb7_row3_col8\" class=\"data row3 col8\" >0.000054</td>\n",
              "      <td id=\"T_37bb7_row3_col9\" class=\"data row3 col9\" >0.742132</td>\n",
              "      <td id=\"T_37bb7_row3_col10\" class=\"data row3 col10\" >0.002820</td>\n",
              "      <td id=\"T_37bb7_row3_col11\" class=\"data row3 col11\" >0.015403</td>\n",
              "      <td id=\"T_37bb7_row3_col12\" class=\"data row3 col12\" >0.715687</td>\n",
              "      <td id=\"T_37bb7_row3_col13\" class=\"data row3 col13\" >-0.865389</td>\n",
              "    </tr>\n",
              "    <tr>\n",
              "      <th id=\"T_37bb7_level0_row4\" class=\"row_heading level0 row4\" >Nbwashrooms</th>\n",
              "      <td id=\"T_37bb7_row4_col0\" class=\"data row4 col0\" >0.003496</td>\n",
              "      <td id=\"T_37bb7_row4_col1\" class=\"data row4 col1\" >0.031819</td>\n",
              "      <td id=\"T_37bb7_row4_col2\" class=\"data row4 col2\" >0.827072</td>\n",
              "      <td id=\"T_37bb7_row4_col3\" class=\"data row4 col3\" >0.956578</td>\n",
              "      <td id=\"T_37bb7_row4_col4\" class=\"data row4 col4\" >1.000000</td>\n",
              "      <td id=\"T_37bb7_row4_col5\" class=\"data row4 col5\" >0.960007</td>\n",
              "      <td id=\"T_37bb7_row4_col6\" class=\"data row4 col6\" >-0.028549</td>\n",
              "      <td id=\"T_37bb7_row4_col7\" class=\"data row4 col7\" >0.028832</td>\n",
              "      <td id=\"T_37bb7_row4_col8\" class=\"data row4 col8\" >0.006617</td>\n",
              "      <td id=\"T_37bb7_row4_col9\" class=\"data row4 col9\" >0.711936</td>\n",
              "      <td id=\"T_37bb7_row4_col10\" class=\"data row4 col10\" >0.011413</td>\n",
              "      <td id=\"T_37bb7_row4_col11\" class=\"data row4 col11\" >0.008475</td>\n",
              "      <td id=\"T_37bb7_row4_col12\" class=\"data row4 col12\" >0.683659</td>\n",
              "      <td id=\"T_37bb7_row4_col13\" class=\"data row4 col13\" >-0.847319</td>\n",
              "    </tr>\n",
              "    <tr>\n",
              "      <th id=\"T_37bb7_level0_row5\" class=\"row_heading level0 row5\" >Twashrooms</th>\n",
              "      <td id=\"T_37bb7_row5_col0\" class=\"data row5 col0\" >0.001092</td>\n",
              "      <td id=\"T_37bb7_row5_col1\" class=\"data row5 col1\" >0.038509</td>\n",
              "      <td id=\"T_37bb7_row5_col2\" class=\"data row5 col2\" >0.794870</td>\n",
              "      <td id=\"T_37bb7_row5_col3\" class=\"data row5 col3\" >0.919158</td>\n",
              "      <td id=\"T_37bb7_row5_col4\" class=\"data row5 col4\" >0.960007</td>\n",
              "      <td id=\"T_37bb7_row5_col5\" class=\"data row5 col5\" >1.000000</td>\n",
              "      <td id=\"T_37bb7_row5_col6\" class=\"data row5 col6\" >-0.028212</td>\n",
              "      <td id=\"T_37bb7_row5_col7\" class=\"data row5 col7\" >0.028763</td>\n",
              "      <td id=\"T_37bb7_row5_col8\" class=\"data row5 col8\" >0.008386</td>\n",
              "      <td id=\"T_37bb7_row5_col9\" class=\"data row5 col9\" >0.684966</td>\n",
              "      <td id=\"T_37bb7_row5_col10\" class=\"data row5 col10\" >0.012361</td>\n",
              "      <td id=\"T_37bb7_row5_col11\" class=\"data row5 col11\" >0.016492</td>\n",
              "      <td id=\"T_37bb7_row5_col12\" class=\"data row5 col12\" >0.654627</td>\n",
              "      <td id=\"T_37bb7_row5_col13\" class=\"data row5 col13\" >-0.819280</td>\n",
              "    </tr>\n",
              "    <tr>\n",
              "      <th id=\"T_37bb7_level0_row6\" class=\"row_heading level0 row6\" >roof</th>\n",
              "      <td id=\"T_37bb7_row6_col0\" class=\"data row6 col0\" >-0.011059</td>\n",
              "      <td id=\"T_37bb7_row6_col1\" class=\"data row6 col1\" >-0.014229</td>\n",
              "      <td id=\"T_37bb7_row6_col2\" class=\"data row6 col2\" >-0.025142</td>\n",
              "      <td id=\"T_37bb7_row6_col3\" class=\"data row6 col3\" >-0.023058</td>\n",
              "      <td id=\"T_37bb7_row6_col4\" class=\"data row6 col4\" >-0.028549</td>\n",
              "      <td id=\"T_37bb7_row6_col5\" class=\"data row6 col5\" >-0.028212</td>\n",
              "      <td id=\"T_37bb7_row6_col6\" class=\"data row6 col6\" >1.000000</td>\n",
              "      <td id=\"T_37bb7_row6_col7\" class=\"data row6 col7\" >-0.976561</td>\n",
              "      <td id=\"T_37bb7_row6_col8\" class=\"data row6 col8\" >0.004640</td>\n",
              "      <td id=\"T_37bb7_row6_col9\" class=\"data row6 col9\" >-0.014985</td>\n",
              "      <td id=\"T_37bb7_row6_col10\" class=\"data row6 col10\" >0.007983</td>\n",
              "      <td id=\"T_37bb7_row6_col11\" class=\"data row6 col11\" >0.020511</td>\n",
              "      <td id=\"T_37bb7_row6_col12\" class=\"data row6 col12\" >-0.007880</td>\n",
              "      <td id=\"T_37bb7_row6_col13\" class=\"data row6 col13\" >0.166635</td>\n",
              "    </tr>\n",
              "    <tr>\n",
              "      <th id=\"T_37bb7_level0_row7\" class=\"row_heading level0 row7\" >Roof(Area)</th>\n",
              "      <td id=\"T_37bb7_row7_col0\" class=\"data row7 col0\" >0.013046</td>\n",
              "      <td id=\"T_37bb7_row7_col1\" class=\"data row7 col1\" >0.017029</td>\n",
              "      <td id=\"T_37bb7_row7_col2\" class=\"data row7 col2\" >0.026550</td>\n",
              "      <td id=\"T_37bb7_row7_col3\" class=\"data row7 col3\" >0.025073</td>\n",
              "      <td id=\"T_37bb7_row7_col4\" class=\"data row7 col4\" >0.028832</td>\n",
              "      <td id=\"T_37bb7_row7_col5\" class=\"data row7 col5\" >0.028763</td>\n",
              "      <td id=\"T_37bb7_row7_col6\" class=\"data row7 col6\" >-0.976561</td>\n",
              "      <td id=\"T_37bb7_row7_col7\" class=\"data row7 col7\" >1.000000</td>\n",
              "      <td id=\"T_37bb7_row7_col8\" class=\"data row7 col8\" >-0.006831</td>\n",
              "      <td id=\"T_37bb7_row7_col9\" class=\"data row7 col9\" >0.013840</td>\n",
              "      <td id=\"T_37bb7_row7_col10\" class=\"data row7 col10\" >-0.006331</td>\n",
              "      <td id=\"T_37bb7_row7_col11\" class=\"data row7 col11\" >-0.015529</td>\n",
              "      <td id=\"T_37bb7_row7_col12\" class=\"data row7 col12\" >0.009346</td>\n",
              "      <td id=\"T_37bb7_row7_col13\" class=\"data row7 col13\" >-0.170259</td>\n",
              "    </tr>\n",
              "    <tr>\n",
              "      <th id=\"T_37bb7_level0_row8\" class=\"row_heading level0 row8\" >Lawn(Area)</th>\n",
              "      <td id=\"T_37bb7_row8_col0\" class=\"data row8 col0\" >0.006309</td>\n",
              "      <td id=\"T_37bb7_row8_col1\" class=\"data row8 col1\" >-0.002118</td>\n",
              "      <td id=\"T_37bb7_row8_col2\" class=\"data row8 col2\" >0.009557</td>\n",
              "      <td id=\"T_37bb7_row8_col3\" class=\"data row8 col3\" >0.000054</td>\n",
              "      <td id=\"T_37bb7_row8_col4\" class=\"data row8 col4\" >0.006617</td>\n",
              "      <td id=\"T_37bb7_row8_col5\" class=\"data row8 col5\" >0.008386</td>\n",
              "      <td id=\"T_37bb7_row8_col6\" class=\"data row8 col6\" >0.004640</td>\n",
              "      <td id=\"T_37bb7_row8_col7\" class=\"data row8 col7\" >-0.006831</td>\n",
              "      <td id=\"T_37bb7_row8_col8\" class=\"data row8 col8\" >1.000000</td>\n",
              "      <td id=\"T_37bb7_row8_col9\" class=\"data row8 col9\" >0.013771</td>\n",
              "      <td id=\"T_37bb7_row8_col10\" class=\"data row8 col10\" >0.011477</td>\n",
              "      <td id=\"T_37bb7_row8_col11\" class=\"data row8 col11\" >0.025751</td>\n",
              "      <td id=\"T_37bb7_row8_col12\" class=\"data row8 col12\" >0.011561</td>\n",
              "      <td id=\"T_37bb7_row8_col13\" class=\"data row8 col13\" >-0.051200</td>\n",
              "    </tr>\n",
              "    <tr>\n",
              "      <th id=\"T_37bb7_level0_row9\" class=\"row_heading level0 row9\" >Nfloors</th>\n",
              "      <td id=\"T_37bb7_row9_col0\" class=\"data row9 col0\" >-0.010939</td>\n",
              "      <td id=\"T_37bb7_row9_col1\" class=\"data row9 col1\" >0.016819</td>\n",
              "      <td id=\"T_37bb7_row9_col2\" class=\"data row9 col2\" >0.862367</td>\n",
              "      <td id=\"T_37bb7_row9_col3\" class=\"data row9 col3\" >0.742132</td>\n",
              "      <td id=\"T_37bb7_row9_col4\" class=\"data row9 col4\" >0.711936</td>\n",
              "      <td id=\"T_37bb7_row9_col5\" class=\"data row9 col5\" >0.684966</td>\n",
              "      <td id=\"T_37bb7_row9_col6\" class=\"data row9 col6\" >-0.014985</td>\n",
              "      <td id=\"T_37bb7_row9_col7\" class=\"data row9 col7\" >0.013840</td>\n",
              "      <td id=\"T_37bb7_row9_col8\" class=\"data row9 col8\" >0.013771</td>\n",
              "      <td id=\"T_37bb7_row9_col9\" class=\"data row9 col9\" >1.000000</td>\n",
              "      <td id=\"T_37bb7_row9_col10\" class=\"data row9 col10\" >-0.002255</td>\n",
              "      <td id=\"T_37bb7_row9_col11\" class=\"data row9 col11\" >0.020614</td>\n",
              "      <td id=\"T_37bb7_row9_col12\" class=\"data row9 col12\" >0.714598</td>\n",
              "      <td id=\"T_37bb7_row9_col13\" class=\"data row9 col13\" >-0.787623</td>\n",
              "    </tr>\n",
              "    <tr>\n",
              "      <th id=\"T_37bb7_level0_row10\" class=\"row_heading level0 row10\" >API</th>\n",
              "      <td id=\"T_37bb7_row10_col0\" class=\"data row10 col0\" >-0.003739</td>\n",
              "      <td id=\"T_37bb7_row10_col1\" class=\"data row10 col1\" >-0.000182</td>\n",
              "      <td id=\"T_37bb7_row10_col2\" class=\"data row10 col2\" >0.007502</td>\n",
              "      <td id=\"T_37bb7_row10_col3\" class=\"data row10 col3\" >0.002820</td>\n",
              "      <td id=\"T_37bb7_row10_col4\" class=\"data row10 col4\" >0.011413</td>\n",
              "      <td id=\"T_37bb7_row10_col5\" class=\"data row10 col5\" >0.012361</td>\n",
              "      <td id=\"T_37bb7_row10_col6\" class=\"data row10 col6\" >0.007983</td>\n",
              "      <td id=\"T_37bb7_row10_col7\" class=\"data row10 col7\" >-0.006331</td>\n",
              "      <td id=\"T_37bb7_row10_col8\" class=\"data row10 col8\" >0.011477</td>\n",
              "      <td id=\"T_37bb7_row10_col9\" class=\"data row10 col9\" >-0.002255</td>\n",
              "      <td id=\"T_37bb7_row10_col10\" class=\"data row10 col10\" >1.000000</td>\n",
              "      <td id=\"T_37bb7_row10_col11\" class=\"data row10 col11\" >-0.025694</td>\n",
              "      <td id=\"T_37bb7_row10_col12\" class=\"data row10 col12\" >0.016575</td>\n",
              "      <td id=\"T_37bb7_row10_col13\" class=\"data row10 col13\" >-0.099000</td>\n",
              "    </tr>\n",
              "    <tr>\n",
              "      <th id=\"T_37bb7_level0_row11\" class=\"row_heading level0 row11\" >ANB</th>\n",
              "      <td id=\"T_37bb7_row11_col0\" class=\"data row11 col0\" >-0.013219</td>\n",
              "      <td id=\"T_37bb7_row11_col1\" class=\"data row11 col1\" >-0.010846</td>\n",
              "      <td id=\"T_37bb7_row11_col2\" class=\"data row11 col2\" >0.007321</td>\n",
              "      <td id=\"T_37bb7_row11_col3\" class=\"data row11 col3\" >0.015403</td>\n",
              "      <td id=\"T_37bb7_row11_col4\" class=\"data row11 col4\" >0.008475</td>\n",
              "      <td id=\"T_37bb7_row11_col5\" class=\"data row11 col5\" >0.016492</td>\n",
              "      <td id=\"T_37bb7_row11_col6\" class=\"data row11 col6\" >0.020511</td>\n",
              "      <td id=\"T_37bb7_row11_col7\" class=\"data row11 col7\" >-0.015529</td>\n",
              "      <td id=\"T_37bb7_row11_col8\" class=\"data row11 col8\" >0.025751</td>\n",
              "      <td id=\"T_37bb7_row11_col9\" class=\"data row11 col9\" >0.020614</td>\n",
              "      <td id=\"T_37bb7_row11_col10\" class=\"data row11 col10\" >-0.025694</td>\n",
              "      <td id=\"T_37bb7_row11_col11\" class=\"data row11 col11\" >1.000000</td>\n",
              "      <td id=\"T_37bb7_row11_col12\" class=\"data row11 col12\" >0.015583</td>\n",
              "      <td id=\"T_37bb7_row11_col13\" class=\"data row11 col13\" >-0.024025</td>\n",
              "    </tr>\n",
              "    <tr>\n",
              "      <th id=\"T_37bb7_level0_row12\" class=\"row_heading level0 row12\" >Expected price</th>\n",
              "      <td id=\"T_37bb7_row12_col0\" class=\"data row12 col0\" >0.009216</td>\n",
              "      <td id=\"T_37bb7_row12_col1\" class=\"data row12 col1\" >0.274507</td>\n",
              "      <td id=\"T_37bb7_row12_col2\" class=\"data row12 col2\" >0.820170</td>\n",
              "      <td id=\"T_37bb7_row12_col3\" class=\"data row12 col3\" >0.715687</td>\n",
              "      <td id=\"T_37bb7_row12_col4\" class=\"data row12 col4\" >0.683659</td>\n",
              "      <td id=\"T_37bb7_row12_col5\" class=\"data row12 col5\" >0.654627</td>\n",
              "      <td id=\"T_37bb7_row12_col6\" class=\"data row12 col6\" >-0.007880</td>\n",
              "      <td id=\"T_37bb7_row12_col7\" class=\"data row12 col7\" >0.009346</td>\n",
              "      <td id=\"T_37bb7_row12_col8\" class=\"data row12 col8\" >0.011561</td>\n",
              "      <td id=\"T_37bb7_row12_col9\" class=\"data row12 col9\" >0.714598</td>\n",
              "      <td id=\"T_37bb7_row12_col10\" class=\"data row12 col10\" >0.016575</td>\n",
              "      <td id=\"T_37bb7_row12_col11\" class=\"data row12 col11\" >0.015583</td>\n",
              "      <td id=\"T_37bb7_row12_col12\" class=\"data row12 col12\" >1.000000</td>\n",
              "      <td id=\"T_37bb7_row12_col13\" class=\"data row12 col13\" >-0.760820</td>\n",
              "    </tr>\n",
              "    <tr>\n",
              "      <th id=\"T_37bb7_level0_row13\" class=\"row_heading level0 row13\" >Grade</th>\n",
              "      <td id=\"T_37bb7_row13_col0\" class=\"data row13 col0\" >-0.006074</td>\n",
              "      <td id=\"T_37bb7_row13_col1\" class=\"data row13 col1\" >-0.177332</td>\n",
              "      <td id=\"T_37bb7_row13_col2\" class=\"data row13 col2\" >-0.875145</td>\n",
              "      <td id=\"T_37bb7_row13_col3\" class=\"data row13 col3\" >-0.865389</td>\n",
              "      <td id=\"T_37bb7_row13_col4\" class=\"data row13 col4\" >-0.847319</td>\n",
              "      <td id=\"T_37bb7_row13_col5\" class=\"data row13 col5\" >-0.819280</td>\n",
              "      <td id=\"T_37bb7_row13_col6\" class=\"data row13 col6\" >0.166635</td>\n",
              "      <td id=\"T_37bb7_row13_col7\" class=\"data row13 col7\" >-0.170259</td>\n",
              "      <td id=\"T_37bb7_row13_col8\" class=\"data row13 col8\" >-0.051200</td>\n",
              "      <td id=\"T_37bb7_row13_col9\" class=\"data row13 col9\" >-0.787623</td>\n",
              "      <td id=\"T_37bb7_row13_col10\" class=\"data row13 col10\" >-0.099000</td>\n",
              "      <td id=\"T_37bb7_row13_col11\" class=\"data row13 col11\" >-0.024025</td>\n",
              "      <td id=\"T_37bb7_row13_col12\" class=\"data row13 col12\" >-0.760820</td>\n",
              "      <td id=\"T_37bb7_row13_col13\" class=\"data row13 col13\" >1.000000</td>\n",
              "    </tr>\n",
              "  </tbody>\n",
              "</table>\n"
            ]
          },
          "metadata": {},
          "execution_count": 31
        }
      ]
    },
    {
      "cell_type": "code",
      "source": [
        "#SELECTING BEST FEATURE BASED ON THERE CORRELATION VALUE GREATER THAN 0.1\n",
        "best_feature = []\n",
        "for i in df1:\n",
        "  if abs(df1[i].corr(data_scaled['Grade']))>=0.5:\n",
        "    best_feature.append(i) \n",
        "best_feature"
      ],
      "metadata": {
        "colab": {
          "base_uri": "https://localhost:8080/"
        },
        "id": "fl-oTMbX4D-6",
        "outputId": "390f0ea7-d611-4952-8718-f754f5f444bb"
      },
      "execution_count": 32,
      "outputs": [
        {
          "output_type": "execute_result",
          "data": {
            "text/plain": [
              "['Trooms',\n",
              " 'Nbedrooms',\n",
              " 'Nbwashrooms',\n",
              " 'Twashrooms',\n",
              " 'Nfloors',\n",
              " 'Expected price',\n",
              " 'Grade']"
            ]
          },
          "metadata": {},
          "execution_count": 32
        }
      ]
    },
    {
      "cell_type": "markdown",
      "source": [
        "## Data Visualization"
      ],
      "metadata": {
        "id": "rvMcgvhA5j1U"
      }
    },
    {
      "cell_type": "code",
      "source": [
        "plt.figure(figsize=(20,15))\n",
        "# dist of total area\n",
        "plt.subplot(2,2,1)\n",
        "sns.distplot(df1['Area(total)'], color='red')\n",
        "# dist of Expected price\n",
        "plt.subplot(2,2,2)\n",
        "sns.distplot(df1['Expected price'], color='green')\n",
        "# count of roof houses\n",
        "plt.subplot(2,2,3)\n",
        "sns.countplot(house['roof'], palette='Reds')\n",
        "# count of roof houses\n",
        "plt.subplot(2,2,4)\n",
        "sns.countplot(house['Grade'], palette='hot_r')"
      ],
      "metadata": {
        "colab": {
          "base_uri": "https://localhost:8080/",
          "height": 920
        },
        "id": "55GodAqY5Vps",
        "outputId": "b6e56826-7ea4-4f22-82ce-12768d359d79"
      },
      "execution_count": 33,
      "outputs": [
        {
          "output_type": "execute_result",
          "data": {
            "text/plain": [
              "<matplotlib.axes._subplots.AxesSubplot at 0x7f2cb8ccf550>"
            ]
          },
          "metadata": {},
          "execution_count": 33
        },
        {
          "output_type": "display_data",
          "data": {
            "text/plain": [
              "<Figure size 1440x1080 with 4 Axes>"
            ],
            "image/png": "[encoded data removed]"
          },
          "metadata": {}
        }
      ]
    },
    {
      "cell_type": "markdown",
      "source": [
        "\n",
        "\n",
        "1.   Most of a houses having area between 320-360 mm2\n",
        "2.   Expected prices are normally distributed\n",
        "3.   Most of houses having roof.\n",
        "4.   Most of house are in D grade.\n",
        "\n"
      ],
      "metadata": {
        "id": "uoCJigS18SZW"
      }
    },
    {
      "cell_type": "markdown",
      "source": [
        "## Splitting the data "
      ],
      "metadata": {
        "id": "q7R7ItRmldHo"
      }
    },
    {
      "cell_type": "code",
      "source": [
        "df_scaled = data_scaled[['Trooms', 'Nbedrooms', 'Twashrooms', 'Nfloors', 'Expected price']]\n",
        "df_grade = df1[['Grade']]\n",
        "df = pd.concat([df_scaled, df_grade], axis=1)\n",
        "df.head()"
      ],
      "metadata": {
        "colab": {
          "base_uri": "https://localhost:8080/",
          "height": 206
        },
        "id": "NGKt9fljXBtk",
        "outputId": "22feb388-4001-441a-f9bd-7534f7e988d9"
      },
      "execution_count": 88,
      "outputs": [
        {
          "output_type": "execute_result",
          "data": {
            "text/plain": [
              "   Trooms  Nbedrooms  Twashrooms   Nfloors  Expected price  Grade\n",
              "0    0.25   0.500000       0.500  0.166667        0.360251      3\n",
              "1    0.00   0.333333       0.250  0.333333        0.370944      3\n",
              "2    0.50   0.500000       0.375  0.666667        0.458702      2\n",
              "3    0.25   0.333333       0.375  0.166667        0.232301      3\n",
              "4    0.50   0.333333       0.375  0.333333        0.493732      3"
            ],
            "text/html": [
              "\n",
              "  <div id=\"df-4c0f4fba-ef32-40c8-b7c1-64b187190e1b\">\n",
              "    <div class=\"colab-df-container\">\n",
              "      <div>\n",
              "<style scoped>\n",
              "    .dataframe tbody tr th:only-of-type {\n",
              "        vertical-align: middle;\n",
              "    }\n",
              "\n",
              "    .dataframe tbody tr th {\n",
              "        vertical-align: top;\n",
              "    }\n",
              "\n",
              "    .dataframe thead th {\n",
              "        text-align: right;\n",
              "    }\n",
              "</style>\n",
              "<table border=\"1\" class=\"dataframe\">\n",
              "  <thead>\n",
              "    <tr style=\"text-align: right;\">\n",
              "      <th></th>\n",
              "      <th>Trooms</th>\n",
              "      <th>Nbedrooms</th>\n",
              "      <th>Twashrooms</th>\n",
              "      <th>Nfloors</th>\n",
              "      <th>Expected price</th>\n",
              "      <th>Grade</th>\n",
              "    </tr>\n",
              "  </thead>\n",
              "  <tbody>\n",
              "    <tr>\n",
              "      <th>0</th>\n",
              "      <td>0.25</td>\n",
              "      <td>0.500000</td>\n",
              "      <td>0.500</td>\n",
              "      <td>0.166667</td>\n",
              "      <td>0.360251</td>\n",
              "      <td>3</td>\n",
              "    </tr>\n",
              "    <tr>\n",
              "      <th>1</th>\n",
              "      <td>0.00</td>\n",
              "      <td>0.333333</td>\n",
              "      <td>0.250</td>\n",
              "      <td>0.333333</td>\n",
              "      <td>0.370944</td>\n",
              "      <td>3</td>\n",
              "    </tr>\n",
              "    <tr>\n",
              "      <th>2</th>\n",
              "      <td>0.50</td>\n",
              "      <td>0.500000</td>\n",
              "      <td>0.375</td>\n",
              "      <td>0.666667</td>\n",
              "      <td>0.458702</td>\n",
              "      <td>2</td>\n",
              "    </tr>\n",
              "    <tr>\n",
              "      <th>3</th>\n",
              "      <td>0.25</td>\n",
              "      <td>0.333333</td>\n",
              "      <td>0.375</td>\n",
              "      <td>0.166667</td>\n",
              "      <td>0.232301</td>\n",
              "      <td>3</td>\n",
              "    </tr>\n",
              "    <tr>\n",
              "      <th>4</th>\n",
              "      <td>0.50</td>\n",
              "      <td>0.333333</td>\n",
              "      <td>0.375</td>\n",
              "      <td>0.333333</td>\n",
              "      <td>0.493732</td>\n",
              "      <td>3</td>\n",
              "    </tr>\n",
              "  </tbody>\n",
              "</table>\n",
              "</div>\n",
              "      <button class=\"colab-df-convert\" onclick=\"convertToInteractive('df-4c0f4fba-ef32-40c8-b7c1-64b187190e1b')\"\n",
              "              title=\"Convert this dataframe to an interactive table.\"\n",
              "              style=\"display:none;\">\n",
              "        \n",
              "  <svg xmlns=\"http://www.w3.org/2000/svg\" height=\"24px\"viewBox=\"0 0 24 24\"\n",
              "       width=\"24px\">\n",
              "    <path d=\"M0 0h24v24H0V0z\" fill=\"none\"/>\n",
              "    <path d=\"M18.56 5.44l.94 2.06.94-2.06 2.06-.94-2.06-.94-.94-2.06-.94 2.06-2.06.94zm-11 1L8.5 8.5l.94-2.06 2.06-.94-2.06-.94L8.5 2.5l-.94 2.06-2.06.94zm10 10l.94 2.06.94-2.06 2.06-.94-2.06-.94-.94-2.06-.94 2.06-2.06.94z\"/><path d=\"M17.41 7.96l-1.37-1.37c-.4-.4-.92-.59-1.43-.59-.52 0-1.04.2-1.43.59L10.3 9.45l-7.72 7.72c-.78.78-.78 2.05 0 2.83L4 21.41c.39.39.9.59 1.41.59.51 0 1.02-.2 1.41-.59l7.78-7.78 2.81-2.81c.8-.78.8-2.07 0-2.86zM5.41 20L4 18.59l7.72-7.72 1.47 1.35L5.41 20z\"/>\n",
              "  </svg>\n",
              "      </button>\n",
              "      \n",
              "  <style>\n",
              "    .colab-df-container {\n",
              "      display:flex;\n",
              "      flex-wrap:wrap;\n",
              "      gap: 12px;\n",
              "    }\n",
              "\n",
              "    .colab-df-convert {\n",
              "      background-color: #E8F0FE;\n",
              "      border: none;\n",
              "      border-radius: 50%;\n",
              "      cursor: pointer;\n",
              "      display: none;\n",
              "      fill: #1967D2;\n",
              "      height: 32px;\n",
              "      padding: 0 0 0 0;\n",
              "      width: 32px;\n",
              "    }\n",
              "\n",
              "    .colab-df-convert:hover {\n",
              "      background-color: #E2EBFA;\n",
              "      box-shadow: 0px 1px 2px rgba(60, 64, 67, 0.3), 0px 1px 3px 1px rgba(60, 64, 67, 0.15);\n",
              "      fill: #174EA6;\n",
              "    }\n",
              "\n",
              "    [theme=dark] .colab-df-convert {\n",
              "      background-color: #3B4455;\n",
              "      fill: #D2E3FC;\n",
              "    }\n",
              "\n",
              "    [theme=dark] .colab-df-convert:hover {\n",
              "      background-color: #434B5C;\n",
              "      box-shadow: 0px 1px 3px 1px rgba(0, 0, 0, 0.15);\n",
              "      filter: drop-shadow(0px 1px 2px rgba(0, 0, 0, 0.3));\n",
              "      fill: #FFFFFF;\n",
              "    }\n",
              "  </style>\n",
              "\n",
              "      <script>\n",
              "        const buttonEl =\n",
              "          document.querySelector('#df-4c0f4fba-ef32-40c8-b7c1-64b187190e1b button.colab-df-convert');\n",
              "        buttonEl.style.display =\n",
              "          google.colab.kernel.accessAllowed ? 'block' : 'none';\n",
              "\n",
              "        async function convertToInteractive(key) {\n",
              "          const element = document.querySelector('#df-4c0f4fba-ef32-40c8-b7c1-64b187190e1b');\n",
              "          const dataTable =\n",
              "            await google.colab.kernel.invokeFunction('convertToInteractive',\n",
              "                                                     [key], {});\n",
              "          if (!dataTable) return;\n",
              "\n",
              "          const docLinkHtml = 'Like what you see? Visit the ' +\n",
              "            '<a target=\"_blank\" href=https://colab.research.google.com/notebooks/data_table.ipynb>data table notebook</a>'\n",
              "            + ' to learn more about interactive tables.';\n",
              "          element.innerHTML = '';\n",
              "          dataTable['output_type'] = 'display_data';\n",
              "          await google.colab.output.renderOutput(dataTable, element);\n",
              "          const docLink = document.createElement('div');\n",
              "          docLink.innerHTML = docLinkHtml;\n",
              "          element.appendChild(docLink);\n",
              "        }\n",
              "      </script>\n",
              "    </div>\n",
              "  </div>\n",
              "  "
            ]
          },
          "metadata": {},
          "execution_count": 88
        }
      ]
    },
    {
      "cell_type": "code",
      "source": [
        "# Creating test and training datasets\n",
        "df_train, df_test = train_test_split(df,train_size = 0.8)\n",
        "\n",
        "# specifying x and y\n",
        "X_train = df_train.drop(columns='Grade', axis =1)\n",
        "Y_train = df_train['Grade']\n",
        "X_test = df_test.drop(columns='Grade', axis =1)\n",
        "Y_test = df_test['Grade']"
      ],
      "metadata": {
        "id": "PXMG5eZRW5BJ"
      },
      "execution_count": 70,
      "outputs": []
    },
    {
      "cell_type": "code",
      "source": [
        "# creating function to build model and to evaluate it\n",
        "def MODEL(model, X_train, Y_train, X_test, Y_test):\n",
        "    cv = RepeatedStratifiedKFold(n_splits=10, n_repeats=3, random_state=1)\n",
        "    acc = cross_val_score(model, X_train, Y_train, cv=cv, n_jobs=-1, error_score='raise')\n",
        "    pre = cross_val_score(model, X_train, Y_train, scoring='precision_weighted', cv=cv, n_jobs=-1, error_score='raise')\n",
        "    rec = cross_val_score(model, X_train, Y_train, scoring='recall_weighted', cv=cv, n_jobs=-1, error_score='raise')\n",
        "    f1 = cross_val_score(model, X_train, Y_train, scoring='f1_weighted', cv=cv, n_jobs=-1, error_score='raise')\n",
        "\n",
        "    clf = model.fit(X_train,Y_train)\n",
        "    Y_pred = clf.predict(X_test)\n",
        "    \n",
        "    print('Accuaracy-Score: {} %'.format(round(mean(acc)*100,2)))\n",
        "    print('Precision-Score: {} %'.format(round(mean(pre)*100,2)))\n",
        "    print('Recall-Score: {} %'.format(round(mean(rec)*100,2)))\n",
        "    print('F1-Score: {} %'.format(round(mean(f1)*100,2)))\n",
        "    print('Confusion Matrix :\\n',confusion_matrix(Y_test,Y_pred))\n",
        "    cm= confusion_matrix(Y_test,Y_pred)\n",
        "    cm_display = metrics.ConfusionMatrixDisplay(cm)\n",
        "    cm_display.plot()\n",
        "    plt.show()"
      ],
      "metadata": {
        "id": "GoPqGazuQ0fC"
      },
      "execution_count": 89,
      "outputs": []
    },
    {
      "cell_type": "markdown",
      "source": [
        "## Applying logistic Regressor"
      ],
      "metadata": {
        "id": "k3D0ba7lM_AX"
      }
    },
    {
      "cell_type": "code",
      "source": [
        "MODEL(LogisticRegression(), X_train, Y_train, X_test, Y_test)"
      ],
      "metadata": {
        "id": "4awSnQrQR5xH"
      },
      "execution_count": null,
      "outputs": []
    },
    {
      "cell_type": "markdown",
      "source": [
        "Logistic regression model is giving 80% accuracy"
      ],
      "metadata": {
        "id": "RKpQMEIXO-p6"
      }
    },
    {
      "cell_type": "markdown",
      "source": [
        "## Applying Decission tree classifier"
      ],
      "metadata": {
        "id": "lodK5eEpbtRH"
      }
    },
    {
      "cell_type": "code",
      "source": [
        "MODEL(DecisionTreeClassifier(), X_train, Y_train, X_test, Y_test)"
      ],
      "metadata": {
        "colab": {
          "base_uri": "https://localhost:8080/",
          "height": 462
        },
        "id": "8j8i0W4EbQGd",
        "outputId": "1aa43e47-0b1b-4267-ddc5-d2eb63a814d8"
      },
      "execution_count": 74,
      "outputs": [
        {
          "output_type": "stream",
          "name": "stdout",
          "text": [
            "Accuaracy-Score: 69.14 %\n",
            "Precision-Score: 69.5 %\n",
            "Recall-Score: 69.42 %\n",
            "F1-Score: 69.24 %\n",
            "Confusion Matrix :\n",
            " [[ 73  14   1   0   0]\n",
            " [ 15  78  18   0   0]\n",
            " [  1  18  92  23   0]\n",
            " [  0   0  33 201  20]\n",
            " [  0   0   0  11   2]]\n"
          ]
        },
        {
          "output_type": "display_data",
          "data": {
            "text/plain": [
              "<Figure size 432x288 with 2 Axes>"
            ],
            "image/png": "[encoded data removed]"
          },
          "metadata": {}
        }
      ]
    },
    {
      "cell_type": "markdown",
      "source": [
        "Decission tree classifier giving 70% accuracy."
      ],
      "metadata": {
        "id": "bqXelbBJb32M"
      }
    },
    {
      "cell_type": "markdown",
      "source": [
        "## Applying Random Forest Classifier"
      ],
      "metadata": {
        "id": "bOXdeY7ZcFLb"
      }
    },
    {
      "cell_type": "code",
      "source": [
        "MODEL(RandomForestClassifier(), X_train, Y_train, X_test, Y_test)"
      ],
      "metadata": {
        "colab": {
          "base_uri": "https://localhost:8080/",
          "height": 459
        },
        "id": "bOVz0Av7bQDA",
        "outputId": "5e382fc9-d862-47b9-b1f5-af25283622d9"
      },
      "execution_count": 77,
      "outputs": [
        {
          "output_type": "stream",
          "name": "stdout",
          "text": [
            "Accuaracy-Score: 72.54 %\n",
            "Precision-Score: 72.09 %\n",
            "Recall-Score: 72.64 %\n",
            "F1-Score: 72.09 %\n",
            "Confusion Matrix :\n",
            " [[ 72  16   0   0   0]\n",
            " [ 13  84  13   1   0]\n",
            " [  1  14  93  26   0]\n",
            " [  0   0  29 213  12]\n",
            " [  0   0   0  11   2]]\n"
          ]
        },
        {
          "output_type": "display_data",
          "data": {
            "text/plain": [
              "<Figure size 432x288 with 2 Axes>"
            ],
            "image/png": "[encoded data removed]"
          },
          "metadata": {}
        }
      ]
    },
    {
      "cell_type": "markdown",
      "source": [
        "Random Forest classifier is giving 73% accuracy."
      ],
      "metadata": {
        "id": "U2lYrbuqcYdw"
      }
    },
    {
      "cell_type": "markdown",
      "source": [
        "## Applying Adaptive Boosting Classifier"
      ],
      "metadata": {
        "id": "cT3P_cTvcqb7"
      }
    },
    {
      "cell_type": "code",
      "source": [
        "MODEL(AdaBoostClassifier(), X_train, Y_train, X_test, Y_test)"
      ],
      "metadata": {
        "colab": {
          "base_uri": "https://localhost:8080/",
          "height": 459
        },
        "id": "F6ypCL6VbQAg",
        "outputId": "f0d66909-7d5e-4951-ca9f-7ef8358b4efc"
      },
      "execution_count": 80,
      "outputs": [
        {
          "output_type": "stream",
          "name": "stdout",
          "text": [
            "Accuaracy-Score: 65.54 %\n",
            "Precision-Score: 66.17 %\n",
            "Recall-Score: 65.54 %\n",
            "F1-Score: 63.8 %\n",
            "Confusion Matrix :\n",
            " [[ 81   7   0   0   0]\n",
            " [ 19  64  28   0   0]\n",
            " [  0   4 107  23   0]\n",
            " [  0   0  45 209   0]\n",
            " [  0   0   0  13   0]]\n"
          ]
        },
        {
          "output_type": "display_data",
          "data": {
            "text/plain": [
              "<Figure size 432x288 with 2 Axes>"
            ],
            "image/png": "[encoded data removed]"
          },
          "metadata": {}
        }
      ]
    },
    {
      "cell_type": "markdown",
      "source": [
        "Adaptive Boosting Classifier is giving 66% Accuracy."
      ],
      "metadata": {
        "id": "7mF-nBwBcyc7"
      }
    },
    {
      "cell_type": "markdown",
      "source": [
        "## Stacking Classifier"
      ],
      "metadata": {
        "id": "PXKGnIvMdAgw"
      }
    },
    {
      "cell_type": "code",
      "source": [
        "# get a stacking ensemble of models\n",
        "def get_stacking():\n",
        "    # define the base models\n",
        "    level0 = list()\n",
        "    level0.append(('knn', KNeighborsClassifier()))\n",
        "    level0.append(('svm', SVC()))\n",
        "    level0.append(('bayes', GaussianNB()))\n",
        "    # define meta learner model\n",
        "    level1 = DecisionTreeClassifier()\n",
        "    # define the stacking ensemble\n",
        "    model = StackingClassifier(estimators=level0, final_estimator=level1, cv=5)\n",
        "    return model\n",
        "\n",
        "MODEL(get_stacking(), X_train, Y_train, X_test, Y_test)"
      ],
      "metadata": {
        "colab": {
          "base_uri": "https://localhost:8080/",
          "height": 459
        },
        "id": "zGWZpxGgbP-X",
        "outputId": "e6689046-edab-42be-827f-29a08359d5f0"
      },
      "execution_count": 81,
      "outputs": [
        {
          "output_type": "stream",
          "name": "stdout",
          "text": [
            "Accuaracy-Score: 70.58 %\n",
            "Precision-Score: 70.59 %\n",
            "Recall-Score: 69.96 %\n",
            "F1-Score: 70.07 %\n",
            "Confusion Matrix :\n",
            " [[ 72  16   0   0   0]\n",
            " [ 18  75  18   0   0]\n",
            " [  0  22  77  35   0]\n",
            " [  0   1  33 204  16]\n",
            " [  0   0   0  12   1]]\n"
          ]
        },
        {
          "output_type": "display_data",
          "data": {
            "text/plain": [
              "<Figure size 432x288 with 2 Axes>"
            ],
            "image/png": "[encoded data removed]"
          },
          "metadata": {}
        }
      ]
    },
    {
      "cell_type": "markdown",
      "source": [
        "Stacking classifier is giving 71% accuracy."
      ],
      "metadata": {
        "id": "wOg_4UcOdYv_"
      }
    },
    {
      "cell_type": "code",
      "source": [
        "# Finding a good K to train the model.\n",
        "\n",
        "from sklearn import neighbors\n",
        "error_rate = []\n",
        "for i in range(1,10):\n",
        "  clf_food = neighbors.KNeighborsClassifier(n_neighbors=i)\n",
        "  clf_food.fit(X_train,Y_train)\n",
        "  pred_i = clf_food.predict(X_test)\n",
        "  error_rate.append(np.mean(pred_i != Y_test))\n",
        "\n",
        "plt.figure(figsize=(10,6))\n",
        "plt.plot(range(1,10),error_rate,color='blue', linestyle='dashed', marker='o',markerfacecolor='red', markersize=10)\n",
        "plt.title('Error Rate vs. K Value')\n",
        "plt.xlabel('K')\n",
        "plt.ylabel('Error Rate')\n",
        "print(\"Minimum error:-\",min(error_rate),\"at K =\",error_rate.index(min(error_rate))+1)"
      ],
      "metadata": {
        "colab": {
          "base_uri": "https://localhost:8080/",
          "height": 427
        },
        "id": "a6GTi2sjl3SQ",
        "outputId": "fe4bcfc8-2642-43a9-f4d4-13e6ce869047"
      },
      "execution_count": null,
      "outputs": [
        {
          "output_type": "stream",
          "name": "stdout",
          "text": [
            "Minimum error:- 0.125 at K = 7\n"
          ]
        },
        {
          "output_type": "display_data",
          "data": {
            "text/plain": [
              "<Figure size 720x432 with 1 Axes>"
            ],
            "image/png": "[encoded data removed]"
          },
          "metadata": {}
        }
      ]
    },
    {
      "cell_type": "markdown",
      "source": [
        "optimum k value is 7 because it's giving satisfying accuracy and minimum error of 0.13."
      ],
      "metadata": {
        "id": "Rx9CMT87pEJT"
      }
    },
    {
      "cell_type": "markdown",
      "source": [
        "## Building a KNN Classification model by fitting the training dataset"
      ],
      "metadata": {
        "id": "tjxlf-A1pcZB"
      }
    },
    {
      "cell_type": "code",
      "source": [
        "k=7\n",
        "MODEL(neighbors.KNeighborsClassifier(k), X_train, Y_train, X_test, Y_test)"
      ],
      "metadata": {
        "colab": {
          "base_uri": "https://localhost:8080/",
          "height": 459
        },
        "id": "x4VENyPagemy",
        "outputId": "bfacb3ca-cd1e-49e5-ff37-f3798040f70b"
      },
      "execution_count": 85,
      "outputs": [
        {
          "output_type": "stream",
          "name": "stdout",
          "text": [
            "Accuaracy-Score: 77.76 %\n",
            "Precision-Score: 76.18 %\n",
            "Recall-Score: 77.76 %\n",
            "F1-Score: 76.75 %\n",
            "Confusion Matrix :\n",
            " [[ 75  13   0   0   0]\n",
            " [ 11  81  19   0   0]\n",
            " [  0  10  93  31   0]\n",
            " [  0   0  20 234   0]\n",
            " [  0   0   0  13   0]]\n"
          ]
        },
        {
          "output_type": "display_data",
          "data": {
            "text/plain": [
              "<Figure size 432x288 with 2 Axes>"
            ],
            "image/png": "[encoded data removed]"
          },
          "metadata": {}
        }
      ]
    },
    {
      "cell_type": "markdown",
      "source": [
        "KNN Classifier is a good model giving 78% accuracy."
      ],
      "metadata": {
        "id": "iSqO4Sunr1XG"
      }
    },
    {
      "cell_type": "markdown",
      "source": [
        "## From the above all model we found that logistic regression model is giving 80% accuracy.\n",
        "\n",
        "\n",
        "\n",
        "*   Accuaracy-Score: 79.44 %\n",
        "*   Precision-Score: 77.25 %\n",
        "*   Recall-Score: 79.44 %\n",
        "*   F1-Score: 78.14 %\n",
        "\n",
        "## So we can say logistic regression is the best model among all.\n",
        "\n"
      ],
      "metadata": {
        "id": "Cs4sS2FJhaW5"
      }
    },
    {
      "cell_type": "markdown",
      "source": [
        "## Training the model using logistic regression"
      ],
      "metadata": {
        "id": "DbiXhojojLHx"
      }
    },
    {
      "cell_type": "code",
      "source": [
        "# training model\n",
        "model = LogisticRegression()\n",
        "clf = model.fit(X_train,Y_train)"
      ],
      "metadata": {
        "id": "iiYIrbcvjWiN"
      },
      "execution_count": 90,
      "outputs": []
    },
    {
      "cell_type": "code",
      "source": [
        "# predicting values\n",
        "y_pred = clf.predict(X_test)\n",
        "print('Predicted values of grade of houses are as follows:')\n",
        "y_pred"
      ],
      "metadata": {
        "colab": {
          "base_uri": "https://localhost:8080/"
        },
        "id": "92Mlc3POhvc8",
        "outputId": "8d6844b0-46d1-4ece-ff8b-1943444fd5d0"
      },
      "execution_count": 91,
      "outputs": [
        {
          "output_type": "stream",
          "name": "stdout",
          "text": [
            "Predicted values of grade of houses are as follows:\n"
          ]
        },
        {
          "output_type": "execute_result",
          "data": {
            "text/plain": [
              "array([3, 0, 3, 3, 0, 3, 1, 2, 3, 3, 2, 3, 1, 3, 3, 1, 3, 3, 0, 3, 3, 0,\n",
              "       1, 3, 3, 3, 3, 3, 2, 3, 2, 2, 3, 0, 3, 3, 1, 3, 2, 3, 3, 3, 3, 2,\n",
              "       3, 3, 0, 3, 3, 3, 3, 2, 2, 3, 1, 3, 3, 3, 2, 3, 3, 3, 0, 1, 0, 2,\n",
              "       3, 2, 3, 0, 2, 3, 3, 1, 3, 3, 1, 1, 0, 3, 3, 3, 1, 1, 3, 1, 3, 3,\n",
              "       3, 3, 2, 3, 3, 1, 3, 3, 1, 2, 2, 3, 2, 3, 3, 1, 3, 2, 3, 0, 2, 0,\n",
              "       2, 0, 1, 2, 3, 2, 0, 3, 1, 2, 2, 0, 0, 3, 3, 3, 3, 3, 3, 3, 3, 3,\n",
              "       2, 3, 2, 1, 2, 2, 3, 0, 1, 3, 0, 0, 3, 3, 2, 3, 2, 3, 2, 3, 3, 2,\n",
              "       1, 3, 3, 1, 0, 2, 1, 0, 0, 3, 2, 3, 3, 3, 0, 3, 1, 1, 3, 3, 3, 3,\n",
              "       3, 0, 3, 3, 3, 3, 3, 0, 3, 2, 3, 0, 2, 3, 2, 1, 2, 1, 1, 0, 3, 1,\n",
              "       3, 0, 3, 0, 2, 3, 3, 3, 1, 0, 1, 1, 3, 2, 2, 3, 1, 2, 3, 2, 1, 3,\n",
              "       3, 3, 3, 3, 1, 0, 3, 2, 2, 2, 3, 0, 2, 0, 2, 3, 3, 0, 1, 1, 3, 3,\n",
              "       3, 2, 2, 1, 3, 1, 0, 3, 0, 3, 2, 3, 3, 1, 3, 0, 3, 2, 2, 3, 0, 2,\n",
              "       3, 3, 1, 0, 2, 2, 1, 3, 2, 2, 3, 2, 3, 2, 0, 3, 0, 1, 3, 3, 2, 3,\n",
              "       1, 2, 2, 3, 2, 3, 3, 1, 3, 3, 3, 0, 1, 2, 3, 3, 3, 3, 1, 2, 3, 0,\n",
              "       3, 1, 1, 3, 2, 0, 3, 3, 2, 0, 3, 3, 2, 3, 3, 2, 0, 3, 0, 2, 1, 2,\n",
              "       0, 3, 0, 2, 2, 3, 3, 3, 3, 3, 3, 1, 2, 0, 1, 2, 3, 2, 1, 3, 2, 3,\n",
              "       3, 2, 3, 0, 3, 3, 0, 2, 0, 1, 3, 0, 2, 3, 2, 3, 3, 3, 1, 1, 3, 1,\n",
              "       1, 3, 2, 3, 3, 3, 0, 1, 1, 1, 1, 3, 3, 2, 2, 3, 3, 2, 3, 1, 3, 0,\n",
              "       2, 1, 3, 2, 3, 3, 2, 3, 3, 1, 3, 2, 1, 1, 0, 3, 2, 3, 2, 2, 2, 3,\n",
              "       3, 3, 3, 2, 3, 1, 1, 1, 3, 0, 3, 2, 2, 2, 3, 3, 3, 1, 1, 3, 1, 1,\n",
              "       3, 3, 1, 1, 3, 2, 3, 1, 3, 0, 0, 3, 1, 2, 3, 2, 1, 0, 2, 0, 1, 3,\n",
              "       3, 0, 3, 3, 1, 1, 0, 2, 2, 1, 1, 0, 2, 2, 1, 3, 3, 1, 3, 3, 3, 2,\n",
              "       0, 3, 0, 3, 3, 1, 0, 2, 1, 1, 0, 1, 0, 3, 2, 3, 0, 0, 3, 3, 1, 1,\n",
              "       3, 3, 2, 0, 0, 3, 0, 3, 1, 2, 2, 3, 3, 3, 3, 1, 1, 0, 3, 2, 3, 3,\n",
              "       2, 3, 3, 3, 2, 3, 2, 3, 0, 1, 1, 1, 3, 3, 3, 3, 3, 1, 1, 3, 1, 1,\n",
              "       0, 1, 3, 2, 3, 0, 3, 1, 3, 1, 1, 2, 1, 3, 3, 3, 3, 3, 3, 2, 1, 3,\n",
              "       3, 1, 3, 0, 3, 3, 3, 3, 3, 3, 1, 2, 3, 0, 3, 3, 0, 3, 0, 1, 1, 3,\n",
              "       1, 3, 3, 3, 1, 0])"
            ]
          },
          "metadata": {},
          "execution_count": 91
        }
      ]
    },
    {
      "cell_type": "code",
      "source": [
        "# plotting actual and pred values of first 50 datapoints \n",
        "x_1 = list(np.arange(0,len(Y_test.iloc[:50])))\n",
        "plt.figure(figsize=(17,5))\n",
        "plt.scatter(x_1,Y_test.iloc[:50],color='red')\n",
        "plt.scatter(x_1,pd.Series(y_pred).iloc[:50],color='blue')\n",
        "plt.xlabel('X', fontsize = 15)\n",
        "plt.ylabel('Grades' , fontsize = 15)\n",
        "plt.legend(['Actual','Predicted'],loc=\"upper right\",fontsize = 12)\n",
        "plt.title('Actual VS Predicted' , fontsize = 18);"
      ],
      "metadata": {
        "colab": {
          "base_uri": "https://localhost:8080/",
          "height": 361
        },
        "id": "3eQ9hScAjcLh",
        "outputId": "cca8d6ab-4aac-49d8-8cd6-11d8b9542b95"
      },
      "execution_count": 94,
      "outputs": [
        {
          "output_type": "display_data",
          "data": {
            "text/plain": [
              "<Figure size 1224x360 with 1 Axes>"
            ],
            "image/png": "[encoded data removed]"
          },
          "metadata": {}
        }
      ]
    }
  ]
}